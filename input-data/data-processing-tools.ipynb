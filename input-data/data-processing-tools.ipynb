{
 "cells": [
  {
   "cell_type": "markdown",
   "metadata": {},
   "source": [
    "# Data processing\n",
    "\n",
    "This notebook can be used for processing various data formats found in this folder. \n",
    "\n",
    "Some of these datasets are already somewhat edited by hand before being edited here \n",
    "(e.g. reformatting to consistent columns). But as minimally as possible."
   ]
  },
  {
   "cell_type": "code",
   "execution_count": 2,
   "metadata": {},
   "outputs": [
    {
     "ename": "SyntaxError",
     "evalue": "invalid syntax (<ipython-input-2-64acacc73f51>, line 17)",
     "output_type": "error",
     "traceback": [
      "\u001b[0;36m  File \u001b[0;32m\"<ipython-input-2-64acacc73f51>\"\u001b[0;36m, line \u001b[0;32m17\u001b[0m\n\u001b[0;31m    import ../gst_tools.gst_utils as utils\u001b[0m\n\u001b[0m           ^\u001b[0m\n\u001b[0;31mSyntaxError\u001b[0m\u001b[0;31m:\u001b[0m invalid syntax\n"
     ]
    }
   ],
   "source": [
    "# import modules\n",
    "\n",
    "# system\n",
    "import re\n",
    "import sys\n",
    "import os\n",
    "\n",
    "# data handling\n",
    "import pandas as pd\n",
    "import numpy as np\n",
    "\n",
    "# open climate data packages\n",
    "from countrygroups import UNFCCC, EUROPEAN_UNION, ANNEX_ONE, NON_ANNEX_ONE\n",
    "from shortcountrynames import to_name\n",
    "\n",
    "# global stocktake tools\n",
    "#import gst_tools.gst_utils as utils"
   ]
  },
  {
   "cell_type": "code",
   "execution_count": null,
   "metadata": {},
   "outputs": [],
   "source": [
    "# user options\n",
    "\n",
    "raw_data_file = \"WDI2017P_POP_04-Apr-2019.csv\"\n",
    "\n",
    "# choose something useful! These will be used to generate the new filename.\n",
    "new_variable_name = 'population'\n",
    "new_source_name = 'WDI2017'\n",
    "\n",
    "# Based on countrygroups package, select the group of countries you would like to extract. \n",
    "# Note that the raw data also includes groups.\n",
    "needed_countries = UNFCCC\n",
    "\n",
    "# First year of data needed for further plotting\n",
    "start_year = 1990 \n",
    " "
   ]
  },
  {
   "cell_type": "code",
   "execution_count": null,
   "metadata": {},
   "outputs": [],
   "source": [
    "# get the data\n",
    "raw_data_folder = os.path.join('input-data', 'PRIMAP')\n",
    "fname = os.path.join('', raw_data_folder, raw_data_file)\n",
    "print('reading ' + fname)\n",
    "raw_data = pd.read_csv(fname)\n",
    "\n",
    "# rename some columns\n",
    "new_data = raw_data.rename(columns={'countryISO': 'country'})\n",
    "\n",
    "# reduce to a complete set\n",
    "\n",
    "# reduce the countries or regions to only those desired\n",
    "new_data = new_data.loc[new_data['country'].isin(needed_countries)]\n",
    "\n",
    "# tell the user if any of the needed countries are missing and, if yes, which ones:\n",
    "missing_countries = list(set(needed_countries) - set(new_data['country'].unique()))\n",
    "if missing_countries:\n",
    "    print('Not all countries requested were available in the raw data. You are missing the following:')\n",
    "    for country in missing_countries:\n",
    "        print('   ' + to_name(country))\n",
    "    print('---------')\n",
    "                \n",
    "# reduce to only required years\n",
    "new_data = utils.change_first_year(new_data, start_year)\n",
    "\n",
    "# make the columns strings\n",
    "new_data.columns = new_data.columns.astype(str)\n",
    "\n",
    "new_data"
   ]
  },
  {
   "cell_type": "code",
   "execution_count": null,
   "metadata": {},
   "outputs": [],
   "source": []
  }
 ],
 "metadata": {
  "kernelspec": {
   "display_name": "Python 3",
   "language": "python",
   "name": "python3"
  },
  "language_info": {
   "codemirror_mode": {
    "name": "ipython",
    "version": 3
   },
   "file_extension": ".py",
   "mimetype": "text/x-python",
   "name": "python",
   "nbconvert_exporter": "python",
   "pygments_lexer": "ipython3",
   "version": "3.7.0"
  }
 },
 "nbformat": 4,
 "nbformat_minor": 2
}
