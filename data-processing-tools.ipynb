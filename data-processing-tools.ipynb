{
 "cells": [
  {
   "cell_type": "markdown",
   "metadata": {},
   "source": [
    "# Data processing\n",
    "\n",
    "This notebook can be used for processing various data formats found in this folder. \n",
    "\n",
    "Some of these datasets are already somewhat edited by hand before being edited here \n",
    "(e.g. reformatting to consistent columns). But as minimally as possible."
   ]
  },
  {
   "cell_type": "code",
   "execution_count": 6,
   "metadata": {},
   "outputs": [],
   "source": [
    "# import modules\n",
    "\n",
    "# system\n",
    "import re\n",
    "import sys\n",
    "import os\n",
    "\n",
    "# data handling\n",
    "import pandas as pd\n",
    "import numpy as np\n",
    "\n",
    "from countrynames import to_code_3\n",
    "\n",
    "# open climate data packages\n",
    "from countrygroups import UNFCCC, EUROPEAN_UNION, ANNEX_ONE, NON_ANNEX_ONE\n",
    "from shortcountrynames import to_name\n",
    "\n",
    "# global stocktake tools\n",
    "import gst_tools.gst_utils as utils\n",
    "\n"
   ]
  },
  {
   "cell_type": "code",
   "execution_count": 18,
   "metadata": {},
   "outputs": [
    {
     "name": "stdout",
     "output_type": "stream",
     "text": [
      "reading input-data/EIA-International_data-energy-production-consumption-by-country.csv\n"
     ]
    },
    {
     "name": "stderr",
     "output_type": "stream",
     "text": [
      "/usr/local/lib/python3.7/site-packages/normality/transliteration.py:56: UnicodeWarning: No transliteration library is available. Install 'pyicu' or 'text_unidecode' or 'unidecode'.\n",
      "  warn(\"No transliteration library is available. Install 'pyicu' or 'text_unidecode' or 'unidecode'.\", UnicodeWarning)  # noqa\n"
     ]
    },
    {
     "name": "stdout",
     "output_type": "stream",
     "text": [
      "Some countries being trimmed from dataset:\n",
      "   Martinique\n",
      "   U.S. Virgin Islands\n",
      "   Puerto Rico\n"
     ]
    },
    {
     "name": "stderr",
     "output_type": "stream",
     "text": [
      "/usr/local/lib/python3.7/site-packages/ipykernel_launcher.py:34: SettingWithCopyWarning: \n",
      "A value is trying to be set on a copy of a slice from a DataFrame.\n",
      "Try using .loc[row_indexer,col_indexer] = value instead\n",
      "\n",
      "See the caveats in the documentation: http://pandas.pydata.org/pandas-docs/stable/indexing.html#indexing-view-versus-copy\n"
     ]
    },
    {
     "ename": "KeyError",
     "evalue": "None",
     "output_type": "error",
     "traceback": [
      "\u001b[0;31m---------------------------------------------------------------------------\u001b[0m",
      "\u001b[0;31mKeyError\u001b[0m                                  Traceback (most recent call last)",
      "\u001b[0;32m<ipython-input-18-abb58f14765b>\u001b[0m in \u001b[0;36m<module>\u001b[0;34m()\u001b[0m\n\u001b[1;32m     38\u001b[0m     \u001b[0mprint\u001b[0m\u001b[0;34m(\u001b[0m\u001b[0;34m'Some countries being trimmed from dataset:'\u001b[0m\u001b[0;34m)\u001b[0m\u001b[0;34m\u001b[0m\u001b[0m\n\u001b[1;32m     39\u001b[0m     \u001b[0;32mfor\u001b[0m \u001b[0mcountry\u001b[0m \u001b[0;32min\u001b[0m \u001b[0mremoved_countries\u001b[0m\u001b[0;34m:\u001b[0m\u001b[0;34m\u001b[0m\u001b[0m\n\u001b[0;32m---> 40\u001b[0;31m         \u001b[0;32mif\u001b[0m \u001b[0mto_name\u001b[0m\u001b[0;34m(\u001b[0m\u001b[0mcountry\u001b[0m\u001b[0;34m)\u001b[0m\u001b[0;34m:\u001b[0m\u001b[0;34m\u001b[0m\u001b[0m\n\u001b[0m\u001b[1;32m     41\u001b[0m             \u001b[0mprint\u001b[0m\u001b[0;34m(\u001b[0m\u001b[0;34m'   '\u001b[0m \u001b[0;34m+\u001b[0m \u001b[0mto_name\u001b[0m\u001b[0;34m(\u001b[0m\u001b[0mcountry\u001b[0m\u001b[0;34m)\u001b[0m\u001b[0;34m)\u001b[0m\u001b[0;34m\u001b[0m\u001b[0m\n\u001b[1;32m     42\u001b[0m     \u001b[0mprint\u001b[0m\u001b[0;34m(\u001b[0m\u001b[0;34m'---------'\u001b[0m\u001b[0;34m)\u001b[0m\u001b[0;34m\u001b[0m\u001b[0m\n",
      "\u001b[0;32m/usr/local/lib/python3.7/site-packages/shortcountrynames/__init__.py\u001b[0m in \u001b[0;36mto_name\u001b[0;34m(code)\u001b[0m\n\u001b[1;32m    269\u001b[0m \u001b[0;34m\u001b[0m\u001b[0m\n\u001b[1;32m    270\u001b[0m     Non-standard codes: EU and EUU for European Union, XK and XKX for Kosovo\"\"\"\n\u001b[0;32m--> 271\u001b[0;31m     \u001b[0;32mreturn\u001b[0m \u001b[0mnames\u001b[0m\u001b[0;34m[\u001b[0m\u001b[0mcode\u001b[0m\u001b[0;34m]\u001b[0m\u001b[0;34m\u001b[0m\u001b[0m\n\u001b[0m",
      "\u001b[0;31mKeyError\u001b[0m: None"
     ]
    }
   ],
   "source": [
    "# 1 EIA Energy data\n",
    "\n",
    "# !!! Currently retains all available countries because EIA data has country names and no ISO codes !!!\n",
    "\n",
    "# some of the data from the EIA has been pre-processed to an easy to read .csv file. However, a \n",
    "# bit more processing is needed to generate separate .csv files for each variable. That is \n",
    "# performed by this section of the notebook. It does not need to be repeated but is retained\n",
    "# here for documentation. \n",
    "\n",
    "raw_data_file = \"EIA-International_data-energy-production-consumption-by-country.csv\"\n",
    "\n",
    "# first available year is 1980, but more data available later\n",
    "start_year = 1990\n",
    "\n",
    "# Based on countrygroups package, select the group of countries you would like to extract. \n",
    "# Note that the raw data may also include groups.\n",
    "needed_countries = UNFCCC\n",
    "new_source_name = 'EIA'\n",
    "\n",
    "# get the data\n",
    "fname = os.path.join('', 'input-data', raw_data_file)\n",
    "print('reading ' + fname)\n",
    "raw_data = pd.read_csv(fname)\n",
    "new_data = raw_data.dropna()\n",
    "\n",
    "# rename some columns\n",
    "#new_data = raw_data.rename(columns={'countryISO': 'country'})\n",
    "\n",
    "# reduce the countries or regions to only those desired\n",
    "# and tell the user which ones are being removed\n",
    "\n",
    "# rename countries to ISO-3 codes\n",
    "#for country in new_data['country']: countrynames.to_code_3(country)\n",
    "new_data['country'] = new_data['country'].apply(to_code_3)\n",
    "all_countries = new_data['country'].unique()\n",
    "removed_countries = list(set(all_countries) - set(needed_countries))\n",
    "if removed_countries:\n",
    "    print('Some countries being trimmed from dataset:')\n",
    "    for country in removed_countries:\n",
    "        if country:\n",
    "            print('   ' + to_name(country))\n",
    "    print('---------')\n",
    "new_data = new_data.loc[new_data['country'].isin(needed_countries)]\n",
    "\n",
    "# tell the user if any of the needed countries are missing and, if yes, which ones:\n",
    "missing_countries = list(set(needed_countries) - set(new_data['country'].unique()))\n",
    "if missing_countries:\n",
    "    print('Not all countries requested were available in the raw data. You are missing the following:')\n",
    "    for country in missing_countries:\n",
    "        print('   ' + to_name(country))\n",
    "    print('---------')\n",
    "    \n",
    "# Check for available variables and sectors\n",
    "variables = new_data['variable'].unique()\n",
    "fuels = new_data['fuel'].unique()\n",
    "  \n",
    "# make a new file with each one...\n",
    "\n",
    "for var in variables:\n",
    "    for fuel in fuels:\n",
    "        \n",
    "        print('getting data for ' + var + ' and ' + fuel)\n",
    "        \n",
    "        data_selected = new_data.loc[(new_data['variable'] == var) &\n",
    "                                     (new_data['fuel'] == fuel)]\n",
    "        \n",
    "        # Check the data format\n",
    "        if not utils.verify_data_format(data_selected):\n",
    "\n",
    "            print('WARNING: The data is not correctly formatted! Please check your input data and processing!')\n",
    "\n",
    "        else:\n",
    "\n",
    "            # define the variable name\n",
    "            new_variable_name = (var + '-' + fuel)\n",
    "            new_variable_name = new_variable_name.replace(' ', '-').lower()\n",
    "            data_selected['variable'] = new_variable_name\n",
    "            \n",
    "            # make nans were appropriate\n",
    "            data_selected = data_selected.replace('(s)','nan')\n",
    "            data_selected = data_selected.replace('--','nan')\n",
    "            \n",
    "            data_selected = utils.change_first_year(data_selected, start_year)\n",
    "            \n",
    "            # make column names strings\n",
    "            data_selected.columns = data_selected.columns.astype(str)\n",
    "            \n",
    "            # define filename as composite of variable and source name\n",
    "            fname_out = new_source_name + '_' + new_variable_name + '.csv' \n",
    "            fullfname_out = os.path.join('proc-data', fname_out)\n",
    "\n",
    "            # check folder exists\n",
    "            if not os.path.exists('proc-data'):\n",
    "                os.makedirs('proc-data')\n",
    "\n",
    "            # write to csv in proc data folder\n",
    "            data_selected.to_csv(fullfname_out, index=False)\n",
    "\n",
    "            # celebrate success \n",
    "            print('Processed data written to file! - ' + fullfname_out)\n",
    "\n",
    "\n",
    "# reduce to only required years\n",
    "#new_data = utils.change_first_year(new_data, start_year)\n",
    "\n",
    "# make the columns strings\n",
    "data_selected"
   ]
  },
  {
   "cell_type": "code",
   "execution_count": 14,
   "metadata": {},
   "outputs": [
    {
     "data": {
      "text/plain": [
       "['MTQ',\n",
       " 'VIR',\n",
       " 'PRI',\n",
       " None,\n",
       " 'MSR',\n",
       " 'REU',\n",
       " 'ANHH',\n",
       " 'NCL',\n",
       " 'GUM',\n",
       " 'ASM',\n",
       " 'SHN',\n",
       " 'FRO',\n",
       " 'ABW',\n",
       " 'MAC',\n",
       " 'GUF',\n",
       " 'GRL',\n",
       " 'ATA',\n",
       " 'GLP',\n",
       " 'TWN',\n",
       " 'GIB',\n",
       " 'VGB',\n",
       " 'CYM',\n",
       " 'SPM',\n",
       " 'MNP',\n",
       " 'HKG',\n",
       " 'BMU',\n",
       " 'PYF',\n",
       " 'ESH',\n",
       " 'XKX',\n",
       " 'TCA']"
      ]
     },
     "execution_count": 14,
     "metadata": {},
     "output_type": "execute_result"
    }
   ],
   "source": [
    "removed_countries\n",
    "\n"
   ]
  },
  {
   "cell_type": "code",
   "execution_count": null,
   "metadata": {},
   "outputs": [],
   "source": []
  }
 ],
 "metadata": {
  "kernelspec": {
   "display_name": "Python 3",
   "language": "python",
   "name": "python3"
  },
  "language_info": {
   "codemirror_mode": {
    "name": "ipython",
    "version": 3
   },
   "file_extension": ".py",
   "mimetype": "text/x-python",
   "name": "python",
   "nbconvert_exporter": "python",
   "pygments_lexer": "ipython3",
   "version": "3.7.0"
  }
 },
 "nbformat": 4,
 "nbformat_minor": 2
}
