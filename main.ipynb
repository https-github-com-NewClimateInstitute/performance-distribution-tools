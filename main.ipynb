{
 "cells": [
  {
   "cell_type": "markdown",
   "metadata": {},
   "source": [
    "### Load packages"
   ]
  },
  {
   "cell_type": "code",
   "execution_count": 1,
   "metadata": {},
   "outputs": [],
   "source": [
    "from user_setup import *\n",
    "from gst_tools import gst_utils as utils\n",
    "from gst_tools import constants\n",
    "import pandas as pd"
   ]
  },
  {
   "cell_type": "markdown",
   "metadata": {},
   "source": [
    "### Load data"
   ]
  },
  {
   "cell_type": "code",
   "execution_count": 2,
   "metadata": {},
   "outputs": [],
   "source": [
    "# Data selection\n",
    "\n",
    "if data == 'emissions':\n",
    "    if extrapol:\n",
    "        raw_data_fname = primap_extrap_fname\n",
    "    else:\n",
    "        raw_data_fname = primap_no_extrap_fname\n",
    "else:\n",
    "    raw_data_fname = bp_world_energy_panel_fname"
   ]
  },
  {
   "cell_type": "code",
   "execution_count": 3,
   "metadata": {},
   "outputs": [
    {
     "name": "stdout",
     "output_type": "stream",
     "text": [
      "Reading input-data/Guetschow-et-al-2021-PRIMAP-hist_v2.3.1_20-Sep_2021.csv\n"
     ]
    }
   ],
   "source": [
    "# Data loading\n",
    "\n",
    "raw_data = utils.load_data(constants.input_folder, raw_data_fname)"
   ]
  },
  {
   "cell_type": "markdown",
   "metadata": {},
   "source": [
    "### Reorganise and filter data"
   ]
  },
  {
   "cell_type": "code",
   "execution_count": 4,
   "metadata": {},
   "outputs": [],
   "source": [
    "# Reorganise dataset for processing\n",
    "\n",
    "if data == 'emissions':\n",
    "    renamed_data = utils.rename_primap(raw_data)\n",
    "elif data == 'energy':\n",
    "    renamed_data = utils.rename_bp(raw_data)\n",
    "else:\n",
    "    print('Error. Please provide a valida dataset type, either \"emissions\" or \"energy\".')"
   ]
  },
  {
   "cell_type": "code",
   "execution_count": 5,
   "metadata": {},
   "outputs": [],
   "source": [
    "#renamed_data[['Country', 'year', 'electbyfuel_ren_power']].loc[(renamed_data['Country'] == 'Canada')]\n",
    "#ren_power_twh\n",
    "#ren_power_twh_net\n",
    "#\n",
    "\n",
    "#What is included in renewables? In ren_power_twh, hydro is not included\n",
    "# renewables include \"others\", which is geothermal, biomass, and other sources\n",
    "\n",
    "#net is different (slightly smaller)"
   ]
  },
  {
   "cell_type": "code",
   "execution_count": 6,
   "metadata": {},
   "outputs": [],
   "source": [
    "#print(list(renamed_data.columns))\n",
    "\n",
    "#Interesting columns\n",
    "#biodiesel_cons_pj\n",
    "#biodiesel_prod_pj\n",
    "#biofuels_cons_ej\n",
    "#biofuels_cons_pj\n",
    "#biofuels_prod_pj\n",
    "#biogeo_ej\n",
    "#biogeo_twh\n",
    "#biogeo_twh_net\n",
    "#coalcons_ej\n",
    "#coalprod_ej\n",
    "\n",
    "#elect_twh\n",
    "#electbyfuel_coal\n",
    "#electbyfuel_gas\n",
    "#electbyfuel_hydro\n",
    "#electbyfuel_nuclear\n",
    "#electbyfuel_oil\n",
    "#electbyfuel_other\n",
    "#electbyfuel_ren_power\n",
    "#electbyfuel_total\n",
    "\n",
    "#ethanol_cons_pj\n",
    "#ethanol_prod_pj\n",
    "#gascons_ej\n",
    "#gasprod_ej\n",
    "#hydro_ej\n",
    "#hydro_twh\n",
    "#hydro_twh_net\n",
    "#nuclear_ej\n",
    "#nuclear_twh\n",
    "#nuclear_twh_net\n",
    "#oilcons_ej\n",
    "\n",
    "#primary_ej\n",
    "#ren_power_ej\n",
    "#ren_power_twh\n",
    "#ren_power_twh_net\n",
    "#renewables_ej\n",
    "#solar_ej\n",
    "#solar_twh\n",
    "#solar_twh_net\n",
    "#wind_ej\n",
    "#wind_twh\n",
    "#wind_twh_net"
   ]
  },
  {
   "cell_type": "code",
   "execution_count": 7,
   "metadata": {},
   "outputs": [
    {
     "name": "stdout",
     "output_type": "stream",
     "text": [
      "Not all countries requested were available in the raw data. You are missing the following:\n",
      "   Palestine\n",
      "---------\n",
      "First year of data available is now 1990\n",
      "Last year of data available is 2019\n",
      "These are the 10 first rows of the processed data:\n",
      "  category country                   gas scenario              source  \\\n",
      "0   M.0.EL     AFG  KYOTOGHG (AR4GWP100)   HISTCR  PRIMAP-hist_v2.3.1   \n",
      "1   M.0.EL     AGO  KYOTOGHG (AR4GWP100)   HISTCR  PRIMAP-hist_v2.3.1   \n",
      "2   M.0.EL     ALB  KYOTOGHG (AR4GWP100)   HISTCR  PRIMAP-hist_v2.3.1   \n",
      "3   M.0.EL     AND  KYOTOGHG (AR4GWP100)   HISTCR  PRIMAP-hist_v2.3.1   \n",
      "4   M.0.EL     ARE  KYOTOGHG (AR4GWP100)   HISTCR  PRIMAP-hist_v2.3.1   \n",
      "5   M.0.EL     ARG  KYOTOGHG (AR4GWP100)   HISTCR  PRIMAP-hist_v2.3.1   \n",
      "6   M.0.EL     ARM  KYOTOGHG (AR4GWP100)   HISTCR  PRIMAP-hist_v2.3.1   \n",
      "7   M.0.EL     ATG  KYOTOGHG (AR4GWP100)   HISTCR  PRIMAP-hist_v2.3.1   \n",
      "8   M.0.EL     AUS  KYOTOGHG (AR4GWP100)   HISTCR  PRIMAP-hist_v2.3.1   \n",
      "9   M.0.EL     AUT  KYOTOGHG (AR4GWP100)   HISTCR  PRIMAP-hist_v2.3.1   \n",
      "\n",
      "          unit                            variable      1990      1991  \\\n",
      "0  Gg CO2 / yr  Total GHG emissions (excl. LULUCF)   12800.0   13000.0   \n",
      "1  Gg CO2 / yr  Total GHG emissions (excl. LULUCF)   55900.0   55700.0   \n",
      "2  Gg CO2 / yr  Total GHG emissions (excl. LULUCF)    5760.0    7560.0   \n",
      "3  Gg CO2 / yr  Total GHG emissions (excl. LULUCF)     456.0     465.0   \n",
      "4  Gg CO2 / yr  Total GHG emissions (excl. LULUCF)   61900.0   68600.0   \n",
      "5  Gg CO2 / yr  Total GHG emissions (excl. LULUCF)  236000.0  242000.0   \n",
      "6  Gg CO2 / yr  Total GHG emissions (excl. LULUCF)   26000.0   24300.0   \n",
      "7  Gg CO2 / yr  Total GHG emissions (excl. LULUCF)     311.0     306.0   \n",
      "8  Gg CO2 / yr  Total GHG emissions (excl. LULUCF)  426000.0  426000.0   \n",
      "9  Gg CO2 / yr  Total GHG emissions (excl. LULUCF)   79300.0   82800.0   \n",
      "\n",
      "       1992  ...      2010      2011      2012      2013      2014      2015  \\\n",
      "0   12000.0  ...   29100.0   33500.0   31600.0   29900.0   29900.0   28800.0   \n",
      "1   55000.0  ...   96600.0   96700.0   97800.0   99100.0  109000.0  103000.0   \n",
      "2    5520.0  ...    8540.0    9310.0    9090.0    9330.0   10100.0    9070.0   \n",
      "3     474.0  ...     593.0     565.0     563.0     551.0     537.0     537.0   \n",
      "4   69900.0  ...  196000.0  205000.0  243000.0  242000.0  235000.0  257000.0   \n",
      "5  248000.0  ...  320000.0  330000.0  334000.0  343000.0  342000.0  348000.0   \n",
      "6   30300.0  ...    8500.0    9350.0   10400.0   10300.0   10400.0   10100.0   \n",
      "7     303.0  ...     552.0     544.0     560.0     565.0     567.0     586.0   \n",
      "8  430000.0  ...  538000.0  539000.0  542000.0  533000.0  527000.0  535000.0   \n",
      "9   76200.0  ...   84900.0   82600.0   80000.0   80300.0   76800.0   78900.0   \n",
      "\n",
      "       2016      2017      2018      2019  \n",
      "0   27900.0   27800.0   27700.0   31500.0  \n",
      "1  104000.0  103000.0   97900.0  101000.0  \n",
      "2    9070.0   10000.0    9570.0    9910.0  \n",
      "3     544.0     547.0     536.0     513.0  \n",
      "4  251000.0  219000.0  219000.0  220000.0  \n",
      "5  350000.0  354000.0  352000.0  339000.0  \n",
      "6   10700.0   10800.0   12100.0   11900.0  \n",
      "7     599.0     603.0     619.0     638.0  \n",
      "8  545000.0  552000.0  552000.0  547000.0  \n",
      "9   80000.0   82300.0   79100.0   80300.0  \n",
      "\n",
      "[10 rows x 37 columns]\n"
     ]
    }
   ],
   "source": [
    "# Filter dataset\n",
    "\n",
    "if baseline_year >= year_of_interest:\n",
    "    print('Error: The baseline year is greater than the year of interest. The baseline year must be smaller than the year of interest.\\n')\n",
    "else:\n",
    "    if data == 'emissions':\n",
    "        proc_data = utils.filter_primap(renamed_data, primap_gas, primap_sector, primap_scenario, countries, baseline_year, constants.gas_names_variable)\n",
    "    else:\n",
    "        proc_data = utils.filter_bp(renamed_data, energy_variable, countries, baseline_year)"
   ]
  },
  {
   "cell_type": "code",
   "execution_count": 8,
   "metadata": {},
   "outputs": [
    {
     "name": "stdout",
     "output_type": "stream",
     "text": [
      "*******************\n",
      "Converting unit from \"Gg CO2 / yr\" to \"MtCO2\" using a conversion factor of 0.001\n",
      "*******************\n"
     ]
    }
   ],
   "source": [
    "# Convert the \"absolute\" dataset to reasonable units\n",
    "\n",
    "convert_from_Gg_to_Mt = True\n",
    "\n",
    "if data == 'emissions' and convert_from_Gg_to_Mt:\n",
    "    proc_data = utils.convert_from_Gg_to_Mt(proc_data)"
   ]
  },
  {
   "cell_type": "code",
   "execution_count": 9,
   "metadata": {},
   "outputs": [],
   "source": [
    "# Define processed data filename\n",
    "\n",
    "if data == 'emissions':\n",
    "    proc_fname = utils.define_primap_proc_fname(proc_data, constants.gas_names_fname, constants.sector_names_fname)\n",
    "else:\n",
    "    proc_fname = utils.define_bp_proc_fname(proc_data)"
   ]
  },
  {
   "cell_type": "code",
   "execution_count": 10,
   "metadata": {},
   "outputs": [
    {
     "name": "stdout",
     "output_type": "stream",
     "text": [
      "Processed data written to file! - proc-data/primap-histcr_v2.3.1_Kyoto_GHGs_AR4_total_excl_LULUCF.csv\n"
     ]
    }
   ],
   "source": [
    "# Write filtered dataset to file\n",
    "\n",
    "utils.write_to_file(proc_data, constants.proc_data_folder, proc_fname)"
   ]
  },
  {
   "cell_type": "markdown",
   "metadata": {},
   "source": [
    "### Normalise dataset if necessary"
   ]
  },
  {
   "cell_type": "code",
   "execution_count": 11,
   "metadata": {},
   "outputs": [],
   "source": [
    "# Normalisation per capita and per USD\n",
    "\n",
    "if data_type != 'absolute':\n",
    "    if data == 'energy' and energy_variable != 3:\n",
    "        print('ERROR: The energy variable selected is a share, so it can be no further normalised.')\n",
    "    else:\n",
    "        if data_type == 'per capita':\n",
    "            pop_dset = utils.rearrange_wb_data(constants.input_folder, wb_population_fname)\n",
    "            final_data = utils.normalise(proc_data, pop_dset, data_type)\n",
    "        else:\n",
    "            gdp_dset = utils.rearrange_wb_data(constants.input_folder, wb_gdp_fname)\n",
    "            final_data = utils.normalise(proc_data, gdp_dset, data_type)\n",
    "        \n",
    "\n",
    "        convert_normalised = True\n",
    "\n",
    "        if convert_normalised:\n",
    "            final_data = utils.convert_norm(final_data, data, data_type)\n",
    "        \n",
    "        utils.write_to_file(final_data, constants.proc_data_folder, proc_fname.replace('.csv', '_'+data_type+'.csv').replace(' ', '_'))\n",
    "            \n",
    "else:\n",
    "    final_data = proc_data"
   ]
  },
  {
   "cell_type": "markdown",
   "metadata": {},
   "source": [
    "### Plot"
   ]
  },
  {
   "cell_type": "code",
   "execution_count": 12,
   "metadata": {},
   "outputs": [],
   "source": [
    "if plot_type != 4:\n",
    "    dset_to_plot, variable, unit = utils.prepare_for_plotting(final_data, plot_type)\n",
    "else:\n",
    "    year_max, start_year, end_year, dset_to_plot, variable, unit = utils.prepare_for_plotting(final_data, plot_type)\n",
    "\n",
    "if data_type == 'emissions':\n",
    "    source = primap_source\n",
    "else:\n",
    "    source = bp_source"
   ]
  },
  {
   "cell_type": "code",
   "execution_count": 13,
   "metadata": {},
   "outputs": [
    {
     "data": {
      "text/plain": [
       "'1990'"
      ]
     },
     "execution_count": 13,
     "metadata": {},
     "output_type": "execute_result"
    }
   ],
   "source": [
    "baseline_year"
   ]
  },
  {
   "cell_type": "code",
   "execution_count": 14,
   "metadata": {},
   "outputs": [],
   "source": [
    "plot_type_text, plot_fname = utils.define_plot_name(plot_type, variable, year_of_interest, baseline_year, constants.output_folder)\n",
    "plot_name = variable + ' - ' + plot_type_text.lower()"
   ]
  },
  {
   "cell_type": "code",
   "execution_count": 15,
   "metadata": {},
   "outputs": [
    {
     "data": {
      "text/plain": [
       "'Year of peaking'"
      ]
     },
     "execution_count": 15,
     "metadata": {},
     "output_type": "execute_result"
    }
   ],
   "source": [
    "plot_type_text"
   ]
  },
  {
   "cell_type": "code",
   "execution_count": 16,
   "metadata": {},
   "outputs": [
    {
     "data": {
      "image/png": "[encoded data removed]",
      "text/plain": [
       "<Figure size 432x288 with 1 Axes>"
      ]
     },
     "metadata": {
      "needs_background": "light"
     },
     "output_type": "display_data"
    }
   ],
   "source": [
    "if plot_type == 1:\n",
    "    #plot_name = 'distribution_of' + variable\n",
    "    utils.make_histogram(dset_to_plot, year_of_interest, unit, plot_type=1, xlabel=plot_type_text, variable_title=variable, sourcename=source, filepath=plot_fname, remove_outliers=True, plot_name=plot_name)\n",
    "elif plot_type == 2:\n",
    "    # run calculations - dataframe of differences in all years relative to the specified year\n",
    "    # the function returns both absolute and relative (%) values\n",
    "    #if baseline_year >= year_of_interest:\n",
    "    #    print('Error: The baseline year is greater than the year of interest.')\n",
    "    #else:\n",
    "    df_abs_diff_baseline, df_perc_diff_baseline = utils.calculate_diff_since_yearX(dset_to_plot, baseline_year)\n",
    "\n",
    "    utils.make_histogram(df_perc_diff_baseline, year_of_interest, unit, plot_type=2, xlabel=plot_type_text, variable_title=variable, sourcename=source, filepath=plot_fname, remove_outliers=True, plot_name=plot_name)\n",
    "elif plot_type == 3:\n",
    "    trends, rolling_trends, trends_unit = utils.calculate_trends(dset_to_plot, num_years_trend=5)\n",
    "#trends_variable = 'average annual change'\n",
    "#thistitle = \"5-year rolling average trend in \\n\" + variable_name_to_display + \"\\nin \" + str(data_years.columns[-1])\n",
    "    \n",
    "    utils.make_histogram(rolling_trends, year_of_interest, trends_unit, plot_type=3, xlabel=plot_type_text, variable_title='5-year rolling average trend in ' + variable, sourcename=source, filepath=plot_fname, remove_outliers=True, plot_name=plot_name, ktuk=2)\n",
    "# make a plot showing the trend in the final year of available data\n",
    "elif plot_type == 4:\n",
    "\n",
    "    utils.make_histogram_peaking(year_max, variable, '', start_year, end_year, save_plot=False)\n",
    "\n",
    "\n",
    "else:\n",
    "    print('Error. Please provide a valid plot type.')\n"
   ]
  },
  {
   "cell_type": "code",
   "execution_count": 17,
   "metadata": {},
   "outputs": [
    {
     "name": "stdout",
     "output_type": "stream",
     "text": [
      "Averaging trend over 5 years.\n",
      "\n",
      "Share of countries peaked is 8.7%\n",
      "Share of countries stabilised is 22.4%\n",
      "Share of countries not peaked or stabilised is 68.9%\n",
      "Total is: 100.0%\n",
      "\n"
     ]
    }
   ],
   "source": [
    "# Interrogate the data with different conditions (peak year, decreasing rate) to categorise countries  \n",
    "nyears = 5\n",
    "n_trend_years = 5\n",
    "decrease_threshold = -1.5\n",
    "# set up a dataframe to store analysis results\n",
    "peaking_assessment = pd.DataFrame()\n",
    "peaking_assessment['max year'] = year_max\n",
    "  \n",
    "\n",
    "# Identify countries that have 'peaked' before the time period chosen by the user above (n years ago)\n",
    "peaking_assessment['max_reached'] = peaking_assessment['max year'].apply(\n",
    "                                                                lambda x : (x < (end_year - nyears)))\n",
    "\n",
    "# Identify countries with decreasing emissions trends\n",
    "recent_trends, recent_trends_rolling, unit = utils.calculate_trends(dset_to_plot, num_years_trend=n_trend_years)\n",
    "peaking_assessment['trend'] = recent_trends_rolling[str(end_year)]\n",
    "\n",
    "peaking_assessment['decreasing'] = peaking_assessment['trend'].apply(lambda x: (x < 0))\n",
    "peaking_assessment['strongly_decreasing'] = peaking_assessment['trend'].apply(lambda x: (x < decrease_threshold))\n",
    "peaking_assessment['stable'] = peaking_assessment['trend'].apply(lambda x: (decrease_threshold < x < 0.5))\n",
    "\n",
    "\n",
    "# Use multi-criteria to define different regimes\n",
    "# First, the clear cases...\n",
    "peaking_assessment['peaked']     = peaking_assessment['max_reached'] & \\\n",
    "                                   peaking_assessment['strongly_decreasing']\n",
    "\n",
    "peaking_assessment['stabilised'] = (peaking_assessment['max_reached'] & \\\n",
    "                                    peaking_assessment['stable']) | \\\n",
    "                                   ((peaking_assessment['max_reached']==False) & \\\n",
    "                                    (peaking_assessment['strongly_decreasing']))\n",
    "\n",
    "peaking_assessment['not_peaked'] = (peaking_assessment['stabilised']==False) & \\\n",
    "                                   (peaking_assessment['peaked']==False)\n",
    "\n",
    "\n",
    "# Get stats of shares\n",
    "share_peaked     = peaking_assessment['peaked'].value_counts(normalize=True) \n",
    "share_stabilised = peaking_assessment['stabilised'].value_counts(normalize=True)\n",
    "share_increasing = peaking_assessment['not_peaked'].value_counts(normalize=True)\n",
    "check_total = share_peaked[True] + share_stabilised[True] + share_increasing[True]\n",
    "\n",
    "\n",
    "# and print to screen...\n",
    "print('')\n",
    "print('Share of countries peaked is {:.1f}%'.format(share_peaked[True]*100))\n",
    "print('Share of countries stabilised is {:.1f}%'.format(share_stabilised[True]*100))\n",
    "print('Share of countries not peaked or stabilised is {:.1f}%'.format(share_increasing[True]*100))\n",
    "print('Total is: {:.1f}%'.format(check_total*100))\n",
    "print('')"
   ]
  },
  {
   "cell_type": "code",
   "execution_count": 18,
   "metadata": {},
   "outputs": [],
   "source": [
    "# Make a plot to summarise how many countries fall into each group.\n",
    "\n",
    "# count the number of countries in each category\n",
    "number_peaked     = peaking_assessment['peaked'].value_counts(normalize=False) \n",
    "number_stabilised = peaking_assessment['stabilised'].value_counts(normalize=False)\n",
    "number_increasing = peaking_assessment['not_peaked'].value_counts(normalize=False)\n",
    "total_countries = number_peaked[True] + number_stabilised[True] + number_increasing[True]\n",
    "\n",
    "# define new dataframe\n",
    "summary_data = pd.DataFrame({'category': ['peaked', 'stabilised', 'not peaked'],\n",
    "                             'count': [number_peaked[True],  number_stabilised[True], number_increasing[True]]})\n",
    "\n",
    "# make the plot\n",
    "utils.peaking_barplot(summary_data, variable, str(end_year), save_plot=True)"
   ]
  },
  {
   "cell_type": "code",
   "execution_count": 19,
   "metadata": {},
   "outputs": [],
   "source": [
    "# And make some plots to view and check the results. \n",
    "\n",
    "\n",
    "\"\"\"\n",
    "These functions will plot facet grids of the emissions trends and absolute emissions\n",
    "for all countries in each category. \n",
    "\n",
    "Note that this can take quite some time to run! \n",
    "\"\"\"\n",
    "\n",
    "\n",
    "# 1. Peaking\n",
    "# prep data for plotting \n",
    "peaked_country_trends = recent_trends_rolling[peaking_assessment['peaked']]\n",
    "peaked_country_abs = dset_to_plot[peaking_assessment['peaked']] \n",
    "\n",
    "# make the plots\n",
    "utils.plot_facet_grid_countries(peaked_country_trends, 'year', '% change', \n",
    "                          main_title='Countries with peaked emissions', \n",
    "                          plot_name=('peaked-' + variable), save_plot=True)\n",
    "\n",
    "utils.plot_facet_grid_countries(peaked_country_abs, 'year', 'emissions', \n",
    "                          main_title='Absolute emissions for peaked countries', \n",
    "                          plot_name=('peaked-' + variable), save_plot=True)\n",
    "\n",
    "    \n",
    "# 2. Stabilised\n",
    "stab_trends = recent_trends_rolling[peaking_assessment['stabilised']]\n",
    "stab_abs    = dset_to_plot[peaking_assessment['stabilised']] \n",
    "\n",
    "utils.plot_facet_grid_countries(stab_trends, 'year', '% change', \n",
    "                         main_title='Trends in countries with stabilised emissions', \n",
    "                         plot_name=('stabilised-' + variable), save_plot=True)\n",
    "utils.plot_facet_grid_countries(stab_abs, 'year', 'emissions', \n",
    "                         main_title='Emissions in countries with stabilised emissions', \n",
    "                         plot_name=('stabilised-' + variable), save_plot=True)\n",
    "\n",
    "# 3. still increasing\n",
    "not_peaked_trends = recent_trends_rolling[peaking_assessment['not_peaked']]\n",
    "not_peaked_abs    = dset_to_plot[peaking_assessment['not_peaked']] \n",
    "\n",
    "utils.plot_facet_grid_countries(not_peaked_trends, 'year', '% change', \n",
    "                         main_title='Trends in countries with emissions that have not yet peaked',\n",
    "                         plot_name=('not-peaked-' + variable),\n",
    "                         save_plot=True)\n",
    "utils.plot_facet_grid_countries(not_peaked_abs, 'year', 'emissions', \n",
    "                         main_title='Emissions in countries with emissions that have not yet peaked', \n",
    "                         plot_name=('not-peaked-' + variable),\n",
    "                         save_plot=True)"
   ]
  }
 ],
 "metadata": {
  "kernelspec": {
   "display_name": "Python 3.10.5 64-bit (windows store)",
   "language": "python",
   "name": "python3"
  },
  "language_info": {
   "codemirror_mode": {
    "name": "ipython",
    "version": 3
   },
   "file_extension": ".py",
   "mimetype": "text/x-python",
   "name": "python",
   "nbconvert_exporter": "python",
   "pygments_lexer": "ipython3",
   "version": "3.10.5"
  },
  "orig_nbformat": 4,
  "vscode": {
   "interpreter": {
    "hash": "067c62c1e236de093d80dd887d8da7ba373cc52e5c6c0339fad800701e4bd55b"
   }
  }
 },
 "nbformat": 4,
 "nbformat_minor": 2
}
