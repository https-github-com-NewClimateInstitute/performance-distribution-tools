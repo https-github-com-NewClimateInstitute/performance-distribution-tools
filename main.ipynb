{
 "cells": [
  {
   "cell_type": "markdown",
   "metadata": {},
   "source": [
    "### Load packages"
   ]
  },
  {
   "cell_type": "code",
   "execution_count": 1,
   "metadata": {},
   "outputs": [],
   "source": [
    "import pandas as pd\n",
    "\n",
    "from user_setup import *\n",
    "from gst_tools import constants\n",
    "from gst_tools import data_manipulation as utils\n",
    "from gst_tools import plotting"
   ]
  },
  {
   "cell_type": "markdown",
   "metadata": {},
   "source": [
    "### Load data"
   ]
  },
  {
   "cell_type": "code",
   "execution_count": 2,
   "metadata": {},
   "outputs": [],
   "source": [
    "# Data selection\n",
    "\n",
    "if dataset == 1 or dataset == 2:\n",
    "    raw_data_fname = constants.primap_extrap_fname\n",
    "elif dataset == 3:\n",
    "    raw_data_fname = constants.bp_world_energy_panel_fname\n",
    "elif dataset == 4:\n",
    "    raw_data_fname = constants.ipcc_ar6\n",
    "elif dataset == 5:\n",
    "    raw_data_fname = constants.ipcc_ar6_incl_indirect\n",
    "else:\n",
    "    raise ValueError('Error. Please provide a valid data type (either 1, 2, 3 or 4.)')"
   ]
  },
  {
   "cell_type": "code",
   "execution_count": 3,
   "metadata": {},
   "outputs": [],
   "source": [
    "# Data loading\n",
    "\n",
    "raw_data = utils.load_data(constants.input_folder, raw_data_fname)"
   ]
  },
  {
   "cell_type": "markdown",
   "metadata": {},
   "source": [
    "### Reorganise and filter data"
   ]
  },
  {
   "cell_type": "code",
   "execution_count": 4,
   "metadata": {},
   "outputs": [],
   "source": [
    "# Reorganise dataset for processing\n",
    "\n",
    "if dataset == 1 or dataset == 2:\n",
    "    renamed_data = utils.rename_primap(raw_data)\n",
    "elif dataset == 3:\n",
    "    renamed_data = utils.rename_bp(raw_data)\n",
    "elif dataset == 4:\n",
    "    renamed_data = utils.rename_ipcc(raw_data)\n",
    "elif dataset == 5:\n",
    "    renamed_data = utils.rename_ipcc_indirect(raw_data)"
   ]
  },
  {
   "cell_type": "code",
   "execution_count": null,
   "metadata": {},
   "outputs": [],
   "source": [
    "# Filter dataset\n",
    "\n",
    "if dataset == 1:\n",
    "    primap_scenario = 'HISTCR'\n",
    "elif dataset == 2:\n",
    "    primap_scenario = 'HISTTP'\n",
    "\n",
    "if baseline_year >= year_of_interest:\n",
    "    print('Error: The baseline year is greater than the year of interest. The baseline year must be smaller than the year of interest.')\n",
    "else:\n",
    "    if dataset == 1 or dataset == 2:\n",
    "        proc_data = utils.filter_primap(renamed_data, primap_gas, primap_sector, primap_scenario, countries, baseline_year, constants.gas_names_variable)\n",
    "    elif dataset == 3:\n",
    "        proc_data = utils.filter_bp(renamed_data, energy_variable, countries, baseline_year)\n",
    "    elif dataset == 4:\n",
    "        proc_data = utils.filter_ipcc(renamed_data, ipcc_gas, ipcc_sector_or_subsector, countries, baseline_year)\n",
    "    elif dataset == 5:\n",
    "        proc_data = utils.filter_ipcc_indirect(renamed_data, ipcc_gas, ipcc_sector_or_subsector, countries, baseline_year)"
   ]
  },
  {
   "cell_type": "code",
   "execution_count": null,
   "metadata": {},
   "outputs": [],
   "source": [
    "# Convert the \"absolute\" dataset to reasonable units\n",
    "\n",
    "convert_from_Gg_to_Mt = True\n",
    "convert_from_t_to_Mt = True\n",
    "\n",
    "if (dataset == 1 or dataset == 2) and convert_from_Gg_to_Mt:\n",
    "    proc_data = utils.convert_from_Gg_to_Mt(proc_data)\n",
    "elif (dataset == 4 or dataset == 5) and convert_from_t_to_Mt:\n",
    "    proc_data = utils.convert_from_t_to_Mt(proc_data)"
   ]
  },
  {
   "cell_type": "code",
   "execution_count": null,
   "metadata": {},
   "outputs": [],
   "source": [
    "# Define processed data filename\n",
    "\n",
    "if dataset == 1 or dataset == 2:\n",
    "    proc_fname = utils.define_primap_proc_fname(proc_data, constants.gas_names_fname, constants.sector_names_fname)\n",
    "elif dataset == 3:\n",
    "    proc_fname = utils.define_bp_proc_fname(proc_data)\n",
    "elif dataset == 4:\n",
    "    proc_fname = utils.define_ipcc_proc_fname(proc_data)\n",
    "elif dataset == 5:\n",
    "    proc_fname = utils.define_ipcc_proc_fname(proc_data, indirect=True)"
   ]
  },
  {
   "cell_type": "code",
   "execution_count": null,
   "metadata": {},
   "outputs": [],
   "source": [
    "# Write filtered dataset to file\n",
    "\n",
    "utils.write_to_file(proc_data, constants.proc_data_folder, proc_fname)"
   ]
  },
  {
   "cell_type": "markdown",
   "metadata": {},
   "source": [
    "### Normalise dataset if necessary"
   ]
  },
  {
   "cell_type": "code",
   "execution_count": null,
   "metadata": {},
   "outputs": [],
   "source": [
    "# Normalisation per capita and per USD\n",
    "\n",
    "if data_type != 'absolute':\n",
    "    if dataset == 3 and energy_variable != 3:\n",
    "        print('ERROR: The energy variable selected is a share, so it can be no further normalised.')\n",
    "    else:\n",
    "        if data_type == 'per capita':\n",
    "            pop_dset = utils.rearrange_wb_data(constants.input_folder, constants.wb_population_fname)\n",
    "            final_data = utils.normalise(proc_data, pop_dset, data_type)\n",
    "        else:\n",
    "            gdp_dset = utils.rearrange_wb_data(constants.input_folder, constants.wb_gdp_fname)\n",
    "            final_data = utils.normalise(proc_data, gdp_dset, data_type)\n",
    "        \n",
    "\n",
    "        convert_normalised = True\n",
    "\n",
    "        if convert_normalised:\n",
    "            final_data = utils.convert_norm(final_data, dataset, data_type)\n",
    "        \n",
    "        utils.write_to_file(final_data, constants.proc_data_folder, proc_fname.replace('.csv', '_'+data_type+'.csv').replace(' ', '_'))\n",
    "            \n",
    "else:\n",
    "    final_data = proc_data"
   ]
  },
  {
   "cell_type": "markdown",
   "metadata": {},
   "source": [
    "### Plot"
   ]
  },
  {
   "cell_type": "code",
   "execution_count": null,
   "metadata": {},
   "outputs": [],
   "source": [
    "if plot_type != 4:\n",
    "    dset_to_plot, variable, unit = utils.prepare_for_plotting(final_data, plot_type)\n",
    "else:\n",
    "    year_max, start_year, end_year, dset_to_plot, variable, unit = utils.prepare_for_plotting(final_data, plot_type)\n",
    "\n",
    "if dataset == 1:\n",
    "    source = constants.primap_source_histcr\n",
    "elif dataset == 2:\n",
    "    source = constants.primap_source_histtp\n",
    "elif dataset == 3:\n",
    "    source = constants.bp_source\n",
    "elif dataset == 4:\n",
    "    source = constants.ipcc_source\n",
    "elif dataset == 5:\n",
    "    source = constants.ipcc_indirect_source"
   ]
  },
  {
   "cell_type": "code",
   "execution_count": null,
   "metadata": {},
   "outputs": [],
   "source": [
    "plot_type_text, plot_fname = plotting.define_plot_name(plot_type, variable, year_of_interest, baseline_year, constants.output_folder)\n",
    "plot_name = variable + ' - ' + plot_type_text.lower()"
   ]
  },
  {
   "cell_type": "code",
   "execution_count": null,
   "metadata": {},
   "outputs": [],
   "source": [
    "trends, rolling_trends, trends_unit = plotting.calculate_trends(dset_to_plot, num_years_trend=5)"
   ]
  },
  {
   "cell_type": "code",
   "execution_count": null,
   "metadata": {},
   "outputs": [],
   "source": [
    "if plot_type == 1:\n",
    "    plotting.make_histogram(dset_to_plot, year_of_interest, unit, selected_country='', plot_type=1, xlabel=plot_type_text, variable_title=variable, sourcename=source, filepath=plot_fname, remove_outliers=True, plot_name=plot_name)\n",
    "\n",
    "elif plot_type == 2:\n",
    "    df_abs_diff_baseline, df_perc_diff_baseline = utils.calculate_diff_since_yearX(dset_to_plot, baseline_year)\n",
    "    #df_perc_diff_baseline.to_csv('proc-data/dif_perc.csv', index=False)\n",
    "    plotting.make_histogram(df_perc_diff_baseline, year_of_interest, '%', selected_country='', plot_type=2, xlabel=plot_type_text, variable_title=variable, sourcename=source, filepath=plot_fname, remove_outliers=True, plot_name=plot_name)\n",
    "\n",
    "elif plot_type == 3:\n",
    "    trends, rolling_trends, trends_unit = plotting.calculate_trends(dset_to_plot, num_years_trend=5)    \n",
    "    print(rolling_trends)\n",
    "    plotting.make_histogram(rolling_trends, year_of_interest, trends_unit, selected_country='', plot_type=3, xlabel=plot_type_text, variable_title='5-year trend in ' + variable[0].lower() + variable[1:], sourcename=source, filepath=plot_fname, remove_outliers=True, plot_name=plot_name, ktuk=2)\n",
    "\n",
    "elif plot_type == 4:\n",
    "    plotting.make_histogram_peaking(year_max, variable, start_year, end_year, save_plot=True, filepath=plot_fname)\n",
    "\n",
    "else:\n",
    "    raise ValueError('Error. Please provide a valid plot type (either 1, 2, 3 or 4.)')\n"
   ]
  }
 ],
 "metadata": {
  "kernelspec": {
   "display_name": "Python 3.10.5 64-bit (windows store)",
   "language": "python",
   "name": "python3"
  },
  "language_info": {
   "codemirror_mode": {
    "name": "ipython",
    "version": 3
   },
   "file_extension": ".py",
   "mimetype": "text/x-python",
   "name": "python",
   "nbconvert_exporter": "python",
   "pygments_lexer": "ipython3",
   "version": "3.10.8"
  },
  "orig_nbformat": 4,
  "vscode": {
   "interpreter": {
    "hash": "067c62c1e236de093d80dd887d8da7ba373cc52e5c6c0339fad800701e4bd55b"
   }
  }
 },
 "nbformat": 4,
 "nbformat_minor": 2
}
