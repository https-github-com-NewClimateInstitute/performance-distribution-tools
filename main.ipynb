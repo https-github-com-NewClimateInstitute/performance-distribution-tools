{
 "cells": [
  {
   "cell_type": "markdown",
   "metadata": {},
   "source": [
    "### Load packages"
   ]
  },
  {
   "cell_type": "code",
   "execution_count": 1,
   "metadata": {},
   "outputs": [],
   "source": [
    "from user_setup import *\n",
    "from gst_tools import gst_utils as utils\n",
    "from gst_tools import constants"
   ]
  },
  {
   "cell_type": "markdown",
   "metadata": {},
   "source": [
    "### Load data"
   ]
  },
  {
   "cell_type": "code",
   "execution_count": 2,
   "metadata": {},
   "outputs": [],
   "source": [
    "# Data selection\n",
    "\n",
    "if data == 'emissions':\n",
    "    if extrapol:\n",
    "        raw_data_fname = primap_extrap_fname\n",
    "    else:\n",
    "        raw_data_fname = primap_no_extrap_fname\n",
    "else:\n",
    "    raw_data_fname = bp_world_energy_panel_fname"
   ]
  },
  {
   "cell_type": "code",
   "execution_count": 3,
   "metadata": {},
   "outputs": [
    {
     "name": "stdout",
     "output_type": "stream",
     "text": [
      "Reading input-data/Guetschow-et-al-2021-PRIMAP-hist_v2.3.1_20-Sep_2021.csv\n"
     ]
    }
   ],
   "source": [
    "# Data loading\n",
    "\n",
    "raw_data = utils.load_data(constants.input_folder, raw_data_fname)"
   ]
  },
  {
   "cell_type": "markdown",
   "metadata": {},
   "source": [
    "### Reorganise and filter data"
   ]
  },
  {
   "cell_type": "code",
   "execution_count": 4,
   "metadata": {},
   "outputs": [],
   "source": [
    "# Reorganise dataset for processing\n",
    "\n",
    "if data == 'emissions':\n",
    "    renamed_data = utils.rename_primap(raw_data)\n",
    "elif data == 'energy':\n",
    "    renamed_data = utils.rename_bp(raw_data)\n",
    "else:\n",
    "    print('Error. Please provide a valida dataset type, either \"emissions\" or \"energy\".')"
   ]
  },
  {
   "cell_type": "code",
   "execution_count": 5,
   "metadata": {},
   "outputs": [],
   "source": [
    "#renamed_data[['Country', 'year', 'electbyfuel_ren_power']].loc[(renamed_data['Country'] == 'Canada')]\n",
    "#ren_power_twh\n",
    "#ren_power_twh_net\n",
    "#\n",
    "\n",
    "#What is included in renewables? In ren_power_twh, hydro is not included\n",
    "# renewables include \"others\", which is geothermal, biomass, and other sources\n",
    "\n",
    "#net is different (slightly smaller)"
   ]
  },
  {
   "cell_type": "code",
   "execution_count": 6,
   "metadata": {},
   "outputs": [],
   "source": [
    "#print(list(renamed_data.columns))\n",
    "\n",
    "#Interesting columns\n",
    "#biodiesel_cons_pj\n",
    "#biodiesel_prod_pj\n",
    "#biofuels_cons_ej\n",
    "#biofuels_cons_pj\n",
    "#biofuels_prod_pj\n",
    "#biogeo_ej\n",
    "#biogeo_twh\n",
    "#biogeo_twh_net\n",
    "#coalcons_ej\n",
    "#coalprod_ej\n",
    "\n",
    "#elect_twh\n",
    "#electbyfuel_coal\n",
    "#electbyfuel_gas\n",
    "#electbyfuel_hydro\n",
    "#electbyfuel_nuclear\n",
    "#electbyfuel_oil\n",
    "#electbyfuel_other\n",
    "#electbyfuel_ren_power\n",
    "#electbyfuel_total\n",
    "\n",
    "#ethanol_cons_pj\n",
    "#ethanol_prod_pj\n",
    "#gascons_ej\n",
    "#gasprod_ej\n",
    "#hydro_ej\n",
    "#hydro_twh\n",
    "#hydro_twh_net\n",
    "#nuclear_ej\n",
    "#nuclear_twh\n",
    "#nuclear_twh_net\n",
    "#oilcons_ej\n",
    "\n",
    "#primary_ej\n",
    "#ren_power_ej\n",
    "#ren_power_twh\n",
    "#ren_power_twh_net\n",
    "#renewables_ej\n",
    "#solar_ej\n",
    "#solar_twh\n",
    "#solar_twh_net\n",
    "#wind_ej\n",
    "#wind_twh\n",
    "#wind_twh_net"
   ]
  },
  {
   "cell_type": "code",
   "execution_count": 7,
   "metadata": {},
   "outputs": [
    {
     "name": "stdout",
     "output_type": "stream",
     "text": [
      "Not all countries requested were available in the raw data. You are missing the following:\n",
      "   Solomon Islands\n",
      "   São Tomé & Príncipe\n",
      "   Antigua & Barbuda\n",
      "   Central African Republic\n",
      "   Liberia\n",
      "   Vanuatu\n",
      "   Comoros\n",
      "   Gambia\n",
      "   Tonga\n",
      "   Samoa\n",
      "   Fiji\n",
      "   Nauru\n",
      "   Burkina Faso\n",
      "   Mauritius\n",
      "   Armenia\n",
      "   Haiti\n",
      "   Togo\n",
      "   Cambodia\n",
      "   Djibouti\n",
      "   Maldives\n",
      "   Laos\n",
      "   St. Kitts & Nevis\n",
      "   Kiribati\n",
      "   Botswana\n",
      "   Uganda\n",
      "   Tuvalu\n",
      "   Guyana\n",
      "   Marshall Islands\n",
      "   Guinea\n",
      "   Mali\n",
      "   St. Lucia\n",
      "   Niue\n",
      "   Malta\n",
      "   Palestine\n",
      "   Zimbabwe\n",
      "   Dominica\n",
      "   Burundi\n",
      "   Micronesia\n",
      "   Lesotho\n",
      "   Namibia\n",
      "   Nepal\n",
      "   St. Vincent & Grenadines\n",
      "   Cabo Verde\n",
      "   Grenada\n",
      "   Guinea-Bissau\n",
      "   Seychelles\n",
      "   Bhutan\n",
      "   Bahamas\n",
      "   Cook Islands\n",
      "---------\n",
      "First year of data available is now 1990\n",
      "Last year of data available is 2019\n",
      "These are the 10 first rows of the processed data:\n",
      "  category country  gas scenario              source         unit  \\\n",
      "0    1.B.2     AFG  CO2   HISTCR  PRIMAP-hist_v2.3.1  Gg CO2 / yr   \n",
      "1    1.B.2     AGO  CO2   HISTCR  PRIMAP-hist_v2.3.1  Gg CO2 / yr   \n",
      "2    1.B.2     ALB  CO2   HISTCR  PRIMAP-hist_v2.3.1  Gg CO2 / yr   \n",
      "3    1.B.2     AND  CO2   HISTCR  PRIMAP-hist_v2.3.1  Gg CO2 / yr   \n",
      "4    1.B.2     ARE  CO2   HISTCR  PRIMAP-hist_v2.3.1  Gg CO2 / yr   \n",
      "5    1.B.2     ARG  CO2   HISTCR  PRIMAP-hist_v2.3.1  Gg CO2 / yr   \n",
      "6    1.B.2     AUS  CO2   HISTCR  PRIMAP-hist_v2.3.1  Gg CO2 / yr   \n",
      "7    1.B.2     AUT  CO2   HISTCR  PRIMAP-hist_v2.3.1  Gg CO2 / yr   \n",
      "8    1.B.2     AZE  CO2   HISTCR  PRIMAP-hist_v2.3.1  Gg CO2 / yr   \n",
      "9    1.B.2     BEL  CO2   HISTCR  PRIMAP-hist_v2.3.1  Gg CO2 / yr   \n",
      "\n",
      "                                  variable      1990      1991      1992  ...  \\\n",
      "0  Fugitive CO2 emissions from oil and gas    29.200    29.200    25.000  ...   \n",
      "1  Fugitive CO2 emissions from oil and gas  7210.000  7670.000  8110.000  ...   \n",
      "2  Fugitive CO2 emissions from oil and gas    32.100    31.400    26.500  ...   \n",
      "3  Fugitive CO2 emissions from oil and gas     0.196     0.198     0.199  ...   \n",
      "4  Fugitive CO2 emissions from oil and gas  2530.000  2820.000  3090.000  ...   \n",
      "5  Fugitive CO2 emissions from oil and gas  2880.000  3020.000  3230.000  ...   \n",
      "6  Fugitive CO2 emissions from oil and gas  6090.000  5830.000  6000.000  ...   \n",
      "7  Fugitive CO2 emissions from oil and gas   102.000   111.000   120.000  ...   \n",
      "8  Fugitive CO2 emissions from oil and gas    33.700    31.600    29.300  ...   \n",
      "9  Fugitive CO2 emissions from oil and gas    84.600    83.300    83.500  ...   \n",
      "\n",
      "        2010       2011       2012      2013      2014      2015        2016  \\\n",
      "0    36.5000    39.1000    42.0000    45.200    48.600    52.200     56.1000   \n",
      "1  8080.0000  8110.0000  6620.0000  6450.000  7090.000  8470.000   9070.0000   \n",
      "2     1.8700     2.2500     2.5900     3.270    15.400    39.800     72.1000   \n",
      "3     0.0824     0.0812     0.0994     0.102     0.122     0.127      0.0996   \n",
      "4  2090.0000  2220.0000  2270.0000  2860.000  2250.000  2340.000   2120.0000   \n",
      "5  4850.0000  4640.0000  4540.0000  4350.000  4310.000  4400.000   4480.0000   \n",
      "6  6900.0000  6330.0000  6710.0000  6960.000  7440.000  8920.000  10400.0000   \n",
      "7   184.0000   180.0000   184.0000   191.000   169.000   162.000    131.0000   \n",
      "8   377.0000   612.0000   766.0000   970.000   718.000   484.000    500.0000   \n",
      "9   103.0000    93.2000    92.5000    93.700    75.700    88.300     78.3000   \n",
      "\n",
      "         2017        2018     2019  \n",
      "0     54.3000     56.6000     58.8  \n",
      "1   7690.0000   5690.0000   6870.0  \n",
      "2     35.5000     17.6000     38.2  \n",
      "3      0.0914      0.0794      0.1  \n",
      "4   2370.0000   2730.0000   2510.0  \n",
      "5   4100.0000   5520.0000   4330.0  \n",
      "6  12700.0000  14600.0000  18100.0  \n",
      "7    138.0000    127.0000    118.0  \n",
      "8    396.0000    481.0000    649.0  \n",
      "9     98.9000    121.0000    116.0  \n",
      "\n",
      "[10 rows x 37 columns]\n"
     ]
    }
   ],
   "source": [
    "# Filter dataset\n",
    "\n",
    "if data == 'emissions':\n",
    "    proc_data = utils.filter_primap(renamed_data, primap_gas, primap_sector, primap_scenario, countries, years_of_interest[0], constants.gas_names_variable)\n",
    "else:\n",
    "    proc_data = utils.filter_bp(renamed_data, energy_variable, countries, years_of_interest[0])"
   ]
  },
  {
   "cell_type": "code",
   "execution_count": 8,
   "metadata": {},
   "outputs": [
    {
     "name": "stdout",
     "output_type": "stream",
     "text": [
      "*******************\n",
      "Converting unit from \"Gg CO2 / yr\" to \"MtCO2\" using a conversion factor of 0.001\n",
      "*******************\n"
     ]
    }
   ],
   "source": [
    "# Convert the \"absolute\" dataset to reasonable units\n",
    "\n",
    "convert_from_Gg_to_Mt = True\n",
    "\n",
    "if data == 'emissions' and convert_from_Gg_to_Mt:\n",
    "    proc_data = utils.convert_from_Gg_to_Mt(proc_data)"
   ]
  },
  {
   "cell_type": "code",
   "execution_count": 9,
   "metadata": {},
   "outputs": [],
   "source": [
    "# Define processed data filename\n",
    "\n",
    "if data == 'emissions':\n",
    "    proc_fname = utils.define_primap_proc_fname(proc_data, constants.gas_names_fname, constants.sector_names_fname)\n",
    "else:\n",
    "    proc_fname = utils.define_bp_proc_fname(proc_data)"
   ]
  },
  {
   "cell_type": "code",
   "execution_count": 10,
   "metadata": {},
   "outputs": [
    {
     "name": "stdout",
     "output_type": "stream",
     "text": [
      "Processed data written to file! - proc-data/primap-histcr_v2.3.1_CO2_oil_and_gas.csv\n"
     ]
    }
   ],
   "source": [
    "# Write filtered dataset to file\n",
    "\n",
    "utils.write_to_file(proc_data, constants.proc_data_folder, proc_fname)"
   ]
  },
  {
   "cell_type": "markdown",
   "metadata": {},
   "source": [
    "### Normalise dataset if necessary"
   ]
  },
  {
   "cell_type": "code",
   "execution_count": 11,
   "metadata": {},
   "outputs": [],
   "source": [
    "# Normalisation per capita and per USD\n",
    "\n",
    "if data_type != 'absolute':\n",
    "    if data == 'energy' and energy_variable != 3:\n",
    "        print('ERROR: The energy variable selected is a share, so it can be no further normalised.')\n",
    "    else:\n",
    "        if data_type == 'per capita':\n",
    "            pop_dset = utils.rearrange_wb_data(constants.input_folder, wb_population_fname)\n",
    "            final_data = utils.normalise(proc_data, pop_dset, data_type)\n",
    "        else:\n",
    "            gdp_dset = utils.rearrange_wb_data(constants.input_folder, wb_gdp_fname)\n",
    "            final_data = utils.normalise(proc_data, gdp_dset, data_type)\n",
    "        \n",
    "\n",
    "        convert_normalised = True\n",
    "\n",
    "        if convert_normalised:\n",
    "            final_data = utils.convert_norm(final_data, data, data_type)\n",
    "        \n",
    "        utils.write_to_file(final_data, constants.proc_data_folder, proc_fname.replace('.csv', '_'+data_type+'.csv').replace(' ', '_'))\n",
    "            \n",
    "else:\n",
    "    final_data = proc_data"
   ]
  },
  {
   "cell_type": "markdown",
   "metadata": {},
   "source": [
    "### Plot emissions in a selected year"
   ]
  },
  {
   "cell_type": "code",
   "execution_count": 12,
   "metadata": {},
   "outputs": [],
   "source": [
    "dset_to_plot, variable, unit = utils.prepare_for_plotting(final_data)"
   ]
  },
  {
   "cell_type": "code",
   "execution_count": 13,
   "metadata": {},
   "outputs": [
    {
     "name": "stdout",
     "output_type": "stream",
     "text": [
      "---------\n",
      "Making plot for: \n",
      "---------\n",
      "-----------\n",
      "Identifying and removing outliers\n",
      "lower outliers are:\n",
      "Series([], Name: 1990, dtype: float64)\n",
      "upper outliers are: \n",
      "country\n",
      "AGO     7.21\n",
      "AUS     6.09\n",
      "BRA     6.20\n",
      "CAN    11.70\n",
      "CHN     4.66\n",
      "DZA    12.30\n",
      "EUU    16.40\n",
      "FRA     4.36\n",
      "GAB     5.20\n",
      "GBR     5.78\n",
      "IDN    11.80\n",
      "IRN    23.00\n",
      "IRQ     9.35\n",
      "ITA     4.05\n",
      "LBY     8.38\n",
      "MEX    11.70\n",
      "NGA    43.80\n",
      "OMN     5.34\n",
      "RUS    25.70\n",
      "SAU     8.08\n",
      "SYR     3.69\n",
      "USA    41.80\n",
      "Name: 1990, dtype: float64\n",
      "---\n",
      "bins set to range(0, 5)\n"
     ]
    },
    {
     "name": "stderr",
     "output_type": "stream",
     "text": [
      "C:\\Users\\EduardoPosada\\AppData\\Local\\Packages\\PythonSoftwareFoundation.Python.3.10_qbz5n2kfra8p0\\LocalCache\\local-packages\\Python310\\site-packages\\seaborn\\distributions.py:2619: FutureWarning: `distplot` is a deprecated function and will be removed in a future version. Please adapt your code to use either `displot` (a figure-level function with similar flexibility) or `histplot` (an axes-level function for histograms).\n",
      "  warnings.warn(msg, FutureWarning)\n"
     ]
    }
   ],
   "source": [
    "\n",
    "# how should the xaxis be labelled?\n",
    "#xaxlabel = variable_name_to_display\n",
    "\n",
    "# make a plot for each year\n",
    "for selected_year in years_of_interest:\n",
    "    utils.make_histogram(dset_to_plot, selected_year, unit, variable_title=variable, remove_outliers=True)"
   ]
  }
 ],
 "metadata": {
  "kernelspec": {
   "display_name": "Python 3.10.5 64-bit (windows store)",
   "language": "python",
   "name": "python3"
  },
  "language_info": {
   "codemirror_mode": {
    "name": "ipython",
    "version": 3
   },
   "file_extension": ".py",
   "mimetype": "text/x-python",
   "name": "python",
   "nbconvert_exporter": "python",
   "pygments_lexer": "ipython3",
   "version": "3.10.5"
  },
  "orig_nbformat": 4,
  "vscode": {
   "interpreter": {
    "hash": "067c62c1e236de093d80dd887d8da7ba373cc52e5c6c0339fad800701e4bd55b"
   }
  }
 },
 "nbformat": 4,
 "nbformat_minor": 2
}
