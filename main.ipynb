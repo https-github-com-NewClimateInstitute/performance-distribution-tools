{
 "cells": [
  {
   "cell_type": "markdown",
   "metadata": {},
   "source": [
    "### Load packages"
   ]
  },
  {
   "cell_type": "code",
   "execution_count": 1,
   "metadata": {},
   "outputs": [],
   "source": [
    "import pandas as pd\n",
    "\n",
    "from user_setup import *\n",
    "from gst_tools import constants\n",
    "from gst_tools import data_manipulation as utils\n",
    "from gst_tools import plotting"
   ]
  },
  {
   "cell_type": "markdown",
   "metadata": {},
   "source": [
    "### Load data"
   ]
  },
  {
   "cell_type": "code",
   "execution_count": 2,
   "metadata": {},
   "outputs": [],
   "source": [
    "# Data selection\n",
    "\n",
    "if dataset == 1 or dataset == 2:\n",
    "    raw_data_fname = constants.primap_extrap_fname\n",
    "elif dataset == 3:\n",
    "    raw_data_fname = constants.bp_world_energy_panel_fname\n",
    "elif dataset == 4:\n",
    "    raw_data_fname = constants.ipcc_ar6\n",
    "else:\n",
    "    raise ValueError('Error. Please provide a valid data type (either 1, 2, 3 or 4.)')"
   ]
  },
  {
   "cell_type": "code",
   "execution_count": 3,
   "metadata": {},
   "outputs": [],
   "source": [
    "# Data loading\n",
    "\n",
    "raw_data = utils.load_data(constants.input_folder, raw_data_fname)"
   ]
  },
  {
   "cell_type": "markdown",
   "metadata": {},
   "source": [
    "### Reorganise and filter data"
   ]
  },
  {
   "cell_type": "code",
   "execution_count": 4,
   "metadata": {},
   "outputs": [],
   "source": [
    "# Reorganise dataset for processing\n",
    "\n",
    "if dataset == 1 or dataset == 2:\n",
    "    renamed_data = utils.rename_primap(raw_data)\n",
    "elif dataset == 3:\n",
    "    renamed_data = utils.rename_bp(raw_data)\n",
    "else:\n",
    "    renamed_data = utils.rename_ipcc(raw_data)"
   ]
  },
  {
   "cell_type": "code",
   "execution_count": 5,
   "metadata": {},
   "outputs": [],
   "source": [
    "# Filter dataset\n",
    "\n",
    "if dataset == 1:\n",
    "    primap_scenario = 'HISTCR'\n",
    "elif dataset == 2:\n",
    "    primap_scenario = 'HISTTP'\n",
    "\n",
    "if baseline_year >= year_of_interest:\n",
    "    print('Error: The baseline year is greater than the year of interest. The baseline year must be smaller than the year of interest.')\n",
    "else:\n",
    "    if dataset == 1 or dataset == 2:\n",
    "        proc_data = utils.filter_primap(renamed_data, primap_gas, primap_sector, primap_scenario, countries, baseline_year, constants.gas_names_variable)\n",
    "    elif dataset == 3:\n",
    "        proc_data = utils.filter_bp(renamed_data, energy_variable, countries, baseline_year)\n",
    "    else:\n",
    "        proc_data = utils.filter_ipcc(renamed_data, ipcc_gas, ipcc_subsector, countries, baseline_year)"
   ]
  },
  {
   "cell_type": "code",
   "execution_count": 6,
   "metadata": {},
   "outputs": [],
   "source": [
    "# Convert the \"absolute\" dataset to reasonable units\n",
    "\n",
    "convert_from_Gg_to_Mt = True\n",
    "convert_from_t_to_Mt = True\n",
    "\n",
    "if (dataset == 1 or dataset == 2) and convert_from_Gg_to_Mt:\n",
    "    proc_data = utils.convert_from_Gg_to_Mt(proc_data)\n",
    "elif dataset == 4 and convert_from_t_to_Mt:\n",
    "    proc_data = utils.convert_from_t_to_Mt(proc_data)"
   ]
  },
  {
   "cell_type": "code",
   "execution_count": 7,
   "metadata": {},
   "outputs": [],
   "source": [
    "# Define processed data filename\n",
    "\n",
    "if dataset == 1 or dataset == 2:\n",
    "    proc_fname = utils.define_primap_proc_fname(proc_data, constants.gas_names_fname, constants.sector_names_fname)\n",
    "elif dataset == 3:\n",
    "    proc_fname = utils.define_bp_proc_fname(proc_data)\n",
    "else:\n",
    "    proc_fname = utils.define_ipcc_proc_fname(proc_data)"
   ]
  },
  {
   "cell_type": "code",
   "execution_count": 8,
   "metadata": {},
   "outputs": [],
   "source": [
    "# Write filtered dataset to file\n",
    "\n",
    "utils.write_to_file(proc_data, constants.proc_data_folder, proc_fname)"
   ]
  },
  {
   "cell_type": "markdown",
   "metadata": {},
   "source": [
    "### Normalise dataset if necessary"
   ]
  },
  {
   "cell_type": "code",
   "execution_count": 9,
   "metadata": {},
   "outputs": [
    {
     "name": "stderr",
     "output_type": "stream",
     "text": [
      "WARNING:root:WARNING: the \"variable\" is non-unique! Please check your input data!\n",
      "WARNING:root:WARNING: the \"variable\" is non-unique! Please check your input data!\n"
     ]
    },
    {
     "ename": "ValueError",
     "evalue": "One of the dataframes is not correct! Please check and try again!",
     "output_type": "error",
     "traceback": [
      "\u001b[1;31m---------------------------------------------------------------------------\u001b[0m",
      "\u001b[1;31mValueError\u001b[0m                                Traceback (most recent call last)",
      "\u001b[1;32mc:\\Users\\EduardoPosada\\Documents\\GitHub\\performance-distribution-tools\\main.ipynb Cell 13\u001b[0m in \u001b[0;36m<cell line: 3>\u001b[1;34m()\u001b[0m\n\u001b[0;32m      <a href='vscode-notebook-cell:/c%3A/Users/EduardoPosada/Documents/GitHub/performance-distribution-tools/main.ipynb#ch0000012?line=6'>7</a>\u001b[0m \u001b[39mif\u001b[39;00m data_type \u001b[39m==\u001b[39m \u001b[39m'\u001b[39m\u001b[39mper capita\u001b[39m\u001b[39m'\u001b[39m:\n\u001b[0;32m      <a href='vscode-notebook-cell:/c%3A/Users/EduardoPosada/Documents/GitHub/performance-distribution-tools/main.ipynb#ch0000012?line=7'>8</a>\u001b[0m     pop_dset \u001b[39m=\u001b[39m utils\u001b[39m.\u001b[39mrearrange_wb_data(constants\u001b[39m.\u001b[39minput_folder, constants\u001b[39m.\u001b[39mwb_population_fname)\n\u001b[1;32m----> <a href='vscode-notebook-cell:/c%3A/Users/EduardoPosada/Documents/GitHub/performance-distribution-tools/main.ipynb#ch0000012?line=8'>9</a>\u001b[0m     final_data \u001b[39m=\u001b[39m utils\u001b[39m.\u001b[39;49mnormalise(proc_data, pop_dset, data_type)\n\u001b[0;32m     <a href='vscode-notebook-cell:/c%3A/Users/EduardoPosada/Documents/GitHub/performance-distribution-tools/main.ipynb#ch0000012?line=9'>10</a>\u001b[0m \u001b[39melse\u001b[39;00m:\n\u001b[0;32m     <a href='vscode-notebook-cell:/c%3A/Users/EduardoPosada/Documents/GitHub/performance-distribution-tools/main.ipynb#ch0000012?line=10'>11</a>\u001b[0m     gdp_dset \u001b[39m=\u001b[39m utils\u001b[39m.\u001b[39mrearrange_wb_data(constants\u001b[39m.\u001b[39minput_folder, constants\u001b[39m.\u001b[39mwb_gdp_fname)\n",
      "File \u001b[1;32mc:\\Users\\EduardoPosada\\Documents\\GitHub\\performance-distribution-tools\\gst_tools\\data_manipulation.py:510\u001b[0m, in \u001b[0;36mnormalise\u001b[1;34m(proc_data, normalising_dset, per_capita_or_per_usd)\u001b[0m\n\u001b[0;32m    507\u001b[0m check2 \u001b[39m=\u001b[39m verify_data_format(var2)\n\u001b[0;32m    509\u001b[0m \u001b[39mif\u001b[39;00m \u001b[39mnot\u001b[39;00m check1 \u001b[39mor\u001b[39;00m \u001b[39mnot\u001b[39;00m check2:\n\u001b[1;32m--> 510\u001b[0m     \u001b[39mraise\u001b[39;00m \u001b[39mValueError\u001b[39;00m(\u001b[39m'\u001b[39m\u001b[39mOne of the dataframes is not correct! Please check and try again!\u001b[39m\u001b[39m'\u001b[39m)\n\u001b[0;32m    511\u001b[0m \u001b[39melse\u001b[39;00m:\n\u001b[0;32m    512\u001b[0m     \u001b[39m# LOU Get metadata for later use and checking\u001b[39;00m\n\u001b[0;32m    513\u001b[0m     var1_name \u001b[39m=\u001b[39m var1[\u001b[39m'\u001b[39m\u001b[39mvariable\u001b[39m\u001b[39m'\u001b[39m]\u001b[39m.\u001b[39munique()[\u001b[39m0\u001b[39m]\n",
      "\u001b[1;31mValueError\u001b[0m: One of the dataframes is not correct! Please check and try again!"
     ]
    }
   ],
   "source": [
    "# Normalisation per capita and per USD\n",
    "\n",
    "if data_type != 'absolute':\n",
    "    if dataset == 3 and energy_variable != 3:\n",
    "        print('ERROR: The energy variable selected is a share, so it can be no further normalised.')\n",
    "    else:\n",
    "        if data_type == 'per capita':\n",
    "            pop_dset = utils.rearrange_wb_data(constants.input_folder, constants.wb_population_fname)\n",
    "            final_data = utils.normalise(proc_data, pop_dset, data_type)\n",
    "        else:\n",
    "            gdp_dset = utils.rearrange_wb_data(constants.input_folder, constants.wb_gdp_fname)\n",
    "            final_data = utils.normalise(proc_data, gdp_dset, data_type)\n",
    "        \n",
    "\n",
    "        convert_normalised = True\n",
    "\n",
    "        if convert_normalised:\n",
    "            final_data = utils.convert_norm(final_data, dataset, data_type)\n",
    "        \n",
    "        utils.write_to_file(final_data, constants.proc_data_folder, proc_fname.replace('.csv', '_'+data_type+'.csv').replace(' ', '_'))\n",
    "            \n",
    "else:\n",
    "    final_data = proc_data"
   ]
  },
  {
   "cell_type": "markdown",
   "metadata": {},
   "source": [
    "### Plot"
   ]
  },
  {
   "cell_type": "code",
   "execution_count": null,
   "metadata": {},
   "outputs": [],
   "source": [
    "if plot_type != 4:\n",
    "    dset_to_plot, variable, unit = utils.prepare_for_plotting(final_data, plot_type)\n",
    "else:\n",
    "    year_max, start_year, end_year, dset_to_plot, variable, unit = utils.prepare_for_plotting(final_data, plot_type)\n",
    "\n",
    "if dataset == 1:\n",
    "    source = constants.primap_source_histcr\n",
    "elif dataset == 2:\n",
    "    source = constants.primap_source_histtp\n",
    "elif dataset == 3:\n",
    "    source = constants.bp_source\n",
    "else:\n",
    "    source = constants.ipcc_source"
   ]
  },
  {
   "cell_type": "code",
   "execution_count": null,
   "metadata": {},
   "outputs": [],
   "source": [
    "plot_type_text, plot_fname = plotting.define_plot_name(plot_type, variable, year_of_interest, baseline_year, constants.output_folder)\n",
    "plot_name = variable + ' - ' + plot_type_text.lower()"
   ]
  },
  {
   "cell_type": "code",
   "execution_count": null,
   "metadata": {},
   "outputs": [
    {
     "name": "stdout",
     "output_type": "stream",
     "text": [
      "nbins is: 2019.0\n",
      "bin_width is: \n",
      "3.625\n",
      "Maximum is:\n",
      "2019\n"
     ]
    }
   ],
   "source": [
    "if plot_type == 1:\n",
    "    plotting.make_histogram(dset_to_plot, year_of_interest, unit, plot_type=1, xlabel=plot_type_text, variable_title=variable, sourcename=source, filepath=plot_fname, remove_outliers=True, plot_name=plot_name)\n",
    "\n",
    "elif plot_type == 2:\n",
    "    df_abs_diff_baseline, df_perc_diff_baseline = utils.calculate_diff_since_yearX(dset_to_plot, baseline_year)\n",
    "    plotting.make_histogram(df_perc_diff_baseline, year_of_interest, '%', plot_type=2, xlabel=plot_type_text, variable_title=variable, sourcename=source, filepath=plot_fname, remove_outliers=True, plot_name=plot_name)\n",
    "\n",
    "elif plot_type == 3:\n",
    "    trends, rolling_trends, trends_unit = plotting.calculate_trends(dset_to_plot, num_years_trend=5)    \n",
    "    plotting.make_histogram(rolling_trends, year_of_interest, trends_unit, plot_type=3, xlabel=plot_type_text, variable_title='5-year rolling average trend in ' + variable[0].lower() + variable[1:], sourcename=source, filepath=plot_fname, remove_outliers=True, plot_name=plot_name, ktuk=2)\n",
    "\n",
    "elif plot_type == 4:\n",
    "    plotting.make_histogram_peaking(year_max, variable, start_year, end_year, save_plot=True, filepath=plot_fname)\n",
    "\n",
    "else:\n",
    "    raise ValueError('Error. Please provide a valid plot type (either 1, 2, 3 or 4.)')\n"
   ]
  }
 ],
 "metadata": {
  "kernelspec": {
   "display_name": "Python 3.10.5 64-bit (windows store)",
   "language": "python",
   "name": "python3"
  },
  "language_info": {
   "codemirror_mode": {
    "name": "ipython",
    "version": 3
   },
   "file_extension": ".py",
   "mimetype": "text/x-python",
   "name": "python",
   "nbconvert_exporter": "python",
   "pygments_lexer": "ipython3",
   "version": "3.10.5"
  },
  "orig_nbformat": 4,
  "vscode": {
   "interpreter": {
    "hash": "067c62c1e236de093d80dd887d8da7ba373cc52e5c6c0339fad800701e4bd55b"
   }
  }
 },
 "nbformat": 4,
 "nbformat_minor": 2
}
