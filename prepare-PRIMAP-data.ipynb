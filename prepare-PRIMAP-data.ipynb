{
 "cells": [
  {
   "cell_type": "markdown",
   "metadata": {},
   "source": [
    "# PRIMAP data processor\n",
    "\n",
    "Unlike the 'PRIMAP-hist' data processor, this script operates on data exported from the PRIMAP emissions module using the write_csv_bulkplus_py function. It is intended primarily for users of the PRIMAP emissions module to make the PRIMAP data accessible for this tool. It was used to pre-process some of the standard datasets available for the gst toolset. \n",
    "\n",
    "Primarily it: \n",
    "* checks for data completeness and removes unwanted countries\n",
    "* renames the countryISO column to 'country'\n",
    "* simplifies and standardises the filename\n",
    "* reduces the number of years contained (where applicable)\n",
    "* checks the formatting of the data"
   ]
  },
  {
   "cell_type": "code",
   "execution_count": 11,
   "metadata": {},
   "outputs": [],
   "source": [
    "# import modules\n",
    "\n",
    "# system\n",
    "import re\n",
    "import sys\n",
    "import os\n",
    "\n",
    "# data handling\n",
    "import pandas as pd\n",
    "import numpy as np\n",
    "\n",
    "# open climate data packages\n",
    "from countrygroups import UNFCCC, EUROPEAN_UNION, ANNEX_ONE, NON_ANNEX_ONE\n",
    "from shortcountrynames import to_name\n",
    "\n",
    "# global stocktake tools\n",
    "import gst_tools.gst_utils as utils"
   ]
  },
  {
   "cell_type": "code",
   "execution_count": 1,
   "metadata": {},
   "outputs": [
    {
     "ename": "NameError",
     "evalue": "name 'UNFCCC' is not defined",
     "output_type": "error",
     "traceback": [
      "\u001b[0;31m---------------------------------------------------------------------------\u001b[0m",
      "\u001b[0;31mNameError\u001b[0m                                 Traceback (most recent call last)",
      "\u001b[0;32m<ipython-input-1-e349dc0dfcbf>\u001b[0m in \u001b[0;36m<module>\u001b[0;34m()\u001b[0m\n\u001b[1;32m      9\u001b[0m \u001b[0;31m# Based on countrygroups package, select the group of countries you would like to extract.\u001b[0m\u001b[0;34m\u001b[0m\u001b[0;34m\u001b[0m\u001b[0m\n\u001b[1;32m     10\u001b[0m \u001b[0;31m# Note that the raw data also includes groups.\u001b[0m\u001b[0;34m\u001b[0m\u001b[0;34m\u001b[0m\u001b[0m\n\u001b[0;32m---> 11\u001b[0;31m \u001b[0mneeded_countries\u001b[0m \u001b[0;34m=\u001b[0m \u001b[0mUNFCCC\u001b[0m\u001b[0;34m\u001b[0m\u001b[0m\n\u001b[0m\u001b[1;32m     12\u001b[0m \u001b[0;34m\u001b[0m\u001b[0m\n\u001b[1;32m     13\u001b[0m \u001b[0;31m# First year of data needed for further plotting\u001b[0m\u001b[0;34m\u001b[0m\u001b[0;34m\u001b[0m\u001b[0m\n",
      "\u001b[0;31mNameError\u001b[0m: name 'UNFCCC' is not defined"
     ]
    }
   ],
   "source": [
    "# user options\n",
    "\n",
    "raw_data_file = \"WDI2017P_POP_04-Apr-2019.csv\"\n",
    "\n",
    "# choose something useful! These will be used to generate the new filename.\n",
    "new_variable_name = 'population'\n",
    "new_source_name = 'WDI2017'\n",
    "\n",
    "# Based on countrygroups package, select the group of countries you would like to extract. \n",
    "# Note that the raw data also includes groups.\n",
    "needed_countries = UNFCCC\n",
    "\n",
    "# First year of data needed for further plotting\n",
    "start_year = 1990 \n",
    " "
   ]
  },
  {
   "cell_type": "code",
   "execution_count": 2,
   "metadata": {},
   "outputs": [
    {
     "ename": "NameError",
     "evalue": "name 'os' is not defined",
     "output_type": "error",
     "traceback": [
      "\u001b[0;31m---------------------------------------------------------------------------\u001b[0m",
      "\u001b[0;31mNameError\u001b[0m                                 Traceback (most recent call last)",
      "\u001b[0;32m<ipython-input-2-d738043e3cef>\u001b[0m in \u001b[0;36m<module>\u001b[0;34m()\u001b[0m\n\u001b[1;32m      1\u001b[0m \u001b[0;31m# get the data\u001b[0m\u001b[0;34m\u001b[0m\u001b[0;34m\u001b[0m\u001b[0m\n\u001b[0;32m----> 2\u001b[0;31m \u001b[0mraw_data_folder\u001b[0m \u001b[0;34m=\u001b[0m \u001b[0mos\u001b[0m\u001b[0;34m.\u001b[0m\u001b[0mpath\u001b[0m\u001b[0;34m.\u001b[0m\u001b[0mjoin\u001b[0m\u001b[0;34m(\u001b[0m\u001b[0;34m'input-data'\u001b[0m\u001b[0;34m,\u001b[0m \u001b[0;34m'PRIMAP'\u001b[0m\u001b[0;34m)\u001b[0m\u001b[0;34m\u001b[0m\u001b[0m\n\u001b[0m\u001b[1;32m      3\u001b[0m \u001b[0mfname\u001b[0m \u001b[0;34m=\u001b[0m \u001b[0mos\u001b[0m\u001b[0;34m.\u001b[0m\u001b[0mpath\u001b[0m\u001b[0;34m.\u001b[0m\u001b[0mjoin\u001b[0m\u001b[0;34m(\u001b[0m\u001b[0;34m''\u001b[0m\u001b[0;34m,\u001b[0m \u001b[0mraw_data_folder\u001b[0m\u001b[0;34m,\u001b[0m \u001b[0mraw_data_file\u001b[0m\u001b[0;34m)\u001b[0m\u001b[0;34m\u001b[0m\u001b[0m\n\u001b[1;32m      4\u001b[0m \u001b[0mprint\u001b[0m\u001b[0;34m(\u001b[0m\u001b[0;34m'reading '\u001b[0m \u001b[0;34m+\u001b[0m \u001b[0mfname\u001b[0m\u001b[0;34m)\u001b[0m\u001b[0;34m\u001b[0m\u001b[0m\n\u001b[1;32m      5\u001b[0m \u001b[0mraw_data\u001b[0m \u001b[0;34m=\u001b[0m \u001b[0mpd\u001b[0m\u001b[0;34m.\u001b[0m\u001b[0mread_csv\u001b[0m\u001b[0;34m(\u001b[0m\u001b[0mfname\u001b[0m\u001b[0;34m)\u001b[0m\u001b[0;34m\u001b[0m\u001b[0m\n",
      "\u001b[0;31mNameError\u001b[0m: name 'os' is not defined"
     ]
    }
   ],
   "source": [
    "# get the data\n",
    "raw_data_folder = os.path.join('input-data', 'PRIMAP')\n",
    "fname = os.path.join('', raw_data_folder, raw_data_file)\n",
    "print('reading ' + fname)\n",
    "raw_data = pd.read_csv(fname)\n",
    "\n",
    "# rename some columns\n",
    "new_data = raw_data.rename(columns={'countryISO': 'country'})\n",
    "\n",
    "# reduce the countries or regions to only those desired\n",
    "new_data = new_data.loc[new_data['country'].isin(needed_countries)]\n",
    "\n",
    "# tell the user if any of the needed countries are missing and, if yes, which ones:\n",
    "missing_countries = list(set(needed_countries) - set(new_data['country'].unique()))\n",
    "if missing_countries:\n",
    "    print('Not all countries requested were available in the raw data. You are missing the following:')\n",
    "    for country in missing_countries:\n",
    "        print('   ' + to_name(country))\n",
    "    print('---------')\n",
    "                \n",
    "# reduce to only required years\n",
    "new_data = utils.change_first_year(new_data, start_year)\n",
    "\n",
    "# make the columns strings\n",
    "new_data.columns = new_data.columns.astype(str)\n",
    "\n",
    "new_data"
   ]
  },
  {
   "cell_type": "code",
   "execution_count": null,
   "metadata": {},
   "outputs": [],
   "source": []
  },
  {
   "cell_type": "code",
   "execution_count": 27,
   "metadata": {},
   "outputs": [
    {
     "name": "stdout",
     "output_type": "stream",
     "text": [
      "Processed data written to file! - proc-data/WDI2017_population.csv\n"
     ]
    }
   ],
   "source": [
    "## write the data to file\n",
    "\n",
    "\"\"\"\n",
    "First ensure that years, unit, 'country', and variable are all in data. If they are\n",
    "can proceed to print data\n",
    "\"\"\"\n",
    "\n",
    "# Check the data format\n",
    "if not utils.verify_data_format(new_data):\n",
    "    \n",
    "    print('WARNING: The data is not correctly formatted! Please check your input data and processing!')\n",
    "    \n",
    "else:\n",
    "    \n",
    "    # define filename as composite of variable and source name\n",
    "    fname_out = new_source_name + '_' + new_variable_name + '.csv' \n",
    "    fullfname_out = os.path.join('proc-data', fname_out)\n",
    "\n",
    "    # check folder exists\n",
    "    if not os.path.exists('proc-data'):\n",
    "        os.makedirs('proc-data')\n",
    "\n",
    "    # write to csv in proc data folder\n",
    "    new_data.to_csv(fullfname_out, index=False)\n",
    "\n",
    "    # celebrate success \n",
    "    print('Processed data written to file! - ' + fullfname_out)\n",
    "    "
   ]
  },
  {
   "cell_type": "code",
   "execution_count": null,
   "metadata": {},
   "outputs": [],
   "source": []
  }
 ],
 "metadata": {
  "kernelspec": {
   "display_name": "Python 3",
   "language": "python",
   "name": "python3"
  },
  "language_info": {
   "codemirror_mode": {
    "name": "ipython",
    "version": 3
   },
   "file_extension": ".py",
   "mimetype": "text/x-python",
   "name": "python",
   "nbconvert_exporter": "python",
   "pygments_lexer": "ipython3",
   "version": "3.7.0"
  }
 },
 "nbformat": 4,
 "nbformat_minor": 2
}
