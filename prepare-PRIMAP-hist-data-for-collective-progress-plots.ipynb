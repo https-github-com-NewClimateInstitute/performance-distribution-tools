{
 "cells": [
  {
   "cell_type": "markdown",
   "metadata": {
    "pycharm": {
     "name": "#%% md\n"
    }
   },
   "source": [
    "# PRIMAP-hist data Preparation\n",
    "\n",
    "This jupyter notebook sets out a method for preparing PRIMAPhist data for plotting. It can further be used as a guide and basis for setting up other input datasets. \n",
    "\n",
    "The dataset can be viewed and accessed at:\n",
    "https://www.pik-potsdam.de/paris-reality-check/primap-hist/\n",
    "\n",
    "Gütschow, J.; Jeffery, L.; Gieseke, R. (2019): The PRIMAP-hist national historical emissions time series (1850-2016). v2.0. GFZ Data Services. https://doi.org/10.5880/pik.2019.001\n",
    "\n",
    "The downloaded data should be stored in the 'input-data' folder of this repository. PRIMAP-hist is updated roughly once per year. The user should therefore check for updates at the above link and download new data when available. If this is done, the new filenames will need to be added below. \n",
    "\n",
    "------\n",
    "Possible improvments:\n",
    "*  unit conversion\n",
    "* warn of over-writing files AND/OR automise file names.  Currently it's possible to give a file a poor name. Would require a look-up for category names though...\n"
   ]
  },
  {
   "cell_type": "code",
   "execution_count": 1,
   "metadata": {
    "pycharm": {
     "name": "#%%\n"
    }
   },
   "outputs": [],
   "source": [
    "# import modules\n",
    "\n",
    "# system\n",
    "import re\n",
    "import sys\n",
    "import os\n",
    "\n",
    "# data handling\n",
    "import pandas as pd\n",
    "import numpy as np\n",
    "\n",
    "# open climate data packages\n",
    "from countrygroups import UNFCCC, EUROPEAN_UNION, ANNEX_ONE, NON_ANNEX_ONE\n",
    "from shortcountrynames import to_name\n",
    "\n",
    "# global stocktake tools\n",
    "import gst_tools.gst_utils as utils"
   ]
  },
  {
   "cell_type": "code",
   "execution_count": 32,
   "metadata": {
    "pycharm": {
     "name": "#%%\n"
    }
   },
   "outputs": [],
   "source": [
    "## User definition of requirements\n",
    "\n",
    "include_extrapolated_data = True\n",
    "\n",
    "# to understand the codes to use here, please see the PRIMAP-hist documentation\n",
    "raw_entity = 'CO2'\n",
    "raw_sector = 'M.0.EL'\n",
    "raw_scenario = 'HISTCR'\n",
    "\n",
    "# choose something useful! These will be used to generate the new filename.\n",
    "new_variable_name = 'CO2-total-excl-LU'\n",
    "new_source_name = 'PRIMAP-hist_v2.3.1'\n",
    "\n",
    "# Based on countrygroups package, select the group of countries you would like to extract. \n",
    "# Note that the raw data also includes groups.\n",
    "needed_countries = UNFCCC\n",
    "\n",
    "# First year of data needed for further plotting\n",
    "start_year = 1990\n"
   ]
  },
  {
   "cell_type": "code",
   "execution_count": 34,
   "metadata": {
    "pycharm": {
     "name": "#%%\n"
    }
   },
   "outputs": [
    {
     "name": "stdout",
     "output_type": "stream",
     "text": [
      "reading input-data\\Guetschow-et-al-2021-PRIMAP-hist_v2.3.1_20-Sep_2021.csv\n",
      "Not all countries requested were available in the raw data. You are missing the following:\n",
      "   Palestine\n",
      "   European Union\n",
      "---------\n",
      "First year of data available is now 1990\n",
      "Last year of data available is 2019\n"
     ]
    },
    {
     "data": {
      "text/plain": "    category country scenario              source         unit  \\\n0     M.0.EL     AFG   HISTCR  PRIMAP-hist_v2.3.1  Gg CO2 / yr   \n1     M.0.EL     AGO   HISTCR  PRIMAP-hist_v2.3.1  Gg CO2 / yr   \n2     M.0.EL     ALB   HISTCR  PRIMAP-hist_v2.3.1  Gg CO2 / yr   \n3     M.0.EL     AND   HISTCR  PRIMAP-hist_v2.3.1  Gg CO2 / yr   \n4     M.0.EL     ARE   HISTCR  PRIMAP-hist_v2.3.1  Gg CO2 / yr   \n..       ...     ...      ...                 ...          ...   \n190   M.0.EL     WSM   HISTCR  PRIMAP-hist_v2.3.1  Gg CO2 / yr   \n191   M.0.EL     YEM   HISTCR  PRIMAP-hist_v2.3.1  Gg CO2 / yr   \n192   M.0.EL     ZAF   HISTCR  PRIMAP-hist_v2.3.1  Gg CO2 / yr   \n193   M.0.EL     ZMB   HISTCR  PRIMAP-hist_v2.3.1  Gg CO2 / yr   \n194   M.0.EL     ZWE   HISTCR  PRIMAP-hist_v2.3.1  Gg CO2 / yr   \n\n              variable      1990      1991      1992      1993  ...      2010  \\\n0    CO2-total-excl-LU    2810.0    2640.0    1590.0    1520.0  ...    8650.0   \n1    CO2-total-excl-LU   10800.0   11200.0   11600.0   12000.0  ...   23500.0   \n2    CO2-total-excl-LU    4270.0    6050.0    4030.0    3920.0  ...    5900.0   \n3    CO2-total-excl-LU     409.0     417.0     426.0     436.0  ...     556.0   \n4    CO2-total-excl-LU   47000.0   52700.0   53300.0   61000.0  ...  154000.0   \n..                 ...       ...       ...       ...       ...  ...       ...   \n190  CO2-total-excl-LU     104.0     108.0     111.0     111.0  ...     188.0   \n191  CO2-total-excl-LU    9710.0    9320.0   10100.0    8810.0  ...   22400.0   \n192  CO2-total-excl-LU  274000.0  284000.0  262000.0  279000.0  ...  447000.0   \n193  CO2-total-excl-LU    2490.0    2450.0    2480.0    2530.0  ...    2650.0   \n194  CO2-total-excl-LU   15600.0   15900.0   16900.0   15500.0  ...    8620.0   \n\n         2011      2012      2013      2014      2015      2016      2017  \\\n0     12400.0   10500.0    8830.0    8140.0    8230.0    7100.0    6860.0   \n1     24700.0   26500.0   26300.0   38000.0   29100.0   30300.0   29600.0   \n2      6660.0    6390.0    6590.0    7300.0    6220.0    6210.0    7160.0   \n3       525.0     523.0     512.0     497.0     497.0     504.0     506.0   \n4    162000.0  199000.0  197000.0  191000.0  211000.0  203000.0  171000.0   \n..        ...       ...       ...       ...       ...       ...       ...   \n190     203.0     199.0     199.0     210.0     236.0     247.0     245.0   \n191   22800.0   23400.0   31700.0   30700.0   16400.0   13200.0   12700.0   \n192  461000.0  443000.0  455000.0  485000.0  460000.0  464000.0  472000.0   \n193    2880.0    3600.0    3880.0    4270.0    4360.0    4730.0    6500.0   \n194   10400.0    8440.0   12500.0   12900.0   13000.0   11700.0   11300.0   \n\n         2018      2019  \n0      7060.0    9780.0  \n1     27600.0   27000.0  \n2      6670.0    7090.0  \n3       494.0     470.0  \n4    170000.0  170000.0  \n..        ...       ...  \n190     252.0     353.0  \n191   20300.0   20600.0  \n192  456000.0  465000.0  \n193    7030.0    7090.0  \n194   11900.0   11900.0  \n\n[195 rows x 36 columns]",
      "text/html": "<div>\n<style scoped>\n    .dataframe tbody tr th:only-of-type {\n        vertical-align: middle;\n    }\n\n    .dataframe tbody tr th {\n        vertical-align: top;\n    }\n\n    .dataframe thead th {\n        text-align: right;\n    }\n</style>\n<table border=\"1\" class=\"dataframe\">\n  <thead>\n    <tr style=\"text-align: right;\">\n      <th></th>\n      <th>category</th>\n      <th>country</th>\n      <th>scenario</th>\n      <th>source</th>\n      <th>unit</th>\n      <th>variable</th>\n      <th>1990</th>\n      <th>1991</th>\n      <th>1992</th>\n      <th>1993</th>\n      <th>...</th>\n      <th>2010</th>\n      <th>2011</th>\n      <th>2012</th>\n      <th>2013</th>\n      <th>2014</th>\n      <th>2015</th>\n      <th>2016</th>\n      <th>2017</th>\n      <th>2018</th>\n      <th>2019</th>\n    </tr>\n  </thead>\n  <tbody>\n    <tr>\n      <th>0</th>\n      <td>M.0.EL</td>\n      <td>AFG</td>\n      <td>HISTCR</td>\n      <td>PRIMAP-hist_v2.3.1</td>\n      <td>Gg CO2 / yr</td>\n      <td>CO2-total-excl-LU</td>\n      <td>2810.0</td>\n      <td>2640.0</td>\n      <td>1590.0</td>\n      <td>1520.0</td>\n      <td>...</td>\n      <td>8650.0</td>\n      <td>12400.0</td>\n      <td>10500.0</td>\n      <td>8830.0</td>\n      <td>8140.0</td>\n      <td>8230.0</td>\n      <td>7100.0</td>\n      <td>6860.0</td>\n      <td>7060.0</td>\n      <td>9780.0</td>\n    </tr>\n    <tr>\n      <th>1</th>\n      <td>M.0.EL</td>\n      <td>AGO</td>\n      <td>HISTCR</td>\n      <td>PRIMAP-hist_v2.3.1</td>\n      <td>Gg CO2 / yr</td>\n      <td>CO2-total-excl-LU</td>\n      <td>10800.0</td>\n      <td>11200.0</td>\n      <td>11600.0</td>\n      <td>12000.0</td>\n      <td>...</td>\n      <td>23500.0</td>\n      <td>24700.0</td>\n      <td>26500.0</td>\n      <td>26300.0</td>\n      <td>38000.0</td>\n      <td>29100.0</td>\n      <td>30300.0</td>\n      <td>29600.0</td>\n      <td>27600.0</td>\n      <td>27000.0</td>\n    </tr>\n    <tr>\n      <th>2</th>\n      <td>M.0.EL</td>\n      <td>ALB</td>\n      <td>HISTCR</td>\n      <td>PRIMAP-hist_v2.3.1</td>\n      <td>Gg CO2 / yr</td>\n      <td>CO2-total-excl-LU</td>\n      <td>4270.0</td>\n      <td>6050.0</td>\n      <td>4030.0</td>\n      <td>3920.0</td>\n      <td>...</td>\n      <td>5900.0</td>\n      <td>6660.0</td>\n      <td>6390.0</td>\n      <td>6590.0</td>\n      <td>7300.0</td>\n      <td>6220.0</td>\n      <td>6210.0</td>\n      <td>7160.0</td>\n      <td>6670.0</td>\n      <td>7090.0</td>\n    </tr>\n    <tr>\n      <th>3</th>\n      <td>M.0.EL</td>\n      <td>AND</td>\n      <td>HISTCR</td>\n      <td>PRIMAP-hist_v2.3.1</td>\n      <td>Gg CO2 / yr</td>\n      <td>CO2-total-excl-LU</td>\n      <td>409.0</td>\n      <td>417.0</td>\n      <td>426.0</td>\n      <td>436.0</td>\n      <td>...</td>\n      <td>556.0</td>\n      <td>525.0</td>\n      <td>523.0</td>\n      <td>512.0</td>\n      <td>497.0</td>\n      <td>497.0</td>\n      <td>504.0</td>\n      <td>506.0</td>\n      <td>494.0</td>\n      <td>470.0</td>\n    </tr>\n    <tr>\n      <th>4</th>\n      <td>M.0.EL</td>\n      <td>ARE</td>\n      <td>HISTCR</td>\n      <td>PRIMAP-hist_v2.3.1</td>\n      <td>Gg CO2 / yr</td>\n      <td>CO2-total-excl-LU</td>\n      <td>47000.0</td>\n      <td>52700.0</td>\n      <td>53300.0</td>\n      <td>61000.0</td>\n      <td>...</td>\n      <td>154000.0</td>\n      <td>162000.0</td>\n      <td>199000.0</td>\n      <td>197000.0</td>\n      <td>191000.0</td>\n      <td>211000.0</td>\n      <td>203000.0</td>\n      <td>171000.0</td>\n      <td>170000.0</td>\n      <td>170000.0</td>\n    </tr>\n    <tr>\n      <th>...</th>\n      <td>...</td>\n      <td>...</td>\n      <td>...</td>\n      <td>...</td>\n      <td>...</td>\n      <td>...</td>\n      <td>...</td>\n      <td>...</td>\n      <td>...</td>\n      <td>...</td>\n      <td>...</td>\n      <td>...</td>\n      <td>...</td>\n      <td>...</td>\n      <td>...</td>\n      <td>...</td>\n      <td>...</td>\n      <td>...</td>\n      <td>...</td>\n      <td>...</td>\n      <td>...</td>\n    </tr>\n    <tr>\n      <th>190</th>\n      <td>M.0.EL</td>\n      <td>WSM</td>\n      <td>HISTCR</td>\n      <td>PRIMAP-hist_v2.3.1</td>\n      <td>Gg CO2 / yr</td>\n      <td>CO2-total-excl-LU</td>\n      <td>104.0</td>\n      <td>108.0</td>\n      <td>111.0</td>\n      <td>111.0</td>\n      <td>...</td>\n      <td>188.0</td>\n      <td>203.0</td>\n      <td>199.0</td>\n      <td>199.0</td>\n      <td>210.0</td>\n      <td>236.0</td>\n      <td>247.0</td>\n      <td>245.0</td>\n      <td>252.0</td>\n      <td>353.0</td>\n    </tr>\n    <tr>\n      <th>191</th>\n      <td>M.0.EL</td>\n      <td>YEM</td>\n      <td>HISTCR</td>\n      <td>PRIMAP-hist_v2.3.1</td>\n      <td>Gg CO2 / yr</td>\n      <td>CO2-total-excl-LU</td>\n      <td>9710.0</td>\n      <td>9320.0</td>\n      <td>10100.0</td>\n      <td>8810.0</td>\n      <td>...</td>\n      <td>22400.0</td>\n      <td>22800.0</td>\n      <td>23400.0</td>\n      <td>31700.0</td>\n      <td>30700.0</td>\n      <td>16400.0</td>\n      <td>13200.0</td>\n      <td>12700.0</td>\n      <td>20300.0</td>\n      <td>20600.0</td>\n    </tr>\n    <tr>\n      <th>192</th>\n      <td>M.0.EL</td>\n      <td>ZAF</td>\n      <td>HISTCR</td>\n      <td>PRIMAP-hist_v2.3.1</td>\n      <td>Gg CO2 / yr</td>\n      <td>CO2-total-excl-LU</td>\n      <td>274000.0</td>\n      <td>284000.0</td>\n      <td>262000.0</td>\n      <td>279000.0</td>\n      <td>...</td>\n      <td>447000.0</td>\n      <td>461000.0</td>\n      <td>443000.0</td>\n      <td>455000.0</td>\n      <td>485000.0</td>\n      <td>460000.0</td>\n      <td>464000.0</td>\n      <td>472000.0</td>\n      <td>456000.0</td>\n      <td>465000.0</td>\n    </tr>\n    <tr>\n      <th>193</th>\n      <td>M.0.EL</td>\n      <td>ZMB</td>\n      <td>HISTCR</td>\n      <td>PRIMAP-hist_v2.3.1</td>\n      <td>Gg CO2 / yr</td>\n      <td>CO2-total-excl-LU</td>\n      <td>2490.0</td>\n      <td>2450.0</td>\n      <td>2480.0</td>\n      <td>2530.0</td>\n      <td>...</td>\n      <td>2650.0</td>\n      <td>2880.0</td>\n      <td>3600.0</td>\n      <td>3880.0</td>\n      <td>4270.0</td>\n      <td>4360.0</td>\n      <td>4730.0</td>\n      <td>6500.0</td>\n      <td>7030.0</td>\n      <td>7090.0</td>\n    </tr>\n    <tr>\n      <th>194</th>\n      <td>M.0.EL</td>\n      <td>ZWE</td>\n      <td>HISTCR</td>\n      <td>PRIMAP-hist_v2.3.1</td>\n      <td>Gg CO2 / yr</td>\n      <td>CO2-total-excl-LU</td>\n      <td>15600.0</td>\n      <td>15900.0</td>\n      <td>16900.0</td>\n      <td>15500.0</td>\n      <td>...</td>\n      <td>8620.0</td>\n      <td>10400.0</td>\n      <td>8440.0</td>\n      <td>12500.0</td>\n      <td>12900.0</td>\n      <td>13000.0</td>\n      <td>11700.0</td>\n      <td>11300.0</td>\n      <td>11900.0</td>\n      <td>11900.0</td>\n    </tr>\n  </tbody>\n</table>\n<p>195 rows × 36 columns</p>\n</div>"
     },
     "execution_count": 34,
     "metadata": {},
     "output_type": "execute_result"
    }
   ],
   "source": [
    "## reduce the data\n",
    "\n",
    "# select the right file \n",
    "# !*** Note that the file names here will need to be updated for new versions of PRIMAP-hist ***! \n",
    "if include_extrapolated_data:\n",
    "    raw_data_file = 'Guetschow-et-al-2021-PRIMAP-hist_v2.3.1_20-Sep_2021.csv'\n",
    "else:\n",
    "    raw_data_file = 'Guetschow-et-al-2021-PRIMAP-hist_v2.3.1_no_extrap_20-Sep_2021.csv'\n",
    "\n",
    "# get the data\n",
    "raw_data_folder = 'input-data'\n",
    "fname = os.path.join('', raw_data_folder, raw_data_file)\n",
    "print('reading ' + fname)\n",
    "raw_data = pd.read_csv(fname)\n",
    "\n",
    "# LTN: rename column names to ensure they match columns names in these tools\n",
    "raw_data.rename(columns={'scenario (PRIMAP-hist)': 'scenario',\n",
    "                         'area (ISO3)': 'country',\n",
    "                         'category (IPCC2006_PRIMAP)': 'category'}, inplace=True)\n",
    "\n",
    "# reduce to only the desired variable (one per output file)\n",
    "new_data = raw_data.loc[(raw_data['entity'] == raw_entity) &\n",
    "                        (raw_data['scenario'] == raw_scenario) &\n",
    "                        (raw_data['category'] == raw_sector)\n",
    "                        ]\n",
    "\n",
    "# reduce the countries or regions to only those desired\n",
    "new_data = new_data.loc[new_data['country'].isin(needed_countries)]\n",
    "\n",
    "# tell the user if any of the needed countries are missing and, if yes, which ones:\n",
    "missing_countries = list(set(needed_countries) - set(new_data['country'].unique()))\n",
    "if missing_countries:\n",
    "    print('Not all countries requested were available in the raw data. You are missing the following:')\n",
    "    for country in missing_countries:\n",
    "        print('   ' + to_name(country))\n",
    "    print('---------')\n",
    "\n",
    "# reduce to only required years\n",
    "new_data = utils.change_first_year(new_data, start_year)\n",
    "\n",
    "# rename columns to follow conventions\n",
    "new_data = new_data.rename(columns={'entity': 'variable'})\n",
    "\n",
    "# make sure 'variable' contains all necessary information\n",
    "new_data['variable'] = new_variable_name\n",
    "\n",
    "# label the source\n",
    "new_data['source'] = new_source_name\n",
    "\n",
    "new_data = utils.check_column_order(new_data)\n",
    "\n",
    "# check!\n",
    "new_data"
   ]
  },
  {
   "cell_type": "code",
   "execution_count": 35,
   "metadata": {
    "pycharm": {
     "name": "#%%\n"
    }
   },
   "outputs": [
    {
     "name": "stdout",
     "output_type": "stream",
     "text": [
      "Processed data written to file! - proc-data\\PRIMAP-hist_v2.3.1_CO2-total-excl-LU.csv\n"
     ]
    }
   ],
   "source": [
    "## write the data to file\n",
    "\n",
    "\"\"\"\n",
    "First ensure that years, unit, 'country', and variable are all in data. If they are\n",
    "can proceed to print data\n",
    "\"\"\"\n",
    "\n",
    "if 'country' not in new_data.columns or 'unit' not in new_data.columns:\n",
    "\n",
    "    print('Missing required information! Please check your input data and processing!')\n",
    "\n",
    "else:\n",
    "\n",
    "    # define filename as composite of variable and source name\n",
    "    fname_out = new_source_name + '_' + new_variable_name + '.csv'\n",
    "    fullfname_out = os.path.join('proc-data', fname_out)\n",
    "\n",
    "    # check folder exists\n",
    "    if not os.path.exists('proc-data'):\n",
    "        os.makedirs('proc-data')\n",
    "\n",
    "    # write to csv in proc data folder\n",
    "    new_data.to_csv(fullfname_out, index=False)\n",
    "\n",
    "    # celebrate success \n",
    "    print('Processed data written to file! - ' + fullfname_out)\n"
   ]
  },
  {
   "cell_type": "markdown",
   "metadata": {
    "pycharm": {
     "name": "#%% md\n"
    }
   },
   "source": [
    "**Test ground below**"
   ]
  },
  {
   "cell_type": "code",
   "execution_count": 6,
   "metadata": {
    "pycharm": {
     "name": "#%%\n"
    }
   },
   "outputs": [
    {
     "data": {
      "text/plain": [
       "Index(['category', 'country', 'scenario', 'source', 'unit', 'variable', '1990',\n",
       "       '1991', '1992', '1993', '1994', '1995', '1996', '1997', '1998', '1999',\n",
       "       '2000', '2001', '2002', '2003', '2004', '2005', '2006', '2007', '2008',\n",
       "       '2009', '2010', '2011', '2012', '2013', '2014', '2015', '2016'],\n",
       "      dtype='object')"
      ]
     },
     "execution_count": 6,
     "metadata": {},
     "output_type": "execute_result"
    }
   ],
   "source": [
    "new_data.columns\n"
   ]
  }
 ],
 "metadata": {
  "kernelspec": {
   "display_name": "Python 3",
   "language": "python",
   "name": "python3"
  },
  "language_info": {
   "codemirror_mode": {
    "name": "ipython",
    "version": 3
   },
   "file_extension": ".py",
   "mimetype": "text/x-python",
   "name": "python",
   "nbconvert_exporter": "python",
   "pygments_lexer": "ipython3",
   "version": "3.7.3"
  }
 },
 "nbformat": 4,
 "nbformat_minor": 2
}