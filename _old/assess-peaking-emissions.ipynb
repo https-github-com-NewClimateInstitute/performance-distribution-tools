{
 "cells": [
  {
   "cell_type": "markdown",
   "metadata": {
    "pycharm": {
     "name": "#%% md\n"
    }
   },
   "source": [
    "# Peaking emissions\n",
    "\n",
    "* A key step on the way to reducing emissions is for them to peak, at both a national and global level\n",
    "* This notebook reads in emissions data (either national totals or subsectors) and assesses how many countries have peaked emissions. In addition, it explores which countries have emissions that may have stabilised vs. those that are clearly still increasing.\n",
    "* The specific criteria for 'peaking' emissions can be set by the user, and include\n",
    "    * a date since which emissions must have peaked - this removes countries whose emissions peaked since 1990 but have since increased. \n",
    "    * a more recent end year *before* which emissions must have peaked. This excludes countries whose maxima in emissions was in the last few years but not long enough ago to be sure that they will not increase again. \n",
    "    * A period over which average emissions have steadily decreased by a given threshold, e.g. average 5-yearly decrease of 1.5% per year.\n",
    "    \n",
    "    \n",
    "\n",
    "Observations: \n",
    "* the longer the averaging period for the calculation of a trend, the fewer peaked / stabilised countries. It's also less sensitive to recent trends though and therefore maybe more robust. \n",
    "* Question: What are the best parameters??\n",
    "* are there some instances where a rolling average is better and some where an annual (or shorter) average is better?\n",
    "* changing the start year between 1990 and 2000 may change which countries are considered 'stabilised'"
   ]
  },
  {
   "cell_type": "code",
   "execution_count": 7,
   "metadata": {
    "pycharm": {
     "name": "#%%\n"
    }
   },
   "outputs": [],
   "source": [
    "# import modules\n",
    "\n",
    "# system\n",
    "import sys, os, re\n",
    "\n",
    "# for analysis\n",
    "import pandas as pd\n",
    "import numpy as np\n",
    "\n",
    "# for plotting\n",
    "import matplotlib as mpl\n",
    "import matplotlib.pyplot as plt\n",
    "import seaborn\n",
    "%matplotlib inline\n",
    "\n",
    "# global stocktake tools\n",
    "from gst_tools.make_plots import *\n",
    "import gst_tools.gst_utils as utils\n",
    "\n",
    "#from shortcountrynames import to_name\n",
    "from countrygroups import EUROPEAN_UNION, UNFCCC, LDC, SIDS, UMBRELLA"
   ]
  },
  {
   "cell_type": "code",
   "execution_count": 10,
   "metadata": {
    "pycharm": {
     "name": "#%%\n"
    }
   },
   "outputs": [],
   "source": [
    "# User specs\n",
    "\n",
    "\"\"\"\n",
    "PLEASE ADJUST THE FOLLOWING PARAMETERS TO SUIT YOUR NEEDS! \n",
    "\"\"\"\n",
    "\n",
    "# File containing data to be used:\n",
    "#data_file_name = 'PRIMAP-hist_v2.3.1_CO2-total-excl-LU.csv'\n",
    "data_file_name = 'PRIMAP-hist_v2.3.1_CO2-energy.csv'\n",
    "\n",
    "# keep plots nice!\n",
    "var_name_for_plots = 'Energy GHG emissions' #'greenhouse gas emissions (excl. LULUCF)'\n",
    "\n",
    "\n",
    "# year since which peaking must have occurred:\n",
    "peak_since = 1990\n",
    "\n",
    "# number of years before end of data series BY which peak should have occurred:\n",
    "nyears = 5\n",
    "\n",
    "# number of years over which emissions trend should be averaged\n",
    "n_trend_years = 5\n",
    "\n",
    "# Emissions only evaluated as peaking if n-year trend is less than X%\n",
    "# (negative sign needed for decreasing emissions ie. \n",
    "# if threshold is -2%  means a greater than 2% DECREASE in emissions.)\n",
    "decrease_threshold = -1.5\n",
    "\n",
    "\n",
    "# region to assess \n",
    "# (TODO - fix, currently crashes with non-UNFCCC groups because of missing categories)\n",
    "region_of_interest = UNFCCC\n",
    "#region_of_interest = EUROPEAN_UNION\n"
   ]
  },
  {
   "cell_type": "code",
   "execution_count": 11,
   "metadata": {
    "pycharm": {
     "name": "#%%\n"
    }
   },
   "outputs": [],
   "source": [
    "# Read the data\n",
    "\n",
    "# read the data from file\n",
    "# TODO: adjust next line to include example-data string\n",
    "fname_in = os.path.join('proc-data', data_file_name)\n",
    "data = pd.read_csv(fname_in)\n",
    "\n",
    "# Check the data format\n",
    "# TODO: running with example data raises warning\n",
    "if not utils.verify_data_format(data):\n",
    "    print('WARNING: The data is not correctly formatted! Please check before continuing!')\n",
    "\n",
    "# extract the key information\n",
    "variable = data['variable'].unique()[0]\n",
    "unit = data['unit'].unique()[0]\n",
    "\n",
    "# reduce to only the countries of interest (for easier plotting etc.)\n",
    "data = data.loc[data['country'].isin(region_of_interest)]\n",
    "\n",
    "# reorganise and clean the data\n",
    "data_years = utils.set_countries_as_index(data)\n",
    "data_years = data_years.dropna(axis=1, how='any')\n",
    "\n",
    "# remove comment below to display the data\n",
    "#data_years"
   ]
  },
  {
   "cell_type": "code",
   "execution_count": 12,
   "metadata": {
    "pycharm": {
     "name": "#%%\n"
    }
   },
   "outputs": [
    {
     "name": "stdout",
     "output_type": "stream",
     "text": [
      "First year of data available is now 1990\n",
      "Last year of data available is 2019\n"
     ]
    }
   ],
   "source": [
    "# Year of peaking \n",
    "\n",
    "\"\"\"\n",
    "Makes a histogram of the year in which emissions have peaked since the start year specified above (peak_since).\n",
    "\"\"\"\n",
    "\n",
    "reduced_data = utils.change_first_year(data_years, peak_since)\n",
    "\n",
    "year_max = reduced_data.idxmax(axis=1)\n",
    "year_max = pd.to_numeric(year_max)\n",
    "year_max.name = 'peak year'\n",
    "\n",
    "start_year = min(list(map(int, data_years.columns)))\n",
    "end_year = max(list(map(int, data_years.columns)))\n",
    "\n",
    "make_histogram_peaking(year_max, var_name_for_plots, '', peak_since, end_year, save_plot=True)"
   ]
  },
  {
   "cell_type": "code",
   "execution_count": 13,
   "metadata": {
    "pycharm": {
     "name": "#%%\n"
    }
   },
   "outputs": [
    {
     "name": "stdout",
     "output_type": "stream",
     "text": [
      "Averaging trend over 5 years.\n",
      "\n",
      "Share of countries peaked is 10.7%\n",
      "Share of countries stabilised is 18.4%\n",
      "Share of countries not peaked or stabilised is 70.9%\n",
      "Total is: 100.0%\n",
      "\n"
     ]
    }
   ],
   "source": [
    "# Interrogate the data with different conditions (peak year, decreasing rate) to categorise countries  \n",
    "\n",
    "# set up a dataframe to store analysis results\n",
    "peaking_assessment = pd.DataFrame()\n",
    "peaking_assessment['max year'] = year_max\n",
    "  \n",
    "\n",
    "# Identify countries that have 'peaked' before the time period chosen by the user above (n years ago)\n",
    "peaking_assessment['max_reached'] = peaking_assessment['max year'].apply(\n",
    "                                                                lambda x : (x < (end_year - nyears)))\n",
    "\n",
    "# Identify countries with decreasing emissions trends\n",
    "recent_trends, recent_trends_rolling, unit = utils.calculate_trends(reduced_data, num_years_trend=n_trend_years)\n",
    "peaking_assessment['trend'] = recent_trends_rolling[str(end_year)]\n",
    "\n",
    "peaking_assessment['decreasing'] = peaking_assessment['trend'].apply(lambda x: (x < 0))\n",
    "peaking_assessment['strongly_decreasing'] = peaking_assessment['trend'].apply(lambda x: (x < decrease_threshold))\n",
    "peaking_assessment['stable'] = peaking_assessment['trend'].apply(lambda x: (decrease_threshold < x < 0.5))\n",
    "\n",
    "\n",
    "# Use multi-criteria to define different regimes\n",
    "# First, the clear cases...\n",
    "peaking_assessment['peaked']     = peaking_assessment['max_reached'] & \\\n",
    "                                   peaking_assessment['strongly_decreasing']\n",
    "\n",
    "peaking_assessment['stabilised'] = (peaking_assessment['max_reached'] & \\\n",
    "                                    peaking_assessment['stable']) | \\\n",
    "                                   ((peaking_assessment['max_reached']==False) & \\\n",
    "                                    (peaking_assessment['strongly_decreasing']))\n",
    "\n",
    "peaking_assessment['not_peaked'] = (peaking_assessment['stabilised']==False) & \\\n",
    "                                   (peaking_assessment['peaked']==False)\n",
    "\n",
    "\n",
    "# Get stats of shares\n",
    "share_peaked     = peaking_assessment['peaked'].value_counts(normalize=True) \n",
    "share_stabilised = peaking_assessment['stabilised'].value_counts(normalize=True)\n",
    "share_increasing = peaking_assessment['not_peaked'].value_counts(normalize=True)\n",
    "check_total = share_peaked[True] + share_stabilised[True] + share_increasing[True]\n",
    "\n",
    "\n",
    "# and print to screen...\n",
    "print('')\n",
    "print('Share of countries peaked is {:.1f}%'.format(share_peaked[True]*100))\n",
    "print('Share of countries stabilised is {:.1f}%'.format(share_stabilised[True]*100))\n",
    "print('Share of countries not peaked or stabilised is {:.1f}%'.format(share_increasing[True]*100))\n",
    "print('Total is: {:.1f}%'.format(check_total*100))\n",
    "print('')\n",
    "\n",
    "# old categories..\n",
    "#print('Share of countries possibly stabilised is {:.1f}%'.format(share_possible[True]*100))\n",
    "#print('Share of countries remaining is {:.1f}%'.format(share_remaining[True]*100))\n"
   ]
  },
  {
   "cell_type": "code",
   "execution_count": 14,
   "metadata": {
    "pycharm": {
     "name": "#%%\n"
    }
   },
   "outputs": [],
   "source": [
    "# Make a plot to summarise how many countries fall into each group.\n",
    "\n",
    "# count the number of countries in each category\n",
    "number_peaked     = peaking_assessment['peaked'].value_counts(normalize=False) \n",
    "number_stabilised = peaking_assessment['stabilised'].value_counts(normalize=False)\n",
    "number_increasing = peaking_assessment['not_peaked'].value_counts(normalize=False)\n",
    "total_countries = number_peaked[True] + number_stabilised[True] + number_increasing[True]\n",
    "\n",
    "# define new dataframe\n",
    "summary_data = pd.DataFrame({'category': ['peaked', 'stabilised', 'not peaked'],\n",
    "                             'count': [number_peaked[True],  number_stabilised[True], number_increasing[True]]})\n",
    "\n",
    "# make the plot\n",
    "peaking_barplot(summary_data, var_name_for_plots, str(end_year), save_plot=True)"
   ]
  },
  {
   "cell_type": "code",
   "execution_count": 16,
   "metadata": {
    "pycharm": {
     "name": "#%%\n"
    }
   },
   "outputs": [],
   "source": [
    "# And make some plots to view and check the results. \n",
    "\n",
    "\n",
    "\"\"\"\n",
    "These functions will plot facet grids of the emissions trends and absolute emissions\n",
    "for all countries in each category. \n",
    "\n",
    "Note that this can take quite some time to run! \n",
    "\"\"\"\n",
    "\n",
    "\n",
    "# 1. Peaking\n",
    "# prep data for plotting \n",
    "peaked_country_trends = recent_trends_rolling[peaking_assessment['peaked']]\n",
    "peaked_country_abs = data_years[peaking_assessment['peaked']] \n",
    "\n",
    "# make the plots\n",
    "plot_facet_grid_countries(peaked_country_trends, 'year', '% change', \n",
    "                          main_title='Countries with peaked emissions', \n",
    "                          plot_name=('peaked-' + variable), save_plot=True)\n",
    "\n",
    "plot_facet_grid_countries(peaked_country_abs, 'year', 'emissions', \n",
    "                          main_title='Absolute emissions for peaked countries', \n",
    "                          plot_name=('peaked-' + variable), save_plot=True)\n",
    "\n",
    "    \n",
    "# 2. Stabilised\n",
    "stab_trends = recent_trends_rolling[peaking_assessment['stabilised']]\n",
    "stab_abs    = data_years[peaking_assessment['stabilised']] \n",
    "\n",
    "plot_facet_grid_countries(stab_trends, 'year', '% change', \n",
    "                         main_title='Trends in countries with stabilised emissions', \n",
    "                         plot_name=('stabilised-' + variable), save_plot=True)\n",
    "plot_facet_grid_countries(stab_abs, 'year', 'emissions', \n",
    "                         main_title='Emissions in countries with stabilised emissions', \n",
    "                         plot_name=('stabilised-' + variable), save_plot=True)\n",
    "\n",
    "# 3. still increasing\n",
    "not_peaked_trends = recent_trends_rolling[peaking_assessment['not_peaked']]\n",
    "not_peaked_abs    = data_years[peaking_assessment['not_peaked']] \n",
    "\n",
    "plot_facet_grid_countries(not_peaked_trends, 'year', '% change', \n",
    "                         main_title='Trends in countries with emissions that have not yet peaked',\n",
    "                         plot_name=('not-peaked-' + variable),\n",
    "                         save_plot=True)\n",
    "plot_facet_grid_countries(not_peaked_abs, 'year', 'emissions', \n",
    "                         main_title='Emissions in countries with emissions that have not yet peaked', \n",
    "                         plot_name=('not-peaked-' + variable),\n",
    "                         save_plot=True)\n"
   ]
  },
  {
   "cell_type": "markdown",
   "metadata": {
    "pycharm": {
     "name": "#%% md\n"
    }
   },
   "source": [
    "### Testground below here!"
   ]
  },
  {
   "cell_type": "code",
   "execution_count": 8,
   "metadata": {
    "pycharm": {
     "name": "#%%\n"
    }
   },
   "outputs": [
    {
     "name": "stdout",
     "output_type": "stream",
     "text": [
      "Averaging trend over 5 years.\n"
     ]
    },
    {
     "ename": "KeyError",
     "evalue": "'ZAF'",
     "output_type": "error",
     "traceback": [
      "\u001b[1;31m---------------------------------------------------------------------------\u001b[0m",
      "\u001b[1;31mKeyError\u001b[0m                                  Traceback (most recent call last)",
      "\u001b[1;32mc:\\users\\leonardonascimento\\pycharmprojects\\performance-distribution-tools\\venv\\lib\\site-packages\\pandas\\core\\indexes\\base.py\u001b[0m in \u001b[0;36mget_loc\u001b[1;34m(self, key, method, tolerance)\u001b[0m\n\u001b[0;32m   3360\u001b[0m             \u001b[1;32mtry\u001b[0m\u001b[1;33m:\u001b[0m\u001b[1;33m\u001b[0m\u001b[1;33m\u001b[0m\u001b[0m\n\u001b[1;32m-> 3361\u001b[1;33m                 \u001b[1;32mreturn\u001b[0m \u001b[0mself\u001b[0m\u001b[1;33m.\u001b[0m\u001b[0m_engine\u001b[0m\u001b[1;33m.\u001b[0m\u001b[0mget_loc\u001b[0m\u001b[1;33m(\u001b[0m\u001b[0mcasted_key\u001b[0m\u001b[1;33m)\u001b[0m\u001b[1;33m\u001b[0m\u001b[1;33m\u001b[0m\u001b[0m\n\u001b[0m\u001b[0;32m   3362\u001b[0m             \u001b[1;32mexcept\u001b[0m \u001b[0mKeyError\u001b[0m \u001b[1;32mas\u001b[0m \u001b[0merr\u001b[0m\u001b[1;33m:\u001b[0m\u001b[1;33m\u001b[0m\u001b[1;33m\u001b[0m\u001b[0m\n",
      "\u001b[1;32mc:\\users\\leonardonascimento\\pycharmprojects\\performance-distribution-tools\\venv\\lib\\site-packages\\pandas\\_libs\\index.pyx\u001b[0m in \u001b[0;36mpandas._libs.index.IndexEngine.get_loc\u001b[1;34m()\u001b[0m\n",
      "\u001b[1;32mc:\\users\\leonardonascimento\\pycharmprojects\\performance-distribution-tools\\venv\\lib\\site-packages\\pandas\\_libs\\index.pyx\u001b[0m in \u001b[0;36mpandas._libs.index.IndexEngine.get_loc\u001b[1;34m()\u001b[0m\n",
      "\u001b[1;32mc:\\users\\leonardonascimento\\pycharmprojects\\performance-distribution-tools\\venv\\lib\\site-packages\\pandas\\_libs\\index.pyx\u001b[0m in \u001b[0;36mpandas._libs.index.IndexEngine._get_loc_duplicates\u001b[1;34m()\u001b[0m\n",
      "\u001b[1;32mc:\\users\\leonardonascimento\\pycharmprojects\\performance-distribution-tools\\venv\\lib\\site-packages\\pandas\\_libs\\index.pyx\u001b[0m in \u001b[0;36mpandas._libs.index.IndexEngine._maybe_get_bool_indexer\u001b[1;34m()\u001b[0m\n",
      "\u001b[1;32mc:\\users\\leonardonascimento\\pycharmprojects\\performance-distribution-tools\\venv\\lib\\site-packages\\pandas\\_libs\\index.pyx\u001b[0m in \u001b[0;36mpandas._libs.index.IndexEngine._unpack_bool_indexer\u001b[1;34m()\u001b[0m\n",
      "\u001b[1;31mKeyError\u001b[0m: 'ZAF'",
      "\nThe above exception was the direct cause of the following exception:\n",
      "\u001b[1;31mKeyError\u001b[0m                                  Traceback (most recent call last)",
      "\u001b[1;32mC:\\Users\\LEONAR~1\\AppData\\Local\\Temp/ipykernel_15088/1033207717.py\u001b[0m in \u001b[0;36m<module>\u001b[1;34m\u001b[0m\n\u001b[0;32m      4\u001b[0m \u001b[0mrecent_trends\u001b[0m\u001b[1;33m,\u001b[0m \u001b[0mrecent_trends_rolling\u001b[0m\u001b[1;33m,\u001b[0m \u001b[0munit\u001b[0m \u001b[1;33m=\u001b[0m \u001b[0mutils\u001b[0m\u001b[1;33m.\u001b[0m\u001b[0mcalculate_trends\u001b[0m\u001b[1;33m(\u001b[0m\u001b[0mreduced_data\u001b[0m\u001b[1;33m,\u001b[0m \u001b[0mnum_years_trend\u001b[0m\u001b[1;33m=\u001b[0m\u001b[1;36m5\u001b[0m\u001b[1;33m)\u001b[0m\u001b[1;33m\u001b[0m\u001b[1;33m\u001b[0m\u001b[0m\n\u001b[0;32m      5\u001b[0m \u001b[1;33m\u001b[0m\u001b[0m\n\u001b[1;32m----> 6\u001b[1;33m \u001b[0mtrends\u001b[0m \u001b[1;33m=\u001b[0m \u001b[0mrecent_trends\u001b[0m\u001b[1;33m.\u001b[0m\u001b[0mloc\u001b[0m\u001b[1;33m[\u001b[0m\u001b[1;34m'ZAF'\u001b[0m\u001b[1;33m]\u001b[0m\u001b[1;33m\u001b[0m\u001b[1;33m\u001b[0m\u001b[0m\n\u001b[0m\u001b[0;32m      7\u001b[0m \u001b[0mrolling\u001b[0m \u001b[1;33m=\u001b[0m \u001b[0mrecent_trends_rolling\u001b[0m\u001b[1;33m.\u001b[0m\u001b[0mloc\u001b[0m\u001b[1;33m[\u001b[0m\u001b[1;34m'ZAF'\u001b[0m\u001b[1;33m]\u001b[0m\u001b[1;33m\u001b[0m\u001b[1;33m\u001b[0m\u001b[0m\n\u001b[0;32m      8\u001b[0m \u001b[0mabs_emis\u001b[0m \u001b[1;33m=\u001b[0m \u001b[0mreduced_data\u001b[0m\u001b[1;33m.\u001b[0m\u001b[0mloc\u001b[0m\u001b[1;33m[\u001b[0m\u001b[1;34m'ZAF'\u001b[0m\u001b[1;33m]\u001b[0m\u001b[1;33m\u001b[0m\u001b[1;33m\u001b[0m\u001b[0m\n",
      "\u001b[1;32mc:\\users\\leonardonascimento\\pycharmprojects\\performance-distribution-tools\\venv\\lib\\site-packages\\pandas\\core\\indexing.py\u001b[0m in \u001b[0;36m__getitem__\u001b[1;34m(self, key)\u001b[0m\n\u001b[0;32m    929\u001b[0m \u001b[1;33m\u001b[0m\u001b[0m\n\u001b[0;32m    930\u001b[0m             \u001b[0mmaybe_callable\u001b[0m \u001b[1;33m=\u001b[0m \u001b[0mcom\u001b[0m\u001b[1;33m.\u001b[0m\u001b[0mapply_if_callable\u001b[0m\u001b[1;33m(\u001b[0m\u001b[0mkey\u001b[0m\u001b[1;33m,\u001b[0m \u001b[0mself\u001b[0m\u001b[1;33m.\u001b[0m\u001b[0mobj\u001b[0m\u001b[1;33m)\u001b[0m\u001b[1;33m\u001b[0m\u001b[1;33m\u001b[0m\u001b[0m\n\u001b[1;32m--> 931\u001b[1;33m             \u001b[1;32mreturn\u001b[0m \u001b[0mself\u001b[0m\u001b[1;33m.\u001b[0m\u001b[0m_getitem_axis\u001b[0m\u001b[1;33m(\u001b[0m\u001b[0mmaybe_callable\u001b[0m\u001b[1;33m,\u001b[0m \u001b[0maxis\u001b[0m\u001b[1;33m=\u001b[0m\u001b[0maxis\u001b[0m\u001b[1;33m)\u001b[0m\u001b[1;33m\u001b[0m\u001b[1;33m\u001b[0m\u001b[0m\n\u001b[0m\u001b[0;32m    932\u001b[0m \u001b[1;33m\u001b[0m\u001b[0m\n\u001b[0;32m    933\u001b[0m     \u001b[1;32mdef\u001b[0m \u001b[0m_is_scalar_access\u001b[0m\u001b[1;33m(\u001b[0m\u001b[0mself\u001b[0m\u001b[1;33m,\u001b[0m \u001b[0mkey\u001b[0m\u001b[1;33m:\u001b[0m \u001b[0mtuple\u001b[0m\u001b[1;33m)\u001b[0m\u001b[1;33m:\u001b[0m\u001b[1;33m\u001b[0m\u001b[1;33m\u001b[0m\u001b[0m\n",
      "\u001b[1;32mc:\\users\\leonardonascimento\\pycharmprojects\\performance-distribution-tools\\venv\\lib\\site-packages\\pandas\\core\\indexing.py\u001b[0m in \u001b[0;36m_getitem_axis\u001b[1;34m(self, key, axis)\u001b[0m\n\u001b[0;32m   1162\u001b[0m         \u001b[1;31m# fall thru to straight lookup\u001b[0m\u001b[1;33m\u001b[0m\u001b[1;33m\u001b[0m\u001b[1;33m\u001b[0m\u001b[0m\n\u001b[0;32m   1163\u001b[0m         \u001b[0mself\u001b[0m\u001b[1;33m.\u001b[0m\u001b[0m_validate_key\u001b[0m\u001b[1;33m(\u001b[0m\u001b[0mkey\u001b[0m\u001b[1;33m,\u001b[0m \u001b[0maxis\u001b[0m\u001b[1;33m)\u001b[0m\u001b[1;33m\u001b[0m\u001b[1;33m\u001b[0m\u001b[0m\n\u001b[1;32m-> 1164\u001b[1;33m         \u001b[1;32mreturn\u001b[0m \u001b[0mself\u001b[0m\u001b[1;33m.\u001b[0m\u001b[0m_get_label\u001b[0m\u001b[1;33m(\u001b[0m\u001b[0mkey\u001b[0m\u001b[1;33m,\u001b[0m \u001b[0maxis\u001b[0m\u001b[1;33m=\u001b[0m\u001b[0maxis\u001b[0m\u001b[1;33m)\u001b[0m\u001b[1;33m\u001b[0m\u001b[1;33m\u001b[0m\u001b[0m\n\u001b[0m\u001b[0;32m   1165\u001b[0m \u001b[1;33m\u001b[0m\u001b[0m\n\u001b[0;32m   1166\u001b[0m     \u001b[1;32mdef\u001b[0m \u001b[0m_get_slice_axis\u001b[0m\u001b[1;33m(\u001b[0m\u001b[0mself\u001b[0m\u001b[1;33m,\u001b[0m \u001b[0mslice_obj\u001b[0m\u001b[1;33m:\u001b[0m \u001b[0mslice\u001b[0m\u001b[1;33m,\u001b[0m \u001b[0maxis\u001b[0m\u001b[1;33m:\u001b[0m \u001b[0mint\u001b[0m\u001b[1;33m)\u001b[0m\u001b[1;33m:\u001b[0m\u001b[1;33m\u001b[0m\u001b[1;33m\u001b[0m\u001b[0m\n",
      "\u001b[1;32mc:\\users\\leonardonascimento\\pycharmprojects\\performance-distribution-tools\\venv\\lib\\site-packages\\pandas\\core\\indexing.py\u001b[0m in \u001b[0;36m_get_label\u001b[1;34m(self, label, axis)\u001b[0m\n\u001b[0;32m   1111\u001b[0m     \u001b[1;32mdef\u001b[0m \u001b[0m_get_label\u001b[0m\u001b[1;33m(\u001b[0m\u001b[0mself\u001b[0m\u001b[1;33m,\u001b[0m \u001b[0mlabel\u001b[0m\u001b[1;33m,\u001b[0m \u001b[0maxis\u001b[0m\u001b[1;33m:\u001b[0m \u001b[0mint\u001b[0m\u001b[1;33m)\u001b[0m\u001b[1;33m:\u001b[0m\u001b[1;33m\u001b[0m\u001b[1;33m\u001b[0m\u001b[0m\n\u001b[0;32m   1112\u001b[0m         \u001b[1;31m# GH#5667 this will fail if the label is not present in the axis.\u001b[0m\u001b[1;33m\u001b[0m\u001b[1;33m\u001b[0m\u001b[1;33m\u001b[0m\u001b[0m\n\u001b[1;32m-> 1113\u001b[1;33m         \u001b[1;32mreturn\u001b[0m \u001b[0mself\u001b[0m\u001b[1;33m.\u001b[0m\u001b[0mobj\u001b[0m\u001b[1;33m.\u001b[0m\u001b[0mxs\u001b[0m\u001b[1;33m(\u001b[0m\u001b[0mlabel\u001b[0m\u001b[1;33m,\u001b[0m \u001b[0maxis\u001b[0m\u001b[1;33m=\u001b[0m\u001b[0maxis\u001b[0m\u001b[1;33m)\u001b[0m\u001b[1;33m\u001b[0m\u001b[1;33m\u001b[0m\u001b[0m\n\u001b[0m\u001b[0;32m   1114\u001b[0m \u001b[1;33m\u001b[0m\u001b[0m\n\u001b[0;32m   1115\u001b[0m     \u001b[1;32mdef\u001b[0m \u001b[0m_handle_lowerdim_multi_index_axis0\u001b[0m\u001b[1;33m(\u001b[0m\u001b[0mself\u001b[0m\u001b[1;33m,\u001b[0m \u001b[0mtup\u001b[0m\u001b[1;33m:\u001b[0m \u001b[0mtuple\u001b[0m\u001b[1;33m)\u001b[0m\u001b[1;33m:\u001b[0m\u001b[1;33m\u001b[0m\u001b[1;33m\u001b[0m\u001b[0m\n",
      "\u001b[1;32mc:\\users\\leonardonascimento\\pycharmprojects\\performance-distribution-tools\\venv\\lib\\site-packages\\pandas\\core\\generic.py\u001b[0m in \u001b[0;36mxs\u001b[1;34m(self, key, axis, level, drop_level)\u001b[0m\n\u001b[0;32m   3774\u001b[0m                 \u001b[1;32mraise\u001b[0m \u001b[0mTypeError\u001b[0m\u001b[1;33m(\u001b[0m\u001b[1;34mf\"Expected label or tuple of labels, got {key}\"\u001b[0m\u001b[1;33m)\u001b[0m \u001b[1;32mfrom\u001b[0m \u001b[0me\u001b[0m\u001b[1;33m\u001b[0m\u001b[1;33m\u001b[0m\u001b[0m\n\u001b[0;32m   3775\u001b[0m         \u001b[1;32melse\u001b[0m\u001b[1;33m:\u001b[0m\u001b[1;33m\u001b[0m\u001b[1;33m\u001b[0m\u001b[0m\n\u001b[1;32m-> 3776\u001b[1;33m             \u001b[0mloc\u001b[0m \u001b[1;33m=\u001b[0m \u001b[0mindex\u001b[0m\u001b[1;33m.\u001b[0m\u001b[0mget_loc\u001b[0m\u001b[1;33m(\u001b[0m\u001b[0mkey\u001b[0m\u001b[1;33m)\u001b[0m\u001b[1;33m\u001b[0m\u001b[1;33m\u001b[0m\u001b[0m\n\u001b[0m\u001b[0;32m   3777\u001b[0m \u001b[1;33m\u001b[0m\u001b[0m\n\u001b[0;32m   3778\u001b[0m             \u001b[1;32mif\u001b[0m \u001b[0misinstance\u001b[0m\u001b[1;33m(\u001b[0m\u001b[0mloc\u001b[0m\u001b[1;33m,\u001b[0m \u001b[0mnp\u001b[0m\u001b[1;33m.\u001b[0m\u001b[0mndarray\u001b[0m\u001b[1;33m)\u001b[0m\u001b[1;33m:\u001b[0m\u001b[1;33m\u001b[0m\u001b[1;33m\u001b[0m\u001b[0m\n",
      "\u001b[1;32mc:\\users\\leonardonascimento\\pycharmprojects\\performance-distribution-tools\\venv\\lib\\site-packages\\pandas\\core\\indexes\\base.py\u001b[0m in \u001b[0;36mget_loc\u001b[1;34m(self, key, method, tolerance)\u001b[0m\n\u001b[0;32m   3361\u001b[0m                 \u001b[1;32mreturn\u001b[0m \u001b[0mself\u001b[0m\u001b[1;33m.\u001b[0m\u001b[0m_engine\u001b[0m\u001b[1;33m.\u001b[0m\u001b[0mget_loc\u001b[0m\u001b[1;33m(\u001b[0m\u001b[0mcasted_key\u001b[0m\u001b[1;33m)\u001b[0m\u001b[1;33m\u001b[0m\u001b[1;33m\u001b[0m\u001b[0m\n\u001b[0;32m   3362\u001b[0m             \u001b[1;32mexcept\u001b[0m \u001b[0mKeyError\u001b[0m \u001b[1;32mas\u001b[0m \u001b[0merr\u001b[0m\u001b[1;33m:\u001b[0m\u001b[1;33m\u001b[0m\u001b[1;33m\u001b[0m\u001b[0m\n\u001b[1;32m-> 3363\u001b[1;33m                 \u001b[1;32mraise\u001b[0m \u001b[0mKeyError\u001b[0m\u001b[1;33m(\u001b[0m\u001b[0mkey\u001b[0m\u001b[1;33m)\u001b[0m \u001b[1;32mfrom\u001b[0m \u001b[0merr\u001b[0m\u001b[1;33m\u001b[0m\u001b[1;33m\u001b[0m\u001b[0m\n\u001b[0m\u001b[0;32m   3364\u001b[0m \u001b[1;33m\u001b[0m\u001b[0m\n\u001b[0;32m   3365\u001b[0m         \u001b[1;32mif\u001b[0m \u001b[0mis_scalar\u001b[0m\u001b[1;33m(\u001b[0m\u001b[0mkey\u001b[0m\u001b[1;33m)\u001b[0m \u001b[1;32mand\u001b[0m \u001b[0misna\u001b[0m\u001b[1;33m(\u001b[0m\u001b[0mkey\u001b[0m\u001b[1;33m)\u001b[0m \u001b[1;32mand\u001b[0m \u001b[1;32mnot\u001b[0m \u001b[0mself\u001b[0m\u001b[1;33m.\u001b[0m\u001b[0mhasnans\u001b[0m\u001b[1;33m:\u001b[0m\u001b[1;33m\u001b[0m\u001b[1;33m\u001b[0m\u001b[0m\n",
      "\u001b[1;31mKeyError\u001b[0m: 'ZAF'"
     ]
    }
   ],
   "source": [
    "# TEST CELL - CHECK THE ROLLLING AVERAGE CALCULATION IS CORRECT.\n",
    "# RESULTS - YES, IT'S WORKING.\n",
    "\n",
    "recent_trends, recent_trends_rolling, unit = utils.calculate_trends(reduced_data, num_years_trend=5)\n",
    "\n",
    "trends = recent_trends.loc['ZAF']\n",
    "rolling = recent_trends_rolling.loc['ZAF']\n",
    "abs_emis = reduced_data.loc['ZAF']\n",
    "\n",
    "fig, ax = plt.subplots(2,1, sharex=True, sharey=False)\n",
    "ax[0].plot(trends.T)\n",
    "ax[0].axhline(0)\n",
    "ax[0].plot(rolling.T)\n",
    "#ax[1].axhline(0)\n",
    "ax[1].plot(abs_emis.T)\n",
    "plt.show()"
   ]
  },
  {
   "cell_type": "code",
   "execution_count": null,
   "metadata": {
    "pycharm": {
     "name": "#%%\n"
    }
   },
   "outputs": [],
   "source": [
    "# SHOW SUBSETS OF THE PEAKING CRITERIA\n",
    "\n",
    "peaking_assessment['check'] = ((peaking_assessment['max_reached']==False) & \\\n",
    "                                    (peaking_assessment['strongly_decreasing']))\n",
    "peaking_assessment['trend'] = recent_trends_rolling[str(end_year)]\n",
    "peaking_assessment.loc[peaking_assessment['check']]\n"
   ]
  },
  {
   "cell_type": "code",
   "execution_count": null,
   "metadata": {
    "pycharm": {
     "name": "#%%\n"
    }
   },
   "outputs": [],
   "source": [
    "\n"
   ]
  },
  {
   "cell_type": "code",
   "execution_count": null,
   "metadata": {
    "pycharm": {
     "name": "#%%\n"
    }
   },
   "outputs": [],
   "source": []
  }
 ],
 "metadata": {
  "interpreter": {
   "hash": "608a36f5416ceceb61954b4c8ecf25f8f8e577d217fe42c6e02baea4e789c715"
  },
  "kernelspec": {
   "display_name": "Python 3.10.4 64-bit",
   "language": "python",
   "name": "python3"
  },
  "language_info": {
   "codemirror_mode": {
    "name": "ipython",
    "version": 3
   },
   "file_extension": ".py",
   "mimetype": "text/x-python",
   "name": "python",
   "nbconvert_exporter": "python",
   "pygments_lexer": "ipython3",
   "version": "3.10.4"
  }
 },
 "nbformat": 4,
 "nbformat_minor": 2
}
