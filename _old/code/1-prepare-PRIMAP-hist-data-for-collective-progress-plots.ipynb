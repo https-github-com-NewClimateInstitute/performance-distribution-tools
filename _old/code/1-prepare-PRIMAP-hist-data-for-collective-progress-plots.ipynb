{
 "cells": [
  {
   "cell_type": "markdown",
   "metadata": {
    "pycharm": {
     "name": "#%% md\n"
    }
   },
   "source": [
    "# PRIMAP-hist data Preparation\n",
    "\n",
    "This jupyter notebook sets out a method for preparing PRIMAPhist data for plotting. It can further be used as a guide and basis for setting up other input datasets. \n",
    "\n",
    "The dataset can be viewed and accessed at:\n",
    "https://www.pik-potsdam.de/paris-reality-check/primap-hist/\n",
    "\n",
    "Gütschow, J.; Jeffery, L.; Gieseke, R. (2019): The PRIMAP-hist national historical emissions time series (1850-2016). v2.0. GFZ Data Services. https://doi.org/10.5880/pik.2019.001\n",
    "\n",
    "The downloaded data should be stored in the 'input-data' folder of this repository. PRIMAP-hist is updated roughly once per year. The user should therefore check for updates at the above link and download new data when available. If this is done, the new filenames will need to be added below. \n",
    "\n",
    "------\n",
    "Possible improvments:\n",
    "*  unit conversion\n",
    "* warn of over-writing files AND/OR automise file names.  Currently it's possible to give a file a poor name. Would require a look-up for category names though...\n"
   ]
  },
  {
   "cell_type": "code",
   "execution_count": 8,
   "metadata": {
    "pycharm": {
     "name": "#%%\n"
    }
   },
   "outputs": [],
   "source": [
    "# import modules\n",
    "\n",
    "# system\n",
    "import sys\n",
    "import os\n",
    "\n",
    "# data handling\n",
    "import pandas as pd\n",
    "import numpy as np\n",
    "\n",
    "# open climate data packages\n",
    "from countrygroups import UNFCCC, EUROPEAN_UNION, ANNEX_ONE, NON_ANNEX_ONE\n",
    "from shortcountrynames import to_name\n",
    "\n",
    "# global stocktake tools\n",
    "import gst_tools.gst_utils as utils"
   ]
  },
  {
   "cell_type": "code",
   "execution_count": 9,
   "metadata": {},
   "outputs": [],
   "source": [
    "from a_parameters import *"
   ]
  },
  {
   "cell_type": "code",
   "execution_count": 10,
   "metadata": {},
   "outputs": [
    {
     "name": "stdout",
     "output_type": "stream",
     "text": [
      "This is the origin of the data to be plotted:\n",
      "PRIMAP-histcr_v2.3.1\n",
      "This will be the name of the variable displayed on the plot:\n",
      "Total CO2 emissions (excl. LULUCF)\n",
      "This will be the name of the processed data file:\n",
      "PRIMAP-histcr_v2.3.1_Total_CO2_emissions_(excl._LULUCF).csv\n"
     ]
    }
   ],
   "source": [
    "# EPO\n",
    "# Please, check that the parameters are correct before proceeding\n",
    "\n",
    "variable_name_to_display, proc_data_fname, source_name = utils.get_primap_variable_and_and_file_name(gas_names[raw_entity], raw_sector, raw_scenario, version)\n",
    "\n",
    "print('This is the origin of the data to be plotted:\\n' + source_name)\n",
    "print('This will be the name of the variable displayed on the plot:\\n' + variable_name_to_display)\n",
    "print('This will be the name of the processed data file:\\n' + proc_data_fname)"
   ]
  },
  {
   "cell_type": "code",
   "execution_count": 11,
   "metadata": {
    "pycharm": {
     "name": "#%%\n"
    }
   },
   "outputs": [
    {
     "name": "stdout",
     "output_type": "stream",
     "text": [
      "[1/10] Includes extrapolated data: True\n",
      "[2/10] Gas to plot: CO2\n",
      "[3/10] Sector to plot: Total (excl.LULUCF)\n",
      "[4/10] Name of the raw data file: Guetschow-et-al-2021-PRIMAP-hist_v2.3.1_20-Sep_2021.csv\n",
      "[5/10] Version of dataset: 2.3.1\n",
      "[6/10] Type of data: Country-reported\n",
      "[7/10] The following countries will be plotted:\n",
      "['AFG', 'AGO', 'ALB', 'AND', 'ARE', 'ARG', 'ARM', 'ATG', 'AUS', 'AUT', 'AZE', 'BDI', 'BEL', 'BEN', 'BFA', 'BGD', 'BGR', 'BHR', 'BHS', 'BIH', 'BLR', 'BLZ', 'BOL', 'BRA', 'BRB', 'BRN', 'BTN', 'BWA', 'CAF', 'CAN', 'CHE', 'CHL', 'CHN', 'CIV', 'CMR', 'COD', 'COG', 'COK', 'COL', 'COM', 'CPV', 'CRI', 'CUB', 'CYP', 'CZE', 'DEU', 'DJI', 'DMA', 'DNK', 'DOM', 'DZA', 'ECU', 'EGY', 'ERI', 'ESP', 'EST', 'ETH', 'EUU', 'FIN', 'FJI', 'FRA', 'FSM', 'GAB', 'GBR', 'GEO', 'GHA', 'GIN', 'GMB', 'GNB', 'GNQ', 'GRC', 'GRD', 'GTM', 'GUY', 'HND', 'HRV', 'HTI', 'HUN', 'IDN', 'IND', 'IRL', 'IRN', 'IRQ', 'ISL', 'ISR', 'ITA', 'JAM', 'JOR', 'JPN', 'KAZ', 'KEN', 'KGZ', 'KHM', 'KIR', 'KNA', 'KOR', 'KWT', 'LAO', 'LBN', 'LBR', 'LBY', 'LCA', 'LIE', 'LKA', 'LSO', 'LTU', 'LUX', 'LVA', 'MAR', 'MCO', 'MDA', 'MDG', 'MDV', 'MEX', 'MHL', 'MKD', 'MLI', 'MLT', 'MMR', 'MNE', 'MNG', 'MOZ', 'MRT', 'MUS', 'MWI', 'MYS', 'NAM', 'NER', 'NGA', 'NIC', 'NIU', 'NLD', 'NOR', 'NPL', 'NRU', 'NZL', 'OMN', 'PAK', 'PAN', 'PER', 'PHL', 'PLW', 'PNG', 'POL', 'PRK', 'PRT', 'PRY', 'PSE', 'QAT', 'ROU', 'RUS', 'RWA', 'SAU', 'SDN', 'SEN', 'SGP', 'SLB', 'SLE', 'SLV', 'SMR', 'SOM', 'SRB', 'SSD', 'STP', 'SUR', 'SVK', 'SVN', 'SWE', 'SWZ', 'SYC', 'SYR', 'TCD', 'TGO', 'THA', 'TJK', 'TKM', 'TLS', 'TON', 'TTO', 'TUN', 'TUR', 'TUV', 'TZA', 'UGA', 'UKR', 'URY', 'USA', 'UZB', 'VCT', 'VEN', 'VNM', 'VUT', 'WSM', 'YEM', 'ZAF', 'ZMB', 'ZWE']\n",
      "[8/10] The following years will be plotted:\n",
      "['1990', '2005', '2016']\n",
      "[9/10] The dataset will be processed to start from the following year: 1990\n",
      "[10/10] You chose to save the plots as files.\n"
     ]
    }
   ],
   "source": [
    "## EPO You will process and plot the following data: ##\n",
    "\n",
    "print('[1/10] Includes extrapolated data: '+str(include_extrapolated_data))\n",
    "print('[2/10] Gas to plot: ' + gas_names[raw_entity])\n",
    "print('[3/10] Sector to plot: ' + sector_names[raw_sector])\n",
    "\n",
    "print('[4/10] Name of the raw data file: ' + raw_data_file)\n",
    "print('[5/10] Version of dataset: ' + version)\n",
    "\n",
    "# EPO TO DO: Find better terms for the types of data\n",
    "if raw_scenario == 'HISTCR':\n",
    "    print('[6/10] Type of data: Country-reported')\n",
    "elif raw_scenario == 'HISTTP':\n",
    "    print('[6/10] Type of data: Third-party')\n",
    "\n",
    "print('[7/10] The following countries will be plotted:')\n",
    "print(needed_countries)\n",
    "\n",
    "print('[8/10] The following years will be plotted:')\n",
    "print(years_of_interest)\n",
    "\n",
    "print('[9/10] The dataset will be processed to start from the following year: ' + str(start_year))\n",
    "\n",
    "if save_opt == True:\n",
    "    print('[10/10] You chose to save the plots as files.')\n",
    "else:\n",
    "    print('[10/10] You chose not to save the plots as files.')"
   ]
  },
  {
   "cell_type": "code",
   "execution_count": 12,
   "metadata": {
    "pycharm": {
     "name": "#%%\n"
    }
   },
   "outputs": [
    {
     "name": "stdout",
     "output_type": "stream",
     "text": [
      "reading input-data\\Guetschow-et-al-2021-PRIMAP-hist_v2.3.1_20-Sep_2021.csv\n",
      "Not all countries requested were available in the raw data. You are missing the following:\n",
      "   Palestine\n",
      "---------\n",
      "First year of data available is now 1990\n",
      "Last year of data available is 2019\n",
      "These are the 10 first rows of the processed data:\n",
      "  category country scenario                source         unit  \\\n",
      "0   M.0.EL     AFG   HISTCR  PRIMAP-histcr_v2.3.1  Gg CO2 / yr   \n",
      "1   M.0.EL     AGO   HISTCR  PRIMAP-histcr_v2.3.1  Gg CO2 / yr   \n",
      "2   M.0.EL     ALB   HISTCR  PRIMAP-histcr_v2.3.1  Gg CO2 / yr   \n",
      "3   M.0.EL     AND   HISTCR  PRIMAP-histcr_v2.3.1  Gg CO2 / yr   \n",
      "4   M.0.EL     ARE   HISTCR  PRIMAP-histcr_v2.3.1  Gg CO2 / yr   \n",
      "5   M.0.EL     ARG   HISTCR  PRIMAP-histcr_v2.3.1  Gg CO2 / yr   \n",
      "6   M.0.EL     ARM   HISTCR  PRIMAP-histcr_v2.3.1  Gg CO2 / yr   \n",
      "7   M.0.EL     ATG   HISTCR  PRIMAP-histcr_v2.3.1  Gg CO2 / yr   \n",
      "8   M.0.EL     AUS   HISTCR  PRIMAP-histcr_v2.3.1  Gg CO2 / yr   \n",
      "9   M.0.EL     AUT   HISTCR  PRIMAP-histcr_v2.3.1  Gg CO2 / yr   \n",
      "\n",
      "                             variable      1990      1991      1992      1993  \\\n",
      "0  Total CO2 emissions (excl. LULUCF)    2810.0    2640.0    1590.0    1520.0   \n",
      "1  Total CO2 emissions (excl. LULUCF)   10800.0   11200.0   11600.0   12000.0   \n",
      "2  Total CO2 emissions (excl. LULUCF)    4270.0    6050.0    4030.0    3920.0   \n",
      "3  Total CO2 emissions (excl. LULUCF)     409.0     417.0     426.0     436.0   \n",
      "4  Total CO2 emissions (excl. LULUCF)   47000.0   52700.0   53300.0   61000.0   \n",
      "5  Total CO2 emissions (excl. LULUCF)  102000.0  106000.0  110000.0  109000.0   \n",
      "6  Total CO2 emissions (excl. LULUCF)   21800.0   20300.0   26600.0   10500.0   \n",
      "7  Total CO2 emissions (excl. LULUCF)     222.0     215.0     212.0     219.0   \n",
      "8  Total CO2 emissions (excl. LULUCF)  278000.0  280000.0  285000.0  289000.0   \n",
      "9  Total CO2 emissions (excl. LULUCF)   62600.0   66100.0   60600.0   61000.0   \n",
      "\n",
      "   ...      2010      2011      2012      2013      2014      2015      2016  \\\n",
      "0  ...    8650.0   12400.0   10500.0    8830.0    8140.0    8230.0    7100.0   \n",
      "1  ...   23500.0   24700.0   26500.0   26300.0   38000.0   29100.0   30300.0   \n",
      "2  ...    5900.0    6660.0    6390.0    6590.0    7300.0    6220.0    6210.0   \n",
      "3  ...     556.0     525.0     523.0     512.0     497.0     497.0     504.0   \n",
      "4  ...  154000.0  162000.0  199000.0  197000.0  191000.0  211000.0  203000.0   \n",
      "5  ...  187000.0  197000.0  198000.0  202000.0  199000.0  204000.0  202000.0   \n",
      "6  ...    4660.0    5450.0    6310.0    5960.0    5990.0    5470.0    5590.0   \n",
      "7  ...     458.0     447.0     461.0     465.0     465.0     483.0     494.0   \n",
      "8  ...  405000.0  404000.0  406000.0  398000.0  394000.0  402000.0  411000.0   \n",
      "9  ...   72300.0   70100.0   67500.0   67900.0   64400.0   66600.0   67500.0   \n",
      "\n",
      "       2017      2018      2019  \n",
      "0    6860.0    7060.0    9780.0  \n",
      "1   29600.0   27600.0   27000.0  \n",
      "2    7160.0    6670.0    7090.0  \n",
      "3     506.0     494.0     470.0  \n",
      "4  171000.0  170000.0  170000.0  \n",
      "5  202000.0  201000.0  188000.0  \n",
      "6    5980.0    7400.0    7000.0  \n",
      "7     503.0     518.0     537.0  \n",
      "8  415000.0  416000.0  417000.0  \n",
      "9   69800.0   66800.0   68200.0  \n",
      "\n",
      "[10 rows x 36 columns]\n"
     ]
    }
   ],
   "source": [
    "## Here we process the dataset\n",
    "\n",
    "# get the data\n",
    "raw_data_folder = 'input-data'\n",
    "fname = os.path.join('', raw_data_folder, raw_data_file)\n",
    "print('reading ' + fname)\n",
    "raw_data = pd.read_csv(fname)\n",
    "\n",
    "# LTN: rename column names to ensure they match columns names in these tools\n",
    "raw_data.rename(columns={'scenario (PRIMAP-hist)': 'scenario',\n",
    "                         'area (ISO3)': 'country',\n",
    "                         'category (IPCC2006_PRIMAP)': 'category'}, inplace=True)\n",
    "\n",
    "# EPO: rename the European Union so that it can be found with the filter.\n",
    "raw_data['country'].replace({'EU27BX': 'EUU'}, inplace=True)\n",
    "\n",
    "# reduce to only the desired variable (one per output file)\n",
    "new_data = raw_data.loc[(raw_data['entity'] == raw_entity) &\n",
    "                        (raw_data['scenario'] == raw_scenario) &\n",
    "                        (raw_data['category'] == raw_sector)\n",
    "                        ]\n",
    "\n",
    "# EPO\n",
    "if len(new_data.index) == 0:\n",
    "    print('There is no data for the gas, the sector, and the data source specified. Please, provide new parameters.')\n",
    "\n",
    "else:\n",
    "    # Louise\n",
    "    # reduce the countries or regions to only those desired\n",
    "    new_data = new_data.loc[new_data['country'].isin(needed_countries)]\n",
    "\n",
    "    if len(new_data.index) == 0:\n",
    "        print('There is no data for the countries specified. Please, provide different countries.')\n",
    "    else:\n",
    "        # tell the user if any of the needed countries are missing and, if yes, which ones:\n",
    "        missing_countries = list(set(needed_countries) - set(new_data['country'].unique()))\n",
    "        if missing_countries:\n",
    "            print('Not all countries requested were available in the raw data. You are missing the following:')\n",
    "            for country in missing_countries:\n",
    "                print('   ' + to_name(country))\n",
    "            print('---------')\n",
    "\n",
    "        # reduce to only required years\n",
    "        new_data = utils.change_first_year(new_data, start_year)\n",
    "\n",
    "        # rename columns to follow conventions\n",
    "        new_data = new_data.rename(columns={'entity': 'variable'})\n",
    "\n",
    "        # make sure 'variable' contains all necessary information\n",
    "        new_data['variable'] = variable_name_to_display\n",
    "\n",
    "        # label the source\n",
    "        new_data['source'] = source_name\n",
    "\n",
    "        new_data = utils.check_column_order(new_data)\n",
    "\n",
    "        # check! # EPO\n",
    "        print('These are the 10 first rows of the processed data:')\n",
    "        print(new_data.head(10))"
   ]
  },
  {
   "cell_type": "code",
   "execution_count": 13,
   "metadata": {
    "pycharm": {
     "name": "#%%\n"
    }
   },
   "outputs": [
    {
     "name": "stdout",
     "output_type": "stream",
     "text": [
      "Processed data written to file! - proc-data\\PRIMAP-histcr_v2.3.1_Total_CO2_emissions_(excl._LULUCF).csv\n"
     ]
    }
   ],
   "source": [
    "## write the data to file\n",
    "\n",
    "\"\"\"\n",
    "First ensure that years, unit, 'country', and variable are all in data. If they are\n",
    "can proceed to print data\n",
    "\"\"\"\n",
    "\n",
    "if 'country' not in new_data.columns or 'unit' not in new_data.columns:\n",
    "\n",
    "    print('Missing required information! Please check your input data and processing!')\n",
    "\n",
    "else:\n",
    "\n",
    "    # EPO delete define filename as composite of variable and source name\n",
    "    # EPO delete fname_out = proc_data_fname#new_source_name + '_' + new_variable_name + '.csv'\n",
    "    fullfname_out = os.path.join('proc-data', proc_data_fname)\n",
    "\n",
    "    # check folder exists\n",
    "    if not os.path.exists('proc-data'):\n",
    "        os.makedirs('proc-data')\n",
    "\n",
    "    # write to csv in proc data folder\n",
    "    new_data.to_csv(fullfname_out, index=False)\n",
    "\n",
    "    # celebrate success \n",
    "    print('Processed data written to file! - ' + fullfname_out)\n"
   ]
  },
  {
   "cell_type": "markdown",
   "metadata": {
    "pycharm": {
     "name": "#%% md\n"
    }
   },
   "source": [
    "**Test ground below**"
   ]
  }
 ],
 "metadata": {
  "kernelspec": {
   "display_name": "Python 3.10.5 64-bit (windows store)",
   "language": "python",
   "name": "python3"
  },
  "language_info": {
   "codemirror_mode": {
    "name": "ipython",
    "version": 3
   },
   "file_extension": ".py",
   "mimetype": "text/x-python",
   "name": "python",
   "nbconvert_exporter": "python",
   "pygments_lexer": "ipython3",
   "version": "3.10.5"
  },
  "vscode": {
   "interpreter": {
    "hash": "067c62c1e236de093d80dd887d8da7ba373cc52e5c6c0339fad800701e4bd55b"
   }
  }
 },
 "nbformat": 4,
 "nbformat_minor": 2
}
