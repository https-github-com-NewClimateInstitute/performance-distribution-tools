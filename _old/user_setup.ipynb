{
 "cells": [
  {
   "cell_type": "markdown",
   "metadata": {},
   "source": [
    "### 1. Please update the names of any of the datasets that will be used for plotting:"
   ]
  },
  {
   "cell_type": "markdown",
   "metadata": {},
   "source": [
    "#### 1a. Emissions data from Primap"
   ]
  },
  {
   "cell_type": "code",
   "execution_count": null,
   "metadata": {},
   "outputs": [],
   "source": [
    "# Primap emissions data without extrapolation\n",
    "primap_extrap_fname = 'Guetschow-et-al-2021-PRIMAP-hist_v2.3.1_20-Sep_2021.csv'\n",
    "\n",
    "# Primap emissions data with extrapolation\n",
    "primap_no_extrap_fname = 'Guetschow-et-al-2021-PRIMAP-hist_v2.3.1_no_extrap_20-Sep_2021.csv'"
   ]
  },
  {
   "cell_type": "markdown",
   "metadata": {},
   "source": [
    "#### 1b. Energy data from bp"
   ]
  },
  {
   "cell_type": "code",
   "execution_count": null,
   "metadata": {},
   "outputs": [],
   "source": [
    "# Data must be in \"panel\" format\n",
    "bp_world_energy_panel_fname = 'bp-stats-review-2022-consolidated-dataset-panel-format.csv'"
   ]
  },
  {
   "cell_type": "markdown",
   "metadata": {},
   "source": [
    "#### 1c. Population and GDP data from the World Bank"
   ]
  },
  {
   "cell_type": "code",
   "execution_count": null,
   "metadata": {},
   "outputs": [],
   "source": [
    "# Population dataset\n",
    "wb_population_fname = 'API_SP.POP.TOTL_DS2_en_csv_v2_4218816.csv'\n",
    "\n",
    "# GDP dataset\n",
    "wb_gdp_fname = 'API_NY.GDP.MKTP.CD_DS2_en_csv_v2_4150784.csv'"
   ]
  },
  {
   "cell_type": "markdown",
   "metadata": {},
   "source": [
    "### 2. Please select the data that you want to plot:"
   ]
  },
  {
   "cell_type": "code",
   "execution_count": 1,
   "metadata": {},
   "outputs": [
    {
     "ename": "ModuleNotFoundError",
     "evalue": "No module named 'countrygroups'",
     "output_type": "error",
     "traceback": [
      "\u001b[1;31m---------------------------------------------------------------------------\u001b[0m",
      "\u001b[1;31mModuleNotFoundError\u001b[0m                       Traceback (most recent call last)",
      "\u001b[1;32mc:\\Users\\EduardoPosada\\Documents\\GitHub\\performance-distribution-tools\\user_setup.ipynb Cell 9\u001b[0m in \u001b[0;36m<cell line: 5>\u001b[1;34m()\u001b[0m\n\u001b[0;32m      <a href='vscode-notebook-cell:/c%3A/Users/EduardoPosada/Documents/GitHub/performance-distribution-tools/user_setup.ipynb#ch0000008?line=0'>1</a>\u001b[0m \u001b[39m# Select country groups from this list. You can input the group itself or countries within the groups using ISO 3166 alpha-3 country codes.\u001b[39;00m\n\u001b[0;32m      <a href='vscode-notebook-cell:/c%3A/Users/EduardoPosada/Documents/GitHub/performance-distribution-tools/user_setup.ipynb#ch0000008?line=1'>2</a>\u001b[0m \u001b[39m# For example:\u001b[39;00m\n\u001b[0;32m      <a href='vscode-notebook-cell:/c%3A/Users/EduardoPosada/Documents/GitHub/performance-distribution-tools/user_setup.ipynb#ch0000008?line=2'>3</a>\u001b[0m     \u001b[39m# countries = UNFCCC (includes all countries in the UNFCCC)\u001b[39;00m\n\u001b[0;32m      <a href='vscode-notebook-cell:/c%3A/Users/EduardoPosada/Documents/GitHub/performance-distribution-tools/user_setup.ipynb#ch0000008?line=3'>4</a>\u001b[0m     \u001b[39m# countries = ['EGY', 'GRC', 'EUU', 'COL'] (includes Egypt, Greece, European Union, and Colombia)\u001b[39;00m\n\u001b[1;32m----> <a href='vscode-notebook-cell:/c%3A/Users/EduardoPosada/Documents/GitHub/performance-distribution-tools/user_setup.ipynb#ch0000008?line=4'>5</a>\u001b[0m \u001b[39mfrom\u001b[39;00m \u001b[39mcountrygroups\u001b[39;00m \u001b[39mimport\u001b[39;00m UNFCCC, EUROPEAN_UNION, ANNEX_ONE, NON_ANNEX_ONE\n\u001b[0;32m      <a href='vscode-notebook-cell:/c%3A/Users/EduardoPosada/Documents/GitHub/performance-distribution-tools/user_setup.ipynb#ch0000008?line=6'>7</a>\u001b[0m countries \u001b[39m=\u001b[39m UNFCCC\n\u001b[0;32m      <a href='vscode-notebook-cell:/c%3A/Users/EduardoPosada/Documents/GitHub/performance-distribution-tools/user_setup.ipynb#ch0000008?line=8'>9</a>\u001b[0m \u001b[39m# Select the years that you want to plot:\u001b[39;00m\n",
      "\u001b[1;31mModuleNotFoundError\u001b[0m: No module named 'countrygroups'"
     ]
    }
   ],
   "source": [
    "# Select country groups from this list. You can input the group itself or countries within the groups using ISO 3166 alpha-3 country codes.\n",
    "# For example:\n",
    "    # countries = UNFCCC (includes all countries in the UNFCCC)\n",
    "    # countries = ['EGY', 'GRC', 'EUU', 'COL'] (includes Egypt, Greece, European Union, and Colombia)\n",
    "from countrygroups import UNFCCC, EUROPEAN_UNION, ANNEX_ONE, NON_ANNEX_ONE\n",
    "\n",
    "countries = UNFCCC\n",
    "\n",
    "# Select the years that you want to plot:\n",
    "years_of_interest = ['1990', '2005', '2016']\n",
    "\n",
    "# Select the data that you want to plot.\n",
    "#   Options are:    'emissions' (uses Primap-hist data)\n",
    "#                   'energy' (uses bp data)\n",
    "data = 'emissions'"
   ]
  },
  {
   "cell_type": "code",
   "execution_count": null,
   "metadata": {},
   "outputs": [],
   "source": [
    "# If plotting energy data, please select the variable that you want to plot\n",
    "# Options are:      1: Share of renewables in electricity\n",
    "#                   2: Share of fossil fuels in TPES\n",
    "#                   3: Energy use\n",
    "energy_variable = 1"
   ]
  },
  {
   "cell_type": "code",
   "execution_count": null,
   "metadata": {},
   "outputs": [],
   "source": [
    "# Select the data type that you want to plot:\n",
    "# Options are:      'absolute'\n",
    "#                   'per capita'\n",
    "#                   'per USD'\n",
    "# WARNING:  Per capita and per USD measures do not apply to the following variables: share of renewables in electricity and share of fossil\n",
    "#           fuels in TPES.\n",
    "data_type = 'absolute'"
   ]
  },
  {
   "cell_type": "code",
   "execution_count": null,
   "metadata": {},
   "outputs": [],
   "source": [
    "# Select the type of plot that you want to create:\n",
    "# Options are:"
   ]
  }
 ],
 "metadata": {
  "kernelspec": {
   "display_name": "Python 3.10.5 64-bit (windows store)",
   "language": "python",
   "name": "python3"
  },
  "language_info": {
   "codemirror_mode": {
    "name": "ipython",
    "version": 3
   },
   "file_extension": ".py",
   "mimetype": "text/x-python",
   "name": "python",
   "nbconvert_exporter": "python",
   "pygments_lexer": "ipython3",
   "version": "3.10.5"
  },
  "orig_nbformat": 4,
  "vscode": {
   "interpreter": {
    "hash": "067c62c1e236de093d80dd887d8da7ba373cc52e5c6c0339fad800701e4bd55b"
   }
  }
 },
 "nbformat": 4,
 "nbformat_minor": 2
}
