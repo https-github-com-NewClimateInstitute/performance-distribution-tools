{
 "cells": [
  {
   "cell_type": "markdown",
   "metadata": {
    "pycharm": {
     "name": "#%% md\n"
    }
   },
   "source": [
    "# PRIMAP-hist data Preparation\n",
    "\n",
    "This jupyter notebook sets out a method for preparing PRIMAPhist data for plotting. It can further be used as a guide and basis for setting up other input datasets. \n",
    "\n",
    "The dataset can be viewed and accessed at:\n",
    "https://www.pik-potsdam.de/paris-reality-check/primap-hist/\n",
    "\n",
    "Gütschow, J.; Jeffery, L.; Gieseke, R. (2019): The PRIMAP-hist national historical emissions time series (1850-2016). v2.0. GFZ Data Services. https://doi.org/10.5880/pik.2019.001\n",
    "\n",
    "The downloaded data should be stored in the 'input-data' folder of this repository. PRIMAP-hist is updated roughly once per year. The user should therefore check for updates at the above link and download new data when available. If this is done, the new filenames will need to be added below. \n",
    "\n",
    "------\n",
    "Possible improvments:\n",
    "*  unit conversion\n",
    "* warn of over-writing files AND/OR automise file names.  Currently it's possible to give a file a poor name. Would require a look-up for category names though...\n"
   ]
  },
  {
   "cell_type": "code",
   "execution_count": 7,
   "metadata": {
    "pycharm": {
     "name": "#%%\n"
    }
   },
   "outputs": [],
   "source": [
    "# import modules\n",
    "\n",
    "# system\n",
    "import sys\n",
    "import os\n",
    "\n",
    "# data handling\n",
    "import pandas as pd\n",
    "import numpy as np\n",
    "\n",
    "# open climate data packages\n",
    "from countrygroups import UNFCCC, EUROPEAN_UNION, ANNEX_ONE, NON_ANNEX_ONE\n",
    "from shortcountrynames import to_name\n",
    "\n",
    "# global stocktake tools\n",
    "import gst_tools.gst_utils as utils"
   ]
  },
  {
   "cell_type": "code",
   "execution_count": 8,
   "metadata": {},
   "outputs": [],
   "source": [
    "from a_parameters import *"
   ]
  },
  {
   "cell_type": "code",
   "execution_count": 9,
   "metadata": {},
   "outputs": [
    {
     "name": "stdout",
     "output_type": "stream",
     "text": [
      "This is the origin of the data to be plotted:\n",
      "PRIMAP-histcr_v2.3.1\n",
      "This will be the name of the variable displayed on the plot:\n",
      "N2O emissions from IPPU\n",
      "This will be the name of the processed data file:\n",
      "PRIMAP-histcr_v2.3.1_N2O_emissions_from_IPPU.csv\n"
     ]
    }
   ],
   "source": [
    "# EPO\n",
    "# Please, check that this is correct before proceeding\n",
    "\n",
    "variable_name_to_display, proc_data_fname, source_name = utils.get_primap_variable_and_and_file_name(gas_names[raw_entity], raw_sector, raw_scenario, version)\n",
    "\n",
    "print('This is the origin of the data to be plotted:\\n' + source_name)\n",
    "print('This will be the name of the variable displayed on the plot:\\n' + variable_name_to_display)\n",
    "print('This will be the name of the processed data file:\\n' + proc_data_fname)"
   ]
  },
  {
   "cell_type": "code",
   "execution_count": 10,
   "metadata": {
    "pycharm": {
     "name": "#%%\n"
    }
   },
   "outputs": [
    {
     "name": "stdout",
     "output_type": "stream",
     "text": [
      "[1/10] Includes extrapolated data: True\n",
      "[2/10] Gas to plot: N2O\n",
      "[3/10] Sector to plot: IPPU\n",
      "[4/10] Name of the raw data file: Guetschow-et-al-2021-PRIMAP-hist_v2.3.1_20-Sep_2021.csv\n",
      "[5/10] Version of dataset: 2.3.1\n",
      "[6/10] Type of data: Country-reported\n",
      "[7/10] The following countries will be plotted:\n",
      "['AFG', 'AGO', 'ALB', 'AND', 'ARE', 'ARG', 'ARM', 'ATG', 'AUS', 'AUT', 'AZE', 'BDI', 'BEL', 'BEN', 'BFA', 'BGD', 'BGR', 'BHR', 'BHS', 'BIH', 'BLR', 'BLZ', 'BOL', 'BRA', 'BRB', 'BRN', 'BTN', 'BWA', 'CAF', 'CAN', 'CHE', 'CHL', 'CHN', 'CIV', 'CMR', 'COD', 'COG', 'COK', 'COL', 'COM', 'CPV', 'CRI', 'CUB', 'CYP', 'CZE', 'DEU', 'DJI', 'DMA', 'DNK', 'DOM', 'DZA', 'ECU', 'EGY', 'ERI', 'ESP', 'EST', 'ETH', 'EUU', 'FIN', 'FJI', 'FRA', 'FSM', 'GAB', 'GBR', 'GEO', 'GHA', 'GIN', 'GMB', 'GNB', 'GNQ', 'GRC', 'GRD', 'GTM', 'GUY', 'HND', 'HRV', 'HTI', 'HUN', 'IDN', 'IND', 'IRL', 'IRN', 'IRQ', 'ISL', 'ISR', 'ITA', 'JAM', 'JOR', 'JPN', 'KAZ', 'KEN', 'KGZ', 'KHM', 'KIR', 'KNA', 'KOR', 'KWT', 'LAO', 'LBN', 'LBR', 'LBY', 'LCA', 'LIE', 'LKA', 'LSO', 'LTU', 'LUX', 'LVA', 'MAR', 'MCO', 'MDA', 'MDG', 'MDV', 'MEX', 'MHL', 'MKD', 'MLI', 'MLT', 'MMR', 'MNE', 'MNG', 'MOZ', 'MRT', 'MUS', 'MWI', 'MYS', 'NAM', 'NER', 'NGA', 'NIC', 'NIU', 'NLD', 'NOR', 'NPL', 'NRU', 'NZL', 'OMN', 'PAK', 'PAN', 'PER', 'PHL', 'PLW', 'PNG', 'POL', 'PRK', 'PRT', 'PRY', 'PSE', 'QAT', 'ROU', 'RUS', 'RWA', 'SAU', 'SDN', 'SEN', 'SGP', 'SLB', 'SLE', 'SLV', 'SMR', 'SOM', 'SRB', 'SSD', 'STP', 'SUR', 'SVK', 'SVN', 'SWE', 'SWZ', 'SYC', 'SYR', 'TCD', 'TGO', 'THA', 'TJK', 'TKM', 'TLS', 'TON', 'TTO', 'TUN', 'TUR', 'TUV', 'TZA', 'UGA', 'UKR', 'URY', 'USA', 'UZB', 'VCT', 'VEN', 'VNM', 'VUT', 'WSM', 'YEM', 'ZAF', 'ZMB', 'ZWE']\n",
      "[8/10] The following years will be plotted:\n",
      "['1990', '2005', '2016']\n",
      "[9/10] The dataset will be processed to start from the following year: 1990\n",
      "[10/10] You chose to save the plots as files.\n"
     ]
    }
   ],
   "source": [
    "## EPO You will process and plot the following data: ##\n",
    "\n",
    "print('[1/10] Includes extrapolated data: '+str(include_extrapolated_data))\n",
    "print('[2/10] Gas to plot: ' + gas_names[raw_entity])\n",
    "print('[3/10] Sector to plot: ' + sector_names[raw_sector])\n",
    "\n",
    "print('[4/10] Name of the raw data file: ' + raw_data_file)\n",
    "print('[5/10] Version of dataset: ' + version)\n",
    "\n",
    "# EPO TO DO: Find better terms for the types of data\n",
    "if raw_scenario == 'HISTCR':\n",
    "    print('[6/10] Type of data: Country-reported')\n",
    "elif raw_scenario == 'HISTTP':\n",
    "    print('[6/10] Type of data: Third-party')\n",
    "\n",
    "print('[7/10] The following countries will be plotted:')\n",
    "print(needed_countries)\n",
    "\n",
    "print('[8/10] The following years will be plotted:')\n",
    "print(years_of_interest)\n",
    "\n",
    "print('[9/10] The dataset will be processed to start from the following year: ' + str(start_year))\n",
    "\n",
    "if save_opt == True:\n",
    "    print('[10/10] You chose to save the plots as files.')\n",
    "else:\n",
    "    print('[10/10] You chose not to save the plots as files.')"
   ]
  },
  {
   "cell_type": "code",
   "execution_count": 20,
   "metadata": {
    "pycharm": {
     "name": "#%%\n"
    }
   },
   "outputs": [
    {
     "name": "stdout",
     "output_type": "stream",
     "text": [
      "reading input-data\\Guetschow-et-al-2021-PRIMAP-hist_v2.3.1_20-Sep_2021.csv\n",
      "Not all countries requested were available in the raw data. You are missing the following:\n",
      "   Micronesia\n",
      "   Niue\n",
      "   Marshall Islands\n",
      "   Palestine\n",
      "---------\n",
      "First year of data available is now 1990\n",
      "Last year of data available is 2019\n",
      "These are the 10 first rows of the processed data:\n",
      "  category country scenario           source         unit variable  \\\n",
      "0        2     AFG   HISTCR  new_source_name  Gg N2O / yr    test1   \n",
      "1        2     AGO   HISTCR  new_source_name  Gg N2O / yr    test1   \n",
      "2        2     ALB   HISTCR  new_source_name  Gg N2O / yr    test1   \n",
      "3        2     AND   HISTCR  new_source_name  Gg N2O / yr    test1   \n",
      "4        2     ARE   HISTCR  new_source_name  Gg N2O / yr    test1   \n",
      "5        2     ARG   HISTCR  new_source_name  Gg N2O / yr    test1   \n",
      "6        2     ARM   HISTCR  new_source_name  Gg N2O / yr    test1   \n",
      "7        2     ATG   HISTCR  new_source_name  Gg N2O / yr    test1   \n",
      "8        2     AUS   HISTCR  new_source_name  Gg N2O / yr    test1   \n",
      "9        2     AUT   HISTCR  new_source_name  Gg N2O / yr    test1   \n",
      "\n",
      "           1990          1991          1992          1993  ...       2010  \\\n",
      "0  3.690000e-03  3.920000e-03  4.210000e-03  4.550000e-03  ...   0.008680   \n",
      "1  2.450000e-01  2.530000e-01  2.610000e-01  2.700000e-01  ...   0.471000   \n",
      "2  3.610000e-02  3.610000e-02  3.570000e-02  3.510000e-02  ...   0.032400   \n",
      "3  6.630000e-02  6.700000e-02  7.080000e-02  7.500000e-02  ...   0.011800   \n",
      "4  2.800000e-01  2.960000e-01  3.140000e-01  3.320000e-01  ...   1.240000   \n",
      "5  3.340000e-01  3.350000e-01  3.330000e-01  3.210000e-01  ...   0.371000   \n",
      "6  4.350000e-02  4.310000e-02  4.230000e-02  4.130000e-02  ...   0.035300   \n",
      "7  7.340000e-07  7.400000e-07  7.530000e-07  7.690000e-07  ...   0.000001   \n",
      "8  3.760000e+00  3.190000e+00  4.090000e+00  5.080000e+00  ...  11.000000   \n",
      "9  3.380000e+00  3.430000e+00  3.140000e+00  3.280000e+00  ...   0.381000   \n",
      "\n",
      "       2011      2012      2013      2014      2015      2016      2017  \\\n",
      "0  0.008950  0.009250  0.009560  0.009870  0.010200  0.010400  0.010700   \n",
      "1  0.488000  0.506000  0.524000  0.543000  0.562000  0.581000  0.600000   \n",
      "2  0.032200  0.032100  0.032100  0.032200  0.032200  0.032200  0.032300   \n",
      "3  0.010600  0.010500  0.009740  0.009090  0.009200  0.009040  0.008920   \n",
      "4  1.300000  1.340000  1.350000  1.360000  1.380000  1.390000  1.410000   \n",
      "5  0.389000  0.417000  0.383000  0.406000  0.370000  0.283000  0.284000   \n",
      "6  0.035300  0.035400  0.035500  0.035700  0.035800  0.035900  0.036000   \n",
      "7  0.000001  0.000001  0.000001  0.000001  0.000001  0.000001  0.000001   \n",
      "8  9.110000  8.610000  5.460000  5.220000  5.720000  5.290000  5.650000   \n",
      "9  0.318000  0.315000  0.314000  0.304000  0.296000  0.260000  0.261000   \n",
      "\n",
      "       2018      2019  \n",
      "0  0.011000  0.011200  \n",
      "1  0.620000  0.631000  \n",
      "2  0.032300  0.031600  \n",
      "3  0.008950  0.006210  \n",
      "4  1.430000  1.630000  \n",
      "5  0.285000  0.305000  \n",
      "6  0.036000  0.035500  \n",
      "7  0.000001  0.000001  \n",
      "8  6.670000  8.040000  \n",
      "9  0.317000  0.406000  \n",
      "\n",
      "[10 rows x 36 columns]\n"
     ]
    }
   ],
   "source": [
    "## Here we process the dataset\n",
    "\n",
    "# get the data\n",
    "raw_data_folder = 'input-data'\n",
    "fname = os.path.join('', raw_data_folder, raw_data_file)\n",
    "print('reading ' + fname)\n",
    "raw_data = pd.read_csv(fname)\n",
    "\n",
    "# LTN: rename column names to ensure they match columns names in these tools\n",
    "raw_data.rename(columns={'scenario (PRIMAP-hist)': 'scenario',\n",
    "                         'area (ISO3)': 'country',\n",
    "                         'category (IPCC2006_PRIMAP)': 'category'}, inplace=True)\n",
    "\n",
    "# EPO: rename the European Union so that it can be found with the filter.\n",
    "raw_data['country'].replace({'EU27BX': 'EUU'}, inplace=True)\n",
    "\n",
    "# reduce to only the desired variable (one per output file)\n",
    "new_data = raw_data.loc[(raw_data['entity'] == raw_entity) &\n",
    "                        (raw_data['scenario'] == raw_scenario) &\n",
    "                        (raw_data['category'] == raw_sector)\n",
    "                        ]\n",
    "\n",
    "# EPO\n",
    "if len(new_data.index) == 0:\n",
    "    print('There is no data for the gas, the sector, and the data source specified. Please, provide new parameters.')\n",
    "\n",
    "else:\n",
    "    # Louise\n",
    "    # reduce the countries or regions to only those desired\n",
    "    new_data = new_data.loc[new_data['country'].isin(needed_countries)]\n",
    "\n",
    "    if len(new_data.index) == 0:\n",
    "        print('There is no data for the countries specified. Please, provide different countries.')\n",
    "    else:\n",
    "        # tell the user if any of the needed countries are missing and, if yes, which ones:\n",
    "        missing_countries = list(set(needed_countries) - set(new_data['country'].unique()))\n",
    "        if missing_countries:\n",
    "            print('Not all countries requested were available in the raw data. You are missing the following:')\n",
    "            for country in missing_countries:\n",
    "                print('   ' + to_name(country))\n",
    "            print('---------')\n",
    "\n",
    "        # reduce to only required years\n",
    "        new_data = utils.change_first_year(new_data, start_year)\n",
    "\n",
    "        # rename columns to follow conventions\n",
    "        new_data = new_data.rename(columns={'entity': 'variable'})\n",
    "\n",
    "        # make sure 'variable' contains all necessary information\n",
    "        new_data['variable'] = 'test1'\n",
    "\n",
    "        # label the source\n",
    "        new_data['source'] = 'new_source_name'\n",
    "\n",
    "        new_data = utils.check_column_order(new_data)\n",
    "\n",
    "        # check! # EPO\n",
    "        print('These are the 10 first rows of the processed data:')\n",
    "        print(new_data.head(10))"
   ]
  },
  {
   "cell_type": "code",
   "execution_count": 21,
   "metadata": {
    "pycharm": {
     "name": "#%%\n"
    }
   },
   "outputs": [
    {
     "name": "stdout",
     "output_type": "stream",
     "text": [
      "Processed data written to file! - proc-data\\PRIMAP-histcr_v2.3.1_N2O_emissions_from_IPPU.csv\n"
     ]
    }
   ],
   "source": [
    "## write the data to file\n",
    "\n",
    "\"\"\"\n",
    "First ensure that years, unit, 'country', and variable are all in data. If they are\n",
    "can proceed to print data\n",
    "\"\"\"\n",
    "\n",
    "if 'country' not in new_data.columns or 'unit' not in new_data.columns:\n",
    "\n",
    "    print('Missing required information! Please check your input data and processing!')\n",
    "\n",
    "else:\n",
    "\n",
    "    # EPO delete define filename as composite of variable and source name\n",
    "    # EPO delete fname_out = proc_data_fname#new_source_name + '_' + new_variable_name + '.csv'\n",
    "    fullfname_out = os.path.join('proc-data', proc_data_fname)\n",
    "\n",
    "    # check folder exists\n",
    "    if not os.path.exists('proc-data'):\n",
    "        os.makedirs('proc-data')\n",
    "\n",
    "    # write to csv in proc data folder\n",
    "    new_data.to_csv(fullfname_out, index=False)\n",
    "\n",
    "    # celebrate success \n",
    "    print('Processed data written to file! - ' + fullfname_out)\n"
   ]
  },
  {
   "cell_type": "markdown",
   "metadata": {
    "pycharm": {
     "name": "#%% md\n"
    }
   },
   "source": [
    "**Test ground below**"
   ]
  }
 ],
 "metadata": {
  "interpreter": {
   "hash": "608a36f5416ceceb61954b4c8ecf25f8f8e577d217fe42c6e02baea4e789c715"
  },
  "kernelspec": {
   "display_name": "Python 3.10.4 64-bit",
   "language": "python",
   "name": "python3"
  },
  "language_info": {
   "codemirror_mode": {
    "name": "ipython",
    "version": 3
   },
   "file_extension": ".py",
   "mimetype": "text/x-python",
   "name": "python",
   "nbconvert_exporter": "python",
   "pygments_lexer": "ipython3",
   "version": "3.10.4"
  }
 },
 "nbformat": 4,
 "nbformat_minor": 2
}
