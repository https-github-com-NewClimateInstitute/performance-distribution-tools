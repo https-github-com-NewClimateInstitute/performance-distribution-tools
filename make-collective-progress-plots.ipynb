{
 "cells": [
  {
   "cell_type": "markdown",
   "metadata": {},
   "source": [
    "# Collective progress\n",
    "\n",
    "**Example notebook for creating anonymised, collective information on progress**\n",
    "\n",
    "* Before running this notebook, you need to prepare the data you want to assess. To do so, please use the notebook - \"\"\n",
    "* For testing, some example data is available in the folder \"proc_data\"\n",
    "* Enter the name of the file that you wish to use in the first cell, after that you can run the full notebook with minimal changes. "
   ]
  },
  {
   "cell_type": "code",
   "execution_count": 1,
   "metadata": {},
   "outputs": [],
   "source": [
    "# import modules\n",
    "\n",
    "# system \n",
    "import re\n",
    "import os\n",
    "\n",
    "# calculation\n",
    "import pandas as pd\n",
    "import numpy as np\n",
    "\n",
    "# plotting\n",
    "%matplotlib inline\n",
    "import seaborn\n",
    "import matplotlib\n",
    "\n",
    "# global stocktake tools\n",
    "from gst_tools.make_plots import *\n",
    "import gst_tools.gst_utils as utils\n"
   ]
  },
  {
   "cell_type": "code",
   "execution_count": 2,
   "metadata": {},
   "outputs": [],
   "source": [
    "# USER INPUT\n",
    "\n",
    "# First, choose which file you want to plot the data for\n",
    "#data_file_name = 'UN-population-data-2017.csv'\n",
    "data_file_name = 'PRIMAP-hist_v2.0_Energy-CO2.csv'\n",
    "#data_file_name = 'PRIMAP-hist_UN-2017_calc__CO2-per-population.csv'\n",
    "#data_file_name = 'WDI2017_GDP-PPP.csv'\n",
    "\n",
    "# Second, choose which years you are interested in analysing\n",
    "years_of_interest = ['1990', '2000', '2014']\n"
   ]
  },
  {
   "cell_type": "code",
   "execution_count": 3,
   "metadata": {},
   "outputs": [],
   "source": [
    "# DATA READING AND PREP\n",
    "\n",
    "# read the data from file \n",
    "fname_in = os.path.join('proc-data', data_file_name)\n",
    "data = pd.read_csv(fname_in)\n",
    "\n",
    "# Check the data format\n",
    "if not utils.verify_data_format(data):\n",
    "    print('WARNING: The data is not correctly formatted! Please check before continuing!')\n",
    "\n",
    "# extract the key information\n",
    "variable = data['variable'].unique()[0]\n",
    "unit = data['unit'].unique()[0]\n",
    "\n",
    "# tidy up for next stesps\n",
    "data_years = utils.set_countries_as_index(data)\n",
    "data_years = data_years.dropna(axis=0, how='any')\n",
    "\n",
    "# remove comment below to display the data\n",
    "#data_years"
   ]
  },
  {
   "cell_type": "code",
   "execution_count": 4,
   "metadata": {},
   "outputs": [
    {
     "name": "stdout",
     "output_type": "stream",
     "text": [
      "-----------\n",
      "Identifying and removing outliers\n",
      "lower outliers are:\n",
      "Series([], Name: 1990, dtype: float64)\n",
      "upper outliers are: \n",
      "country\n",
      "BRA    1.341000e+12\n",
      "CAN    7.552000e+11\n",
      "CHN    1.504000e+12\n",
      "DEU    2.158000e+12\n",
      "ESP    8.017000e+11\n",
      "FRA    1.500000e+12\n",
      "GBR    1.330000e+12\n",
      "IDN    7.286000e+11\n",
      "IND    1.340000e+12\n",
      "ITA    1.534000e+12\n",
      "JPN    3.266000e+12\n",
      "MEX    9.326000e+11\n",
      "RUS    2.657000e+12\n",
      "USA    8.032000e+12\n",
      "Name: 1990, dtype: float64\n",
      "---\n",
      "-----------\n",
      "Identifying and removing outliers\n",
      "lower outliers are:\n",
      "Series([], Name: 2000, dtype: float64)\n",
      "upper outliers are: \n",
      "country\n",
      "BRA    1.730000e+12\n",
      "CAN    1.000000e+12\n",
      "CHN    4.057000e+12\n",
      "DEU    2.624000e+12\n",
      "ESP    1.055000e+12\n",
      "FRA    1.845000e+12\n",
      "GBR    1.685000e+12\n",
      "IDN    1.066000e+12\n",
      "IND    2.306000e+12\n",
      "ITA    1.806000e+12\n",
      "JPN    3.730000e+12\n",
      "KOR    8.471000e+11\n",
      "MEX    1.326000e+12\n",
      "RUS    1.788000e+12\n",
      "USA    1.127000e+13\n",
      "Name: 2000, dtype: float64\n",
      "---\n",
      "-----------\n",
      "Identifying and removing outliers\n",
      "lower outliers are:\n",
      "Series([], Name: 2014, dtype: float64)\n",
      "upper outliers are: \n",
      "country\n",
      "BRA    2.725000e+12\n",
      "CAN    1.325000e+12\n",
      "CHN    1.511000e+13\n",
      "DEU    3.053000e+12\n",
      "FRA    2.155000e+12\n",
      "GBR    2.131000e+12\n",
      "IDN    2.216000e+12\n",
      "IND    6.046000e+12\n",
      "ITA    1.791000e+12\n",
      "JPN    4.124000e+12\n",
      "KOR    1.473000e+12\n",
      "MEX    1.775000e+12\n",
      "RUS    3.155000e+12\n",
      "SAU    1.331000e+12\n",
      "USA    1.434000e+13\n",
      "Name: 2014, dtype: float64\n",
      "---\n"
     ]
    }
   ],
   "source": [
    "# Plot 1 - make a histogram of absolute data\n",
    "\n",
    "for selected_year in years_of_interest:\n",
    "    make_histogram(data_years[selected_year], variable, unit, remove_outliers=True, save_plot=True)\n"
   ]
  },
  {
   "cell_type": "code",
   "execution_count": 4,
   "metadata": {},
   "outputs": [
    {
     "name": "stdout",
     "output_type": "stream",
     "text": [
      "Averaging trend over 5 years.\n",
      "bins set to range(-34, 34, 2)\n"
     ]
    }
   ],
   "source": [
    "# Plot 2 - trends\n",
    "\n",
    "# Calculate trends and define plotting params    \n",
    "# TODO - improve description here. \n",
    "trends, rolling_trends, trends_unit = utils.calculate_trends(data_years, num_years_trend=5)\n",
    "trends_variable = 'Annual average change in ' + variable\n",
    "\n",
    "# plot the trend in the final year\n",
    "make_histogram(rolling_trends.iloc[:,-1], trends_variable, trends_unit, save_plot=True)\n"
   ]
  },
  {
   "cell_type": "code",
   "execution_count": 5,
   "metadata": {},
   "outputs": [
    {
     "name": "stdout",
     "output_type": "stream",
     "text": [
      "Calculating difference compared to 1990\n",
      "Calculating difference compared to 2005\n",
      "---------\n",
      "All values in the series are the same! Exiting plotting routine for change in CO2 from 1990 to 1990\n",
      "---------\n",
      "-----------\n",
      "Identifying and removing outliers\n",
      "lower outliers are:\n",
      "Series([], Name: 2000, dtype: float64)\n",
      "upper outliers are: \n",
      "country\n",
      "GNQ    589.393939\n",
      "LAO    313.425926\n",
      "NPL    406.944444\n",
      "TGO    359.770115\n",
      "Name: 2000, dtype: float64\n",
      "---\n",
      "bins set to range(-252, 252, 21)\n",
      "-----------\n",
      "Identifying and removing outliers\n",
      "lower outliers are:\n",
      "Series([], Name: 2014, dtype: float64)\n",
      "upper outliers are: \n",
      "country\n",
      "BEN     907.168459\n",
      "GNQ    8006.060606\n",
      "NPL    1025.000000\n",
      "QAT     805.172414\n",
      "TGO     788.888889\n",
      "Name: 2014, dtype: float64\n",
      "---\n",
      "bins set to range(-756, 756, 63)\n",
      "bins set to range(-990, 990, 22)\n"
     ]
    },
    {
     "data": {
      "image/png": "[encoded data removed]",
      "text/plain": [
       "<Figure size 432x288 with 1 Axes>"
      ]
     },
     "metadata": {},
     "output_type": "display_data"
    },
    {
     "name": "stdout",
     "output_type": "stream",
     "text": [
      "-----------\n",
      "Identifying and removing outliers\n",
      "lower outliers are:\n",
      "Series([], Name: 2016, dtype: float64)\n",
      "upper outliers are: \n",
      "country\n",
      "AFG    976.923077\n",
      "MOZ    420.886076\n",
      "Name: 2016, dtype: float64\n",
      "---\n",
      "bins set to range(-264, 264, 22)\n"
     ]
    }
   ],
   "source": [
    "# Plot 3 - change since year X\n",
    "\n",
    "# run calculations of differences\n",
    "df_abs_diff_1990, df_perc_diff_1990 = utils.calculate_diff_since_yearX(data_years, '1990')\n",
    "df_abs_diff_2005, df_perc_diff_2005 = utils.calculate_diff_since_yearX(data_years, '2005')\n",
    "\n",
    "# make plots\n",
    "\n",
    "# change since 1990 in selected years\n",
    "for selected_year in years_of_interest:\n",
    "    make_histogram(df_perc_diff_1990[selected_year], (\"change in \" + variable + \" from 1990 to \" + str(selected_year)), \n",
    "                   \"%\", remove_outliers=True, \n",
    "                   kTuk=3, save_plot=True)\n",
    "\n",
    "    \n",
    "# changes since 2005 in final year of data\n",
    "# first plot shown including outliers, second excludes them. \n",
    "\n",
    "make_histogram(df_perc_diff_2005.iloc[:,-1], (\"change in \" + variable + \" since 2005\"), '%', \n",
    "               remove_outliers=False, save_plot=False)\n",
    "\n",
    "make_histogram(df_perc_diff_2005.iloc[:,-1], (\"change in \" + variable + \" since 2005\"), '%', \n",
    "               remove_outliers=True, save_plot=True)\n",
    "\n",
    "\n",
    "# Note that the above code can be adapted for different years!"
   ]
  },
  {
   "cell_type": "code",
   "execution_count": null,
   "metadata": {},
   "outputs": [],
   "source": []
  },
  {
   "cell_type": "markdown",
   "metadata": {},
   "source": [
    "## Below here is code for testing and debugging!"
   ]
  },
  {
   "cell_type": "code",
   "execution_count": null,
   "metadata": {},
   "outputs": [],
   "source": []
  },
  {
   "cell_type": "code",
   "execution_count": null,
   "metadata": {},
   "outputs": [],
   "source": []
  },
  {
   "cell_type": "code",
   "execution_count": null,
   "metadata": {},
   "outputs": [],
   "source": []
  }
 ],
 "metadata": {
  "kernelspec": {
   "display_name": "Python 3",
   "language": "python",
   "name": "python3"
  },
  "language_info": {
   "codemirror_mode": {
    "name": "ipython",
    "version": 3
   },
   "file_extension": ".py",
   "mimetype": "text/x-python",
   "name": "python",
   "nbconvert_exporter": "python",
   "pygments_lexer": "ipython3",
   "version": "3.7.0"
  }
 },
 "nbformat": 4,
 "nbformat_minor": 2
}
