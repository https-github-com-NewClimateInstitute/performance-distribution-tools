{
 "cells": [
  {
   "cell_type": "markdown",
   "metadata": {},
   "source": [
    "# Collective progress\n",
    "\n",
    "**Example notebook for creating anonymised, collective information on progress**\n",
    "\n",
    "* Before running this notebook, you need to prepare the data you want to assess. To do so, please use the notebook - \"\"\n",
    "* For testing, some example data is available in the folder \"proc_data\"\n",
    "* Enter the name of the file that you wish to use in the first cell, after that you can run the full notebook with minimal changes. "
   ]
  },
  {
   "cell_type": "code",
   "execution_count": 81,
   "metadata": {},
   "outputs": [],
   "source": [
    "# import modules\n",
    "\n",
    "import pandas as pd\n",
    "import numpy as np\n",
    "import seaborn\n",
    "import matplotlib\n",
    "from gst_tools.make_plots import *\n",
    "import gst_tools.gst_utils as utils\n",
    "\n",
    "import re\n",
    "import os"
   ]
  },
  {
   "cell_type": "code",
   "execution_count": 82,
   "metadata": {},
   "outputs": [],
   "source": [
    "# Choose what you would like to plot\n",
    "\n",
    "#TODO - recommend a file name format to include the variable and the source. \n",
    "data_file_name = 'UN-population-data-2017.csv'\n",
    "years_of_interest = ['1990', '2000', '2015']\n",
    "\n",
    "# read the data from file and extract the key information\n",
    "data = pd.read_csv('proc_data/' + data_file_name)\n",
    "variable = data['variable'].unique()[0]\n",
    "unit = data['unit'].unique()[0]\n",
    "#years = gst_tools.get_years(data) #TODO\n",
    "\n",
    "data_years = utils.set_countries_as_index(data)\n",
    "data_years = data_years.dropna(axis=1, how='any')\n",
    "\n",
    "#TODO - add some checks / validation\n",
    "\n",
    "# remove comment below to display the data\n",
    "#data_years"
   ]
  },
  {
   "cell_type": "code",
   "execution_count": 83,
   "metadata": {},
   "outputs": [],
   "source": [
    "# Plot 1 - make a histogram\n",
    "\n",
    "var = variable\n",
    "\n",
    "def make_simple_histogram(df, variable, units):\n",
    "\n",
    "    # set a style\n",
    "    sns.set(style=\"darkgrid\") \n",
    "    \n",
    "    # get some basic info about the data to use for making style and annotating plot\n",
    "    maximum = max(df)\n",
    "    minimum = min(df)\n",
    "    mean = np.mean(df)\n",
    "    median = np.median(df)\n",
    "    npts = len(df) \n",
    "    \n",
    "    # set up the figure\n",
    "    fig, axs = plt.subplots()\n",
    "\n",
    "    # make histogram\n",
    "    sns.distplot(df, kde=False,\n",
    "                 bins='fd',\n",
    "                 rug=False, \n",
    "                 color='mediumseagreen',\n",
    "                 rug_kws={\"color\": \"rebeccapurple\", \"alpha\": 0.5, \"linewidth\": 0.4, \"height\": 0.03})\n",
    "\n",
    "    \n",
    "    # Dynamically set x axis range\n",
    "    if minimum < 0:\n",
    "        #make it symmetric\n",
    "        xmin, xmax = axs.get_xlim()\n",
    "        if np.absolute(xmax) > np.absolute(xmin):\n",
    "            plt.xlim(-xmax, xmax)\n",
    "        else:\n",
    "            plt.xlim(xmin, -xmin)\n",
    "\n",
    "    # Mathematically slightly nicer, but not ideal for this plot.\n",
    "    # axs.set_xscale('log')            \n",
    "                \n",
    "    # Annotate the plot\n",
    "    axs.annotate(\"max = {:.2f}\".format(maximum),\n",
    "                xy=(.6, 0.95), xycoords=axs.transAxes,\n",
    "                fontsize=8, color='black')\n",
    "    axs.annotate(\"min = {:.2f}\".format(minimum),\n",
    "                xy=(.6, 0.90), xycoords=axs.transAxes,\n",
    "                fontsize=8, color='black')\n",
    "    axs.annotate(\"mean = {:.2f}\".format(mean),\n",
    "                xy=(.6, 0.85), xycoords=axs.transAxes,\n",
    "                fontsize=8, color='black')\n",
    "    axs.annotate(\"median = {:.2f}\".format(median),\n",
    "                xy=(.6, 0.80), xycoords=axs.transAxes,\n",
    "                fontsize=8, color='black')\n",
    "    # TODO - make a box around this somehow?\n",
    "    \n",
    "    # label axes and add title\n",
    "    axs.set_xlabel((var + ' (' + unit + ')'))\n",
    "    axs.set_ylabel('Number of countries')\n",
    "    axs.set_title((var + ' in ' + df.name), fontweight='bold')\n",
    "    \n",
    "    \n",
    "    # save to file\n",
    "    filepath = os.path.join('output', 'plots')\n",
    "    fname = ('basic_histogram-' + var + '.pdf')\n",
    "    if not os.path.exists(filepath):\n",
    "        os.makedirs(filepath)\n",
    "    filename = os.path.join(filepath, fname)\n",
    "    plt.savefig(filename, format='pdf')\n",
    "    plt.close()\n",
    "\n",
    "\n",
    "# run above function\n",
    "# TODO - move function to background .py file\n",
    "make_simple_histogram(data_years[years_of_interest[0]], variable, unit)\n"
   ]
  },
  {
   "cell_type": "code",
   "execution_count": 84,
   "metadata": {},
   "outputs": [
    {
     "ename": "SyntaxError",
     "evalue": "unexpected EOF while parsing (<ipython-input-84-f02dd8c13a69>, line 10)",
     "output_type": "error",
     "traceback": [
      "\u001b[0;36m  File \u001b[0;32m\"<ipython-input-84-f02dd8c13a69>\"\u001b[0;36m, line \u001b[0;32m10\u001b[0m\n\u001b[0;31m    \u001b[0m\n\u001b[0m    ^\u001b[0m\n\u001b[0;31mSyntaxError\u001b[0m\u001b[0;31m:\u001b[0m unexpected EOF while parsing\n"
     ]
    }
   ],
   "source": [
    "\n",
    "    \n",
    "    "
   ]
  },
  {
   "cell_type": "code",
   "execution_count": 59,
   "metadata": {},
   "outputs": [
    {
     "data": {
      "text/plain": [
       "'ThousandPers'"
      ]
     },
     "execution_count": 59,
     "metadata": {},
     "output_type": "execute_result"
    }
   ],
   "source": []
  },
  {
   "cell_type": "code",
   "execution_count": null,
   "metadata": {},
   "outputs": [],
   "source": []
  }
 ],
 "metadata": {
  "kernelspec": {
   "display_name": "Python 3",
   "language": "python",
   "name": "python3"
  },
  "language_info": {
   "codemirror_mode": {
    "name": "ipython",
    "version": 3
   },
   "file_extension": ".py",
   "mimetype": "text/x-python",
   "name": "python",
   "nbconvert_exporter": "python",
   "pygments_lexer": "ipython3",
   "version": "3.7.0"
  }
 },
 "nbformat": 4,
 "nbformat_minor": 2
}
