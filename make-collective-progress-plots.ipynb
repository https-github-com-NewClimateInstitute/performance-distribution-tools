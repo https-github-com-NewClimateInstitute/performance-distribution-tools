{
 "cells": [
  {
   "cell_type": "markdown",
   "metadata": {},
   "source": [
    "# Collective progress\n",
    "\n",
    "**Example notebook for creating anonymised, collective information on progress**\n",
    "\n",
    "* Before running this notebook, you need to prepare the data you want to assess. To do so, please use the notebooks  \"prepare-PRIMAP-hist-data-for-collective-progress-plots.ipynb\" or \"prepare-PRIMAP-data.ipynb\" in case the data you need is not yet available.\n",
    "* For testing, some example data is available in the folder \"proc_data\"\n",
    "* Enter the name of the file that you wish to use in the second cell and some of the plotting parameters. After that you can run the full notebook with minimal changes. "
   ]
  },
  {
   "cell_type": "code",
   "execution_count": 1,
   "metadata": {},
   "outputs": [],
   "source": [
    "# import modules\n",
    "\n",
    "# system \n",
    "import re\n",
    "import os\n",
    "\n",
    "# calculation\n",
    "import pandas as pd\n",
    "import numpy as np\n",
    "\n",
    "# plotting\n",
    "%matplotlib inline\n",
    "import seaborn\n",
    "import matplotlib\n",
    "\n",
    "# global stocktake tools\n",
    "from gst_tools.make_plots import *\n",
    "import gst_tools.gst_utils as utils\n"
   ]
  },
  {
   "cell_type": "code",
   "execution_count": 2,
   "metadata": {},
   "outputs": [],
   "source": [
    "# USER INPUT\n",
    "\n",
    "# First, choose which file you want to plot the data for\n",
    "data_file_name = 'PRIMAP-hist_UN-2017_calc_CO2-per-population.csv'\n",
    "\n",
    "\n",
    "# other options include...\n",
    "# 'PRIMAP-hist_v2.0_KyotoGHG-AR4-total-excl-LU.csv'\n",
    "# 'UN-population-data-2017.csv'\n",
    "# 'PRIMAP-hist_v2.0_Energy-CO2.csv'\n",
    "# 'PRIMAP-hist_UN-2017_calc__CO2-per-population.csv'\n",
    "# 'PRIMAP-hist_UN-2017_calc_CO2-total-excl-LU-per-population.csv'\n",
    "# 'WDI2017_GDP-PPP.csv'\n",
    "\n",
    "# Second, choose which years you are interested in analysing\n",
    "years_of_interest = ['1990', '2000', '2015']\n",
    "\n",
    "# Third, update data description display names!\n",
    "# TODO - default to automatic if not specified.\n",
    "variable_name_to_display = 'CO2 emissions'\n",
    "data_source_to_display = 'PRIMAP-hist v2.0'\n",
    "\n",
    "# Save plots?\n",
    "# Set the following to True if plots should be saved. \n",
    "# If False, plots will be shown on screen but not saved to a file.\n",
    "save_opt = True"
   ]
  },
  {
   "cell_type": "code",
   "execution_count": 3,
   "metadata": {},
   "outputs": [],
   "source": [
    "# DATA READING AND PREP\n",
    "\n",
    "# read the data from file \n",
    "fname_in = os.path.join('proc-data', data_file_name)\n",
    "data = pd.read_csv(fname_in)\n",
    "\n",
    "# Check the data format\n",
    "if not utils.verify_data_format(data):\n",
    "    print('WARNING: The data is not correctly formatted! Please check before continuing!')\n",
    "\n",
    "# extract the key information\n",
    "variable = data['variable'].unique()[0]\n",
    "unit = data['unit'].unique()[0]\n",
    "\n",
    "# tidy up for next stesps\n",
    "data_years = utils.set_countries_as_index(data)\n",
    "data_years = data_years.dropna(axis=1, how='any')\n",
    "\n",
    "# remove comment below to display the data\n",
    "#data_years"
   ]
  },
  {
   "cell_type": "code",
   "execution_count": 4,
   "metadata": {},
   "outputs": [
    {
     "ename": "KeyError",
     "evalue": "'1990'",
     "output_type": "error",
     "traceback": [
      "\u001b[1;31m---------------------------------------------------------------------------\u001b[0m",
      "\u001b[1;31mKeyError\u001b[0m                                  Traceback (most recent call last)",
      "\u001b[1;32m~\\source\\Anaconda3\\envs\\pdtools\\lib\\site-packages\\pandas\\core\\indexes\\base.py\u001b[0m in \u001b[0;36mget_loc\u001b[1;34m(self, key, method, tolerance)\u001b[0m\n\u001b[0;32m   2656\u001b[0m             \u001b[1;32mtry\u001b[0m\u001b[1;33m:\u001b[0m\u001b[1;33m\u001b[0m\u001b[1;33m\u001b[0m\u001b[0m\n\u001b[1;32m-> 2657\u001b[1;33m                 \u001b[1;32mreturn\u001b[0m \u001b[0mself\u001b[0m\u001b[1;33m.\u001b[0m\u001b[0m_engine\u001b[0m\u001b[1;33m.\u001b[0m\u001b[0mget_loc\u001b[0m\u001b[1;33m(\u001b[0m\u001b[0mkey\u001b[0m\u001b[1;33m)\u001b[0m\u001b[1;33m\u001b[0m\u001b[1;33m\u001b[0m\u001b[0m\n\u001b[0m\u001b[0;32m   2658\u001b[0m             \u001b[1;32mexcept\u001b[0m \u001b[0mKeyError\u001b[0m\u001b[1;33m:\u001b[0m\u001b[1;33m\u001b[0m\u001b[1;33m\u001b[0m\u001b[0m\n",
      "\u001b[1;32mpandas/_libs/index.pyx\u001b[0m in \u001b[0;36mpandas._libs.index.IndexEngine.get_loc\u001b[1;34m()\u001b[0m\n",
      "\u001b[1;32mpandas/_libs/index.pyx\u001b[0m in \u001b[0;36mpandas._libs.index.IndexEngine.get_loc\u001b[1;34m()\u001b[0m\n",
      "\u001b[1;32mpandas/_libs/hashtable_class_helper.pxi\u001b[0m in \u001b[0;36mpandas._libs.hashtable.PyObjectHashTable.get_item\u001b[1;34m()\u001b[0m\n",
      "\u001b[1;32mpandas/_libs/hashtable_class_helper.pxi\u001b[0m in \u001b[0;36mpandas._libs.hashtable.PyObjectHashTable.get_item\u001b[1;34m()\u001b[0m\n",
      "\u001b[1;31mKeyError\u001b[0m: '1990'",
      "\nDuring handling of the above exception, another exception occurred:\n",
      "\u001b[1;31mKeyError\u001b[0m                                  Traceback (most recent call last)",
      "\u001b[1;32m<ipython-input-4-f552ca1c6724>\u001b[0m in \u001b[0;36m<module>\u001b[1;34m\u001b[0m\n\u001b[0;32m      9\u001b[0m     \u001b[0mtitle\u001b[0m \u001b[1;33m=\u001b[0m \u001b[1;34m'distribution of '\u001b[0m \u001b[1;33m+\u001b[0m \u001b[0mvariable_name_to_display\u001b[0m \u001b[1;33m+\u001b[0m \u001b[1;34m' in '\u001b[0m \u001b[1;33m+\u001b[0m \u001b[0mstr\u001b[0m\u001b[1;33m(\u001b[0m\u001b[0mselected_year\u001b[0m\u001b[1;33m)\u001b[0m\u001b[1;33m\u001b[0m\u001b[1;33m\u001b[0m\u001b[0m\n\u001b[0;32m     10\u001b[0m \u001b[1;33m\u001b[0m\u001b[0m\n\u001b[1;32m---> 11\u001b[1;33m     make_histogram(data_years[selected_year], unit,\n\u001b[0m\u001b[0;32m     12\u001b[0m                    \u001b[0mxlabel\u001b[0m\u001b[1;33m=\u001b[0m\u001b[0mxaxlabel\u001b[0m\u001b[1;33m,\u001b[0m \u001b[0mtitle\u001b[0m\u001b[1;33m=\u001b[0m\u001b[0mtitle\u001b[0m\u001b[1;33m,\u001b[0m\u001b[1;33m\u001b[0m\u001b[1;33m\u001b[0m\u001b[0m\n\u001b[0;32m     13\u001b[0m                    \u001b[0msourcename\u001b[0m\u001b[1;33m=\u001b[0m\u001b[0mdata_source_to_display\u001b[0m\u001b[1;33m,\u001b[0m\u001b[1;33m\u001b[0m\u001b[1;33m\u001b[0m\u001b[0m\n",
      "\u001b[1;32m~\\source\\Anaconda3\\envs\\pdtools\\lib\\site-packages\\pandas\\core\\frame.py\u001b[0m in \u001b[0;36m__getitem__\u001b[1;34m(self, key)\u001b[0m\n\u001b[0;32m   2925\u001b[0m             \u001b[1;32mif\u001b[0m \u001b[0mself\u001b[0m\u001b[1;33m.\u001b[0m\u001b[0mcolumns\u001b[0m\u001b[1;33m.\u001b[0m\u001b[0mnlevels\u001b[0m \u001b[1;33m>\u001b[0m \u001b[1;36m1\u001b[0m\u001b[1;33m:\u001b[0m\u001b[1;33m\u001b[0m\u001b[1;33m\u001b[0m\u001b[0m\n\u001b[0;32m   2926\u001b[0m                 \u001b[1;32mreturn\u001b[0m \u001b[0mself\u001b[0m\u001b[1;33m.\u001b[0m\u001b[0m_getitem_multilevel\u001b[0m\u001b[1;33m(\u001b[0m\u001b[0mkey\u001b[0m\u001b[1;33m)\u001b[0m\u001b[1;33m\u001b[0m\u001b[1;33m\u001b[0m\u001b[0m\n\u001b[1;32m-> 2927\u001b[1;33m             \u001b[0mindexer\u001b[0m \u001b[1;33m=\u001b[0m \u001b[0mself\u001b[0m\u001b[1;33m.\u001b[0m\u001b[0mcolumns\u001b[0m\u001b[1;33m.\u001b[0m\u001b[0mget_loc\u001b[0m\u001b[1;33m(\u001b[0m\u001b[0mkey\u001b[0m\u001b[1;33m)\u001b[0m\u001b[1;33m\u001b[0m\u001b[1;33m\u001b[0m\u001b[0m\n\u001b[0m\u001b[0;32m   2928\u001b[0m             \u001b[1;32mif\u001b[0m \u001b[0mis_integer\u001b[0m\u001b[1;33m(\u001b[0m\u001b[0mindexer\u001b[0m\u001b[1;33m)\u001b[0m\u001b[1;33m:\u001b[0m\u001b[1;33m\u001b[0m\u001b[1;33m\u001b[0m\u001b[0m\n\u001b[0;32m   2929\u001b[0m                 \u001b[0mindexer\u001b[0m \u001b[1;33m=\u001b[0m \u001b[1;33m[\u001b[0m\u001b[0mindexer\u001b[0m\u001b[1;33m]\u001b[0m\u001b[1;33m\u001b[0m\u001b[1;33m\u001b[0m\u001b[0m\n",
      "\u001b[1;32m~\\source\\Anaconda3\\envs\\pdtools\\lib\\site-packages\\pandas\\core\\indexes\\base.py\u001b[0m in \u001b[0;36mget_loc\u001b[1;34m(self, key, method, tolerance)\u001b[0m\n\u001b[0;32m   2657\u001b[0m                 \u001b[1;32mreturn\u001b[0m \u001b[0mself\u001b[0m\u001b[1;33m.\u001b[0m\u001b[0m_engine\u001b[0m\u001b[1;33m.\u001b[0m\u001b[0mget_loc\u001b[0m\u001b[1;33m(\u001b[0m\u001b[0mkey\u001b[0m\u001b[1;33m)\u001b[0m\u001b[1;33m\u001b[0m\u001b[1;33m\u001b[0m\u001b[0m\n\u001b[0;32m   2658\u001b[0m             \u001b[1;32mexcept\u001b[0m \u001b[0mKeyError\u001b[0m\u001b[1;33m:\u001b[0m\u001b[1;33m\u001b[0m\u001b[1;33m\u001b[0m\u001b[0m\n\u001b[1;32m-> 2659\u001b[1;33m                 \u001b[1;32mreturn\u001b[0m \u001b[0mself\u001b[0m\u001b[1;33m.\u001b[0m\u001b[0m_engine\u001b[0m\u001b[1;33m.\u001b[0m\u001b[0mget_loc\u001b[0m\u001b[1;33m(\u001b[0m\u001b[0mself\u001b[0m\u001b[1;33m.\u001b[0m\u001b[0m_maybe_cast_indexer\u001b[0m\u001b[1;33m(\u001b[0m\u001b[0mkey\u001b[0m\u001b[1;33m)\u001b[0m\u001b[1;33m)\u001b[0m\u001b[1;33m\u001b[0m\u001b[1;33m\u001b[0m\u001b[0m\n\u001b[0m\u001b[0;32m   2660\u001b[0m         \u001b[0mindexer\u001b[0m \u001b[1;33m=\u001b[0m \u001b[0mself\u001b[0m\u001b[1;33m.\u001b[0m\u001b[0mget_indexer\u001b[0m\u001b[1;33m(\u001b[0m\u001b[1;33m[\u001b[0m\u001b[0mkey\u001b[0m\u001b[1;33m]\u001b[0m\u001b[1;33m,\u001b[0m \u001b[0mmethod\u001b[0m\u001b[1;33m=\u001b[0m\u001b[0mmethod\u001b[0m\u001b[1;33m,\u001b[0m \u001b[0mtolerance\u001b[0m\u001b[1;33m=\u001b[0m\u001b[0mtolerance\u001b[0m\u001b[1;33m)\u001b[0m\u001b[1;33m\u001b[0m\u001b[1;33m\u001b[0m\u001b[0m\n\u001b[0;32m   2661\u001b[0m         \u001b[1;32mif\u001b[0m \u001b[0mindexer\u001b[0m\u001b[1;33m.\u001b[0m\u001b[0mndim\u001b[0m \u001b[1;33m>\u001b[0m \u001b[1;36m1\u001b[0m \u001b[1;32mor\u001b[0m \u001b[0mindexer\u001b[0m\u001b[1;33m.\u001b[0m\u001b[0msize\u001b[0m \u001b[1;33m>\u001b[0m \u001b[1;36m1\u001b[0m\u001b[1;33m:\u001b[0m\u001b[1;33m\u001b[0m\u001b[1;33m\u001b[0m\u001b[0m\n",
      "\u001b[1;32mpandas/_libs/index.pyx\u001b[0m in \u001b[0;36mpandas._libs.index.IndexEngine.get_loc\u001b[1;34m()\u001b[0m\n",
      "\u001b[1;32mpandas/_libs/index.pyx\u001b[0m in \u001b[0;36mpandas._libs.index.IndexEngine.get_loc\u001b[1;34m()\u001b[0m\n",
      "\u001b[1;32mpandas/_libs/hashtable_class_helper.pxi\u001b[0m in \u001b[0;36mpandas._libs.hashtable.PyObjectHashTable.get_item\u001b[1;34m()\u001b[0m\n",
      "\u001b[1;32mpandas/_libs/hashtable_class_helper.pxi\u001b[0m in \u001b[0;36mpandas._libs.hashtable.PyObjectHashTable.get_item\u001b[1;34m()\u001b[0m\n",
      "\u001b[1;31mKeyError\u001b[0m: '1990'"
     ]
    }
   ],
   "source": [
    "# Plot 1 - make a histogram of absolute data\n",
    "\n",
    "# how should the xaxis be labelled?\n",
    "xaxlabel = variable_name_to_display\n",
    "\n",
    "# make a plot for each year\n",
    "for selected_year in years_of_interest:\n",
    "    \n",
    "    title = 'distribution of ' + variable_name_to_display + ' in ' + str(selected_year)\n",
    "    \n",
    "    make_histogram(data_years[selected_year], unit,\n",
    "                   xlabel=xaxlabel, title=title, \n",
    "                   sourcename=data_source_to_display,\n",
    "                   remove_outliers=True, ktuk=3,\n",
    "                   save_plot=save_opt, plot_name=(variable + '-' + 'absolute' + '-' + str(selected_year)))\n"
   ]
  },
  {
   "cell_type": "code",
   "execution_count": null,
   "metadata": {
    "scrolled": true
   },
   "outputs": [],
   "source": [
    "# Plot 2 - trends\n",
    "\n",
    "# Calculate trends from the absolute data\n",
    "# trends - % change in any given year\n",
    "# rolling_trends - % annual change averaged over the specifiied number of years (here 5 is recommended)\n",
    "# trends_unit - unit of the trend, here % change\n",
    "trends, rolling_trends, trends_unit = utils.calculate_trends(data_years, num_years_trend=5)\n",
    "\n",
    "# define some labels for the plots\n",
    "trends_variable = 'average annual change' \n",
    "thistitle = \"5-year rolling average trend in \\n\" + variable_name_to_display + \"\\nin \" + str(data_years.columns[-1])\n",
    "\n",
    "# make a plot showing the trend in the final year of available data\n",
    "make_histogram(rolling_trends.iloc[:,-1], trends_unit, \n",
    "               xlabel=trends_variable,\n",
    "               title=thistitle, \n",
    "               sourcename=data_source_to_display, \n",
    "               save_plot=save_opt, plot_name=(variable + '-' + 'rolling-average'))\n"
   ]
  },
  {
   "cell_type": "code",
   "execution_count": null,
   "metadata": {},
   "outputs": [],
   "source": [
    "# Plot 3 - change since year X\n",
    "\n",
    "# run calculations - dataframe of differences in all years relative to the specified year\n",
    "# the function returns both absolute and relative (%) values\n",
    "df_abs_diff_1990, df_perc_diff_1990 = utils.calculate_diff_since_yearX(data_years, '1990')\n",
    "df_abs_diff_2005, df_perc_diff_2005 = utils.calculate_diff_since_yearX(data_years, '2005')\n",
    "\n",
    "# make plots\n",
    "\n",
    "# a few selected years; difference from 1990\n",
    "for selected_year in years_of_interest:\n",
    "    make_histogram(df_perc_diff_1990[selected_year], \"%\", \n",
    "                   xlabel='change since 1990', \n",
    "                   title=('change in ' + variable_name_to_display + '\\n from 1990 to ' + str(selected_year)), \n",
    "                   sourcename=data_source_to_display,\n",
    "                   remove_outliers=True, ktuk=3, \n",
    "                   save_plot=save_opt, plot_name=(variable + '-' + 'change-since-1990' + '-in-' + str(selected_year)))\n",
    "\n",
    "    \n",
    "# decrease in the last year as compared to 2005 \n",
    "make_histogram(df_perc_diff_2005.iloc[:,-1], '%', \n",
    "               xlabel='change since 2005', \n",
    "               title=('change in ' + variable_name_to_display + '\\n from 2005 to ' + str(df_perc_diff_2005.columns[-1])), \n",
    "               sourcename=data_source_to_display,\n",
    "               remove_outliers=False, \n",
    "               save_plot=save_opt, plot_name=(variable + '-' + 'change-since-2005'))\n",
    "\n",
    "# same plot, but removing outliers to show difference...\n",
    "make_histogram(df_perc_diff_2005.iloc[:,-1], '%', \n",
    "               xlabel='change since 2005', \n",
    "               title=('change in ' + variable_name_to_display + '\\n from 2005 to ' + str(df_perc_diff_2005.columns[-1])), \n",
    "               sourcename=data_source_to_display,\n",
    "               remove_outliers=True, \n",
    "               save_plot=save_opt, plot_name=(variable + '-' + 'change-since-2005-excl-outliers'))\n"
   ]
  },
  {
   "cell_type": "code",
   "execution_count": null,
   "metadata": {},
   "outputs": [],
   "source": []
  },
  {
   "cell_type": "markdown",
   "metadata": {},
   "source": [
    "## Below here is space for code for testing and debugging!"
   ]
  },
  {
   "cell_type": "code",
   "execution_count": 7,
   "metadata": {},
   "outputs": [
    {
     "data": {
      "text/plain": [
       "Index(['variable', 'country', 'unit', '1990', '1991', '1992', '1993', '1994',\n",
       "       '1995', '1996', '1997', '1998', '1999', '2000', '2001', '2002', '2003',\n",
       "       '2004', '2005', '2006', '2007', '2008', '2009', '2010', '2011', '2012',\n",
       "       '2013', '2014', '2015'],\n",
       "      dtype='object')"
      ]
     },
     "execution_count": 7,
     "metadata": {},
     "output_type": "execute_result"
    }
   ],
   "source": [
    "# show example data\n",
    "data.columns\n"
   ]
  },
  {
   "cell_type": "code",
   "execution_count": null,
   "metadata": {},
   "outputs": [],
   "source": []
  }
 ],
 "metadata": {
  "kernelspec": {
   "display_name": "Python 3",
   "language": "python",
   "name": "python3"
  },
  "language_info": {
   "codemirror_mode": {
    "name": "ipython",
    "version": 3
   },
   "file_extension": ".py",
   "mimetype": "text/x-python",
   "name": "python",
   "nbconvert_exporter": "python",
   "pygments_lexer": "ipython3",
   "version": "3.7.3"
  }
 },
 "nbformat": 4,
 "nbformat_minor": 2
}
