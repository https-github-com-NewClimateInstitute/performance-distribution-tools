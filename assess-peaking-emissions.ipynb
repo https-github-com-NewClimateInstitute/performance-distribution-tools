{
 "cells": [
  {
   "cell_type": "markdown",
   "metadata": {},
   "source": [
    "# Peaking emissions\n",
    "\n",
    "* A key step on the way to reducing emissions is for them to peak, at both a national and global level\n",
    "* This notebook reads in emissions data (either national totals or subsectors) and assesses how many countries have peaked emissions. In addition, it explores which countries have emissions that may have stabilised vs. those that are clearly still increasing.\n",
    "* The specific criteria for 'peaking' emissions can be set by the user, and include\n",
    "    * a date since which emissions must have peaked - this removes countries whose emissions peaked since 1990 but have since increased. \n",
    "    * a more recent end year *before* which emissions must have peaked. This excludes countries whose maxima in emissions was in the last few years but not long enough ago to be sure that they will not increase again. \n",
    "    * A period over which average emissions have steadily decreased by a given threshold, e.g. average 5-yearly decrease of 1.5% per year.\n",
    "    \n",
    "    \n",
    "TODO: \n",
    "* more sensible naming of plots? \n",
    "* somehow export the criteria for selection with the plots. "
   ]
  },
  {
   "cell_type": "code",
   "execution_count": 1,
   "metadata": {},
   "outputs": [],
   "source": [
    "# import modules\n",
    "\n",
    "# system\n",
    "import sys, os, re\n",
    "\n",
    "# for analysis\n",
    "import pandas as pd\n",
    "import numpy as np\n",
    "\n",
    "# for plotting\n",
    "%matplotlib inline\n",
    "import matplotlib as mpl\n",
    "import matplotlib.pyplot as plt\n",
    "import seaborn\n",
    "\n",
    "# global stocktake tools\n",
    "from gst_tools.make_plots import *\n",
    "import gst_tools.gst_utils as utils\n",
    "\n",
    "#from shortcountrynames import to_name\n",
    "from countrygroups import EUROPEAN_UNION"
   ]
  },
  {
   "cell_type": "code",
   "execution_count": 2,
   "metadata": {},
   "outputs": [],
   "source": [
    "# User specs\n",
    "\n",
    "\"\"\"\n",
    "PLEASE ADJUST THE FOLLOWING FOUR PARAMETERS TO SUIT YOUR NEEDS! \n",
    "\"\"\"\n",
    "\n",
    "# File containing data to be used:\n",
    "data_file_name = 'PRIMAP-hist_v2.0_Energy-CO2.csv'\n",
    "\n",
    "# year since which peaking must have occurred\n",
    "peak_since = 2000\n",
    "\n",
    "# number of years before end of data series BY which peak should have occurred\n",
    "nyears = 4\n",
    "\n",
    "# threshold (%) of n year decraese for positively evaluating an emissions peak\n",
    "decrease_threshold = -1.5\n",
    "\n",
    "# number of years over which emissions trend should be averaged\n",
    "n_trend_years = 5 \n"
   ]
  },
  {
   "cell_type": "code",
   "execution_count": 3,
   "metadata": {},
   "outputs": [],
   "source": [
    "# Read the data\n",
    "\n",
    "# read the data from file \n",
    "fname_in = os.path.join('proc-data', data_file_name)\n",
    "data = pd.read_csv(fname_in)\n",
    "\n",
    "# Check the data format\n",
    "if not utils.verify_data_format(data):\n",
    "    print('WARNING: The data is not correctly formatted! Please check before continuing!')\n",
    "\n",
    "# extract the key information\n",
    "variable = data['variable'].unique()[0]\n",
    "unit = data['unit'].unique()[0]\n",
    "\n",
    "# reorganise and clean the data\n",
    "data_years = utils.set_countries_as_index(data)\n",
    "data_years = data_years.dropna(axis=1, how='any')\n",
    "\n",
    "# TODO - add some checks / validation\n",
    "\n",
    "# remove comment below to display the data\n",
    "#data_years"
   ]
  },
  {
   "cell_type": "code",
   "execution_count": 4,
   "metadata": {},
   "outputs": [
    {
     "name": "stdout",
     "output_type": "stream",
     "text": [
      "First year of data available is now 2000\n",
      "Last year of data available is 2014\n"
     ]
    }
   ],
   "source": [
    "# Year of peaking \n",
    "\n",
    "\"\"\"\n",
    "Makes a histogram of the year in which emissions have peaked since the start year specified above (peak_since).\n",
    "\"\"\"\n",
    "\n",
    "reduced_data = utils.change_first_year(data_years, peak_since)\n",
    "\n",
    "year_max = reduced_data.idxmax(axis=1)\n",
    "year_max = pd.to_numeric(year_max)\n",
    "year_max.name = 'peak year'\n",
    "\n",
    "start_year = min(list(map(int, data_years.columns)))\n",
    "end_year = max(list(map(int, data_years.columns)))\n",
    "\n",
    "make_histogram_peaking(year_max, variable, '', peak_since, end_year, save_plot=True)\n",
    "    "
   ]
  },
  {
   "cell_type": "code",
   "execution_count": 5,
   "metadata": {},
   "outputs": [
    {
     "name": "stdout",
     "output_type": "stream",
     "text": [
      "Averaging trend over 5 years.\n",
      "\n",
      "Share of countries peaked is 18.5%\n",
      "Share of countries stabilised is 3.6%\n",
      "Share of countries possibly stabilised is 30.8%\n",
      "Share of countries still increasing is 47.2%\n",
      "\n"
     ]
    }
   ],
   "source": [
    "# Interrogate the data with different conditions (peak year, decreasing rate) to categorise countries \n",
    "#    into different categories \n",
    "\n",
    "# set up a dataframe to store analysis results\n",
    "peaking_assessment = pd.DataFrame()\n",
    "peaking_assessment['max year'] = year_max\n",
    "  \n",
    "    \n",
    "# Identify countries that have 'peaked' before the time period chosen by the user above (nyears ago)\n",
    "peaking_assessment['max_reached'] = peaking_assessment['max year'].apply(\n",
    "                                                                lambda x : (x < (end_year - nyears)))\n",
    "\n",
    "# Identify countries with decreasing emissions trends\n",
    "recent_trends, recent_trends_rolling, unit = utils.calculate_trends(reduced_data, num_years_trend=n_trend_years)\n",
    "peaking_assessment['decreasing'] = recent_trends[str(end_year)].apply(lambda x: (x < 0))\n",
    "peaking_assessment['strongly_decreasing'] = recent_trends[str(end_year)].apply(lambda x: (x < decrease_threshold))\n",
    "\n",
    "# Use multi-criteria to define different regimes\n",
    "# first, the clearer cases...\n",
    "peaking_assessment['peaked']     = peaking_assessment['max_reached'] & peaking_assessment['strongly_decreasing']\n",
    "peaking_assessment['stabilised'] = peaking_assessment['max_reached'] & peaking_assessment['decreasing'] & (peaking_assessment['strongly_decreasing']==False)\n",
    "peaking_assessment['not_peaked'] = (peaking_assessment['max_reached']==False) & (peaking_assessment['decreasing']==False)\n",
    "\n",
    "# then the not so clear cases - only meets one of the criteria\n",
    "# note that in the second case, a max. has been reached but too recently to count\n",
    "peaking_assessment['max_reached_not_decreasing'] = peaking_assessment['max_reached'] & (peaking_assessment['decreasing']==False)\n",
    "peaking_assessment['recent_peak']  = (peaking_assessment['max_reached']==False) & (peaking_assessment['decreasing'])\n",
    "peaking_assessment['possibly_stabilised'] = peaking_assessment['max_reached_not_decreasing'] | peaking_assessment['recent_peak']\n",
    "\n",
    "\n",
    "# and use that to get some stats\n",
    "share_peaked     = peaking_assessment['peaked'].value_counts(normalize=True) \n",
    "share_stabilised = peaking_assessment['stabilised'].value_counts(normalize=True)\n",
    "share_possible   = peaking_assessment['possibly_stabilised'].value_counts(normalize=True)\n",
    "share_increasing = peaking_assessment['not_peaked'].value_counts(normalize=True)\n",
    "\n",
    "\n",
    "# and print to screen...\n",
    "print('')\n",
    "print('Share of countries peaked is {:.1f}%'.format(share_peaked[True]*100))\n",
    "print('Share of countries stabilised is {:.1f}%'.format(share_stabilised[True]*100))\n",
    "print('Share of countries possibly stabilised is {:.1f}%'.format(share_possible[True]*100))\n",
    "print('Share of countries still increasing is {:.1f}%'.format(share_increasing[True]*100))\n",
    "#print('Share of countries remaining is {:.1f}%'.format(share_remaining[True]*100))\n",
    "print('')\n"
   ]
  },
  {
   "cell_type": "code",
   "execution_count": 6,
   "metadata": {},
   "outputs": [],
   "source": [
    "# And make some plots to view and check the results. \n",
    "\n",
    "\"\"\"\n",
    "These functions will plot facet grids of the emissions trends and absolute emissions\n",
    "for all countries in each category. \n",
    "\"\"\"\n",
    "\n",
    "\n",
    "# 1. Peaking\n",
    "# prep data for plotting \n",
    "peaked_country_trends = recent_trends[peaking_assessment['peaked']]\n",
    "peaked_country_abs = data_years[peaking_assessment['peaked']] \n",
    "\n",
    "# make the plots\n",
    "plot_facet_grid_countries(peaked_country_trends, 'year', '% change', \n",
    "                          main_title='Countries with peaked emissions', \n",
    "                          plot_name=('peaked-' + variable), save_plot=True)\n",
    "\n",
    "plot_facet_grid_countries(peaked_country_abs, 'year', 'emissions', \n",
    "                          main_title='absolute emissions for peaked countries', \n",
    "                          plot_name=('peaked-' + variable), save_plot=True)\n",
    "\n",
    "    \n",
    "# 2. Stabilised\n",
    "stab_trends = recent_trends[peaking_assessment['stabilised']]\n",
    "stab_abs    = data_years[peaking_assessment['stabilised']] \n",
    "\n",
    "plot_facet_grid_countries(stab_trends, 'year', '% change', \n",
    "                         main_title='Trends in countries with stabilised emissions', \n",
    "                         plot_name=('stabilised-' + variable), save_plot=True)\n",
    "plot_facet_grid_countries(stab_abs, 'year', 'emissions', \n",
    "                         main_title='Emissions in countries with stabilised emissions', \n",
    "                         plot_name=('stabilised-' + variable), save_plot=True)\n",
    "\n",
    "\n",
    "# 3. possibly stabilised\n",
    "poss_stab_trends = recent_trends[peaking_assessment['possibly_stabilised']]\n",
    "poss_stab_abs    = data_years[peaking_assessment['possibly_stabilised']] / 1000\n",
    "\n",
    "plot_facet_grid_countries(poss_stab_trends, 'year', '% change', \n",
    "                         main_title='Trends in countries with possibly stabilised emissions', \n",
    "                         plot_name=('poss-stabilised-' + variable), save_plot=True)\n",
    "plot_facet_grid_countries(poss_stab_abs, 'year', 'emissions', \n",
    "                         main_title='Emissions in countries with possibly stabilised emissions', \n",
    "                         plot_name=('poss-stabilised-' + variable),  save_plot=True)\n",
    "\n",
    "\n",
    "# 4. still increasing\n",
    "not_peaked_trends = recent_trends[peaking_assessment['not_peaked']]\n",
    "not_peaked_abs    = data_years[peaking_assessment['not_peaked']] \n",
    "\n",
    "plot_facet_grid_countries(not_peaked_trends, 'year', '% change', \n",
    "                         main_title='Trends in countries with emissions that have not yet peaked',\n",
    "                         plot_name=('not-peaked-' + variable),\n",
    "                         save_plot=True)\n",
    "plot_facet_grid_countries(not_peaked_abs, 'year', 'emissions', \n",
    "                         main_title='Emissions in countries with emissions that have note yet peaked', \n",
    "                         plot_name=('not-peaked-' + variable),\n",
    "                         save_plot=True)\n"
   ]
  },
  {
   "cell_type": "markdown",
   "metadata": {},
   "source": [
    "### Testground below here!"
   ]
  },
  {
   "cell_type": "code",
   "execution_count": 7,
   "metadata": {},
   "outputs": [
    {
     "ename": "NameError",
     "evalue": "name 'calculate_trends' is not defined",
     "output_type": "error",
     "traceback": [
      "\u001b[0;31m---------------------------------------------------------------------------\u001b[0m",
      "\u001b[0;31mNameError\u001b[0m                                 Traceback (most recent call last)",
      "\u001b[0;32m<ipython-input-7-51888f96a62f>\u001b[0m in \u001b[0;36m<module>\u001b[0;34m\u001b[0m\n\u001b[1;32m      2\u001b[0m \u001b[0;31m# RESULTS - YES< IT'S WORKING.\u001b[0m\u001b[0;34m\u001b[0m\u001b[0;34m\u001b[0m\u001b[0m\n\u001b[1;32m      3\u001b[0m \u001b[0;34m\u001b[0m\u001b[0m\n\u001b[0;32m----> 4\u001b[0;31m \u001b[0mrecent_trends\u001b[0m\u001b[0;34m,\u001b[0m \u001b[0mrecent_trends_rolling\u001b[0m\u001b[0;34m,\u001b[0m \u001b[0munit\u001b[0m \u001b[0;34m=\u001b[0m \u001b[0mcalculate_trends\u001b[0m\u001b[0;34m(\u001b[0m\u001b[0mreduced_data\u001b[0m\u001b[0;34m,\u001b[0m \u001b[0mnum_years_trend\u001b[0m\u001b[0;34m=\u001b[0m\u001b[0;36m5\u001b[0m\u001b[0;34m)\u001b[0m\u001b[0;34m\u001b[0m\u001b[0m\n\u001b[0m\u001b[1;32m      5\u001b[0m \u001b[0;34m\u001b[0m\u001b[0m\n\u001b[1;32m      6\u001b[0m \u001b[0mtrends\u001b[0m \u001b[0;34m=\u001b[0m \u001b[0mrecent_trends\u001b[0m\u001b[0;34m.\u001b[0m\u001b[0mloc\u001b[0m\u001b[0;34m[\u001b[0m\u001b[0;34m'ZAF'\u001b[0m\u001b[0;34m]\u001b[0m\u001b[0;34m\u001b[0m\u001b[0m\n",
      "\u001b[0;31mNameError\u001b[0m: name 'calculate_trends' is not defined"
     ]
    }
   ],
   "source": [
    "# TEST CELL - CHECK THE ROLLLING AVERAGE CALCULATION IS CORRECT.\n",
    "# RESULTS - YES< IT'S WORKING.\n",
    "\n",
    "recent_trends, recent_trends_rolling, unit = calculate_trends(reduced_data, num_years_trend=5)\n",
    "\n",
    "trends = recent_trends.loc['ZAF']\n",
    "rolling = recent_trends_rolling.loc['ZAF']\n",
    "abs_emis = reduced_data.loc['ZAF']\n",
    "\n",
    "fig, ax = plt.subplots(2,1, sharex=True, sharey=False)\n",
    "ax[0].plot(trends.T)\n",
    "ax[0].axhline(0)\n",
    "ax[0].plot(rolling.T)\n",
    "#ax[1].axhline(0)\n",
    "ax[1].plot(abs_emis.T)\n",
    "plt.show()"
   ]
  },
  {
   "cell_type": "code",
   "execution_count": null,
   "metadata": {},
   "outputs": [],
   "source": []
  }
 ],
 "metadata": {
  "kernelspec": {
   "display_name": "Python 3",
   "language": "python",
   "name": "python3"
  },
  "language_info": {
   "codemirror_mode": {
    "name": "ipython",
    "version": 3
   },
   "file_extension": ".py",
   "mimetype": "text/x-python",
   "name": "python",
   "nbconvert_exporter": "python",
   "pygments_lexer": "ipython3",
   "version": "3.7.0"
  }
 },
 "nbformat": 4,
 "nbformat_minor": 2
}
